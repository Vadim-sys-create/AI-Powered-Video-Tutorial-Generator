{
  "nbformat": 4,
  "nbformat_minor": 0,
  "metadata": {
    "colab": {
      "provenance": [],
      "authorship_tag": "ABX9TyPgri9fCImsym8VACldbpo1",
      "include_colab_link": true
    },
    "kernelspec": {
      "name": "python3",
      "display_name": "Python 3"
    },
    "language_info": {
      "name": "python"
    }
  },
  "cells": [
    {
      "cell_type": "markdown",
      "metadata": {
        "id": "view-in-github",
        "colab_type": "text"
      },
      "source": [
        "<a href=\"https://colab.research.google.com/github/Vadim-sys-create/AI-Powered-Video-Tutorial-Generator/blob/main/Untitled45.ipynb\" target=\"_parent\"><img src=\"https://colab.research.google.com/assets/colab-badge.svg\" alt=\"Open In Colab\"/></a>"
      ]
    },
    {
      "cell_type": "code",
      "execution_count": 3,
      "metadata": {
        "colab": {
          "base_uri": "https://localhost:8080/"
        },
        "id": "-oNQG7V3xSF7",
        "outputId": "9a9db0de-d3a1-431b-ce19-3562e208168f"
      },
      "outputs": [
        {
          "output_type": "stream",
          "name": "stdout",
          "text": [
            "Cloning into 'AI-Powered-Video-Tutorial-Generator'...\n",
            "remote: Enumerating objects: 130, done.\u001b[K\n",
            "remote: Counting objects: 100% (130/130), done.\u001b[K\n",
            "remote: Compressing objects: 100% (126/126), done.\u001b[K\n",
            "remote: Total 130 (delta 34), reused 44 (delta 0), pack-reused 0 (from 0)\u001b[K\n",
            "Receiving objects: 100% (130/130), 12.51 MiB | 10.54 MiB/s, done.\n",
            "Resolving deltas: 100% (34/34), done.\n"
          ]
        }
      ],
      "source": [
        "!git clone https://github.com/Vadim-sys-create/AI-Powered-Video-Tutorial-Generator.git\n",
        "!cd AI-Powered-Video-Tutorial-Generator"
      ]
    },
    {
      "cell_type": "code",
      "source": [
        "!mkdir -p src/data\n",
        "!touch src/__init__.py src/main.py src/data/apikeys.json\n",
        "!touch README.md requirements.txt"
      ],
      "metadata": {
        "id": "joHTcBFI44I4"
      },
      "execution_count": 5,
      "outputs": []
    },
    {
      "cell_type": "code",
      "source": [
        "{\n",
        "  \"api_keys\": [\"GncEkPCDdOVRfMJ1voVzEiTz18fdc8uoLYpq5y6f\", \"your_api_key_2\"]\n",
        "}"
      ],
      "metadata": {
        "colab": {
          "base_uri": "https://localhost:8080/"
        },
        "id": "7QP30uSJ5VXX",
        "outputId": "2c9b35bd-e8b1-4f80-9663-eaa4503f0463"
      },
      "execution_count": 6,
      "outputs": [
        {
          "output_type": "execute_result",
          "data": {
            "text/plain": [
              "{'api_keys': ['GncEkPCDdOVRfMJ1voVzEiTz18fdc8uoLYpq5y6f', 'your_api_key_2']}"
            ]
          },
          "metadata": {},
          "execution_count": 6
        }
      ]
    },
    {
      "cell_type": "code",
      "source": [
        "!langchain\n",
        "cohere"
      ],
      "metadata": {
        "colab": {
          "base_uri": "https://localhost:8080/",
          "height": 176
        },
        "id": "-0ZszSOY5s50",
        "outputId": "749216ff-c4c0-4f75-bf9c-b1855e9c19e6"
      },
      "execution_count": 8,
      "outputs": [
        {
          "output_type": "stream",
          "name": "stdout",
          "text": [
            "/bin/bash: line 1: langchain: command not found\n"
          ]
        },
        {
          "output_type": "error",
          "ename": "NameError",
          "evalue": "name 'cohere' is not defined",
          "traceback": [
            "\u001b[0;31m---------------------------------------------------------------------------\u001b[0m",
            "\u001b[0;31mNameError\u001b[0m                                 Traceback (most recent call last)",
            "\u001b[0;32m<ipython-input-8-b8c3abf74053>\u001b[0m in \u001b[0;36m<cell line: 0>\u001b[0;34m()\u001b[0m\n\u001b[1;32m      1\u001b[0m \u001b[0mget_ipython\u001b[0m\u001b[0;34m(\u001b[0m\u001b[0;34m)\u001b[0m\u001b[0;34m.\u001b[0m\u001b[0msystem\u001b[0m\u001b[0;34m(\u001b[0m\u001b[0;34m'langchain'\u001b[0m\u001b[0;34m)\u001b[0m\u001b[0;34m\u001b[0m\u001b[0;34m\u001b[0m\u001b[0m\n\u001b[0;32m----> 2\u001b[0;31m \u001b[0mcohere\u001b[0m\u001b[0;34m\u001b[0m\u001b[0;34m\u001b[0m\u001b[0m\n\u001b[0m",
            "\u001b[0;31mNameError\u001b[0m: name 'cohere' is not defined"
          ]
        }
      ]
    },
    {
      "cell_type": "code",
      "source": [
        "# AI-Powered Video Tutorial Generator\n",
        "\n",
        "Этот проект генерирует сценарии для видеоуроков с использованием AI.\n",
        "\n",
        "## Установка\n",
        "\n",
        "1. Клонируйте репозиторий:\n",
        "   ```bash\n",
        "   !git clone https://github.com/Vadim-sys-create/AI-Powered-Video-Tutorial-Generator.git\n",
        "   !cd AI-Powered-Video-Tutorial-Generator"
      ],
      "metadata": {
        "colab": {
          "base_uri": "https://localhost:8080/",
          "height": 106
        },
        "id": "Ip2OOq7T52Se",
        "outputId": "f6413df9-ba4b-4871-8c28-e8444dbc70ab"
      },
      "execution_count": 11,
      "outputs": [
        {
          "output_type": "error",
          "ename": "SyntaxError",
          "evalue": "invalid syntax (<ipython-input-11-1269c34b2afd>, line 3)",
          "traceback": [
            "\u001b[0;36m  File \u001b[0;32m\"<ipython-input-11-1269c34b2afd>\"\u001b[0;36m, line \u001b[0;32m3\u001b[0m\n\u001b[0;31m    Этот проект генерирует сценарии для видеоуроков с использованием AI.\u001b[0m\n\u001b[0m         ^\u001b[0m\n\u001b[0;31mSyntaxError\u001b[0m\u001b[0;31m:\u001b[0m invalid syntax\n"
          ]
        }
      ]
    },
    {
      "cell_type": "code",
      "source": [
        "pip install -r requirements.txt"
      ],
      "metadata": {
        "id": "k_LiKJcJ6EAr"
      },
      "execution_count": 12,
      "outputs": []
    },
    {
      "cell_type": "code",
      "source": [
        "!python src/main.py"
      ],
      "metadata": {
        "id": "8VaRbUPm6LDr"
      },
      "execution_count": 14,
      "outputs": []
    },
    {
      "cell_type": "code",
      "source": [
        "\n",
        "### 6. Зафиксируйте изменения и отправьте на GitHub\n",
        "```bash\n",
        "git add .\n",
        "git commit -m \"Initial commit with project structure and code\"\n",
        "git branch -M main\n",
        "git push -u origin main"
      ],
      "metadata": {
        "colab": {
          "base_uri": "https://localhost:8080/",
          "height": 106
        },
        "id": "AwQj0iJl6VZ1",
        "outputId": "1616d6c3-f308-4602-ef71-2bd988ba2fdf"
      },
      "execution_count": 15,
      "outputs": [
        {
          "output_type": "error",
          "ename": "SyntaxError",
          "evalue": "invalid syntax (<ipython-input-15-ad4db5dbb977>, line 2)",
          "traceback": [
            "\u001b[0;36m  File \u001b[0;32m\"<ipython-input-15-ad4db5dbb977>\"\u001b[0;36m, line \u001b[0;32m2\u001b[0m\n\u001b[0;31m    ```bash\u001b[0m\n\u001b[0m    ^\u001b[0m\n\u001b[0;31mSyntaxError\u001b[0m\u001b[0;31m:\u001b[0m invalid syntax\n"
          ]
        }
      ]
    },
    {
      "cell_type": "code",
      "source": [
        "!python --version"
      ],
      "metadata": {
        "colab": {
          "base_uri": "https://localhost:8080/"
        },
        "id": "3E8BDRwd74OO",
        "outputId": "9aa077fc-5464-493a-8a01-d16c257bd358"
      },
      "execution_count": 17,
      "outputs": [
        {
          "output_type": "stream",
          "name": "stdout",
          "text": [
            "Python 3.11.11\n"
          ]
        }
      ]
    },
    {
      "cell_type": "code",
      "source": [
        "!install langchain langchain-community"
      ],
      "metadata": {
        "colab": {
          "base_uri": "https://localhost:8080/"
        },
        "id": "vr6WORcP8DZP",
        "outputId": "5127e01b-b921-4263-e4e6-60b4b0edf189"
      },
      "execution_count": 18,
      "outputs": [
        {
          "output_type": "stream",
          "name": "stdout",
          "text": [
            "install: cannot stat 'langchain': No such file or directory\n"
          ]
        }
      ]
    },
    {
      "cell_type": "code",
      "source": [
        "!pip install cohere"
      ],
      "metadata": {
        "colab": {
          "base_uri": "https://localhost:8080/"
        },
        "id": "e-ME4A7_8Jvv",
        "outputId": "ed4ea24c-fb9b-41bc-c4f4-7b06602994a4"
      },
      "execution_count": 19,
      "outputs": [
        {
          "output_type": "stream",
          "name": "stdout",
          "text": [
            "Collecting cohere\n",
            "  Downloading cohere-5.14.0-py3-none-any.whl.metadata (3.4 kB)\n",
            "Collecting fastavro<2.0.0,>=1.9.4 (from cohere)\n",
            "  Downloading fastavro-1.10.0-cp311-cp311-manylinux_2_17_x86_64.manylinux2014_x86_64.whl.metadata (5.5 kB)\n",
            "Requirement already satisfied: httpx>=0.21.2 in /usr/local/lib/python3.11/dist-packages (from cohere) (0.28.1)\n",
            "Collecting httpx-sse==0.4.0 (from cohere)\n",
            "  Downloading httpx_sse-0.4.0-py3-none-any.whl.metadata (9.0 kB)\n",
            "Requirement already satisfied: pydantic>=1.9.2 in /usr/local/lib/python3.11/dist-packages (from cohere) (2.10.6)\n",
            "Requirement already satisfied: pydantic-core<3.0.0,>=2.18.2 in /usr/local/lib/python3.11/dist-packages (from cohere) (2.27.2)\n",
            "Requirement already satisfied: requests<3.0.0,>=2.0.0 in /usr/local/lib/python3.11/dist-packages (from cohere) (2.32.3)\n",
            "Requirement already satisfied: tokenizers<1,>=0.15 in /usr/local/lib/python3.11/dist-packages (from cohere) (0.21.0)\n",
            "Collecting types-requests<3.0.0,>=2.0.0 (from cohere)\n",
            "  Downloading types_requests-2.32.0.20250306-py3-none-any.whl.metadata (2.3 kB)\n",
            "Requirement already satisfied: typing_extensions>=4.0.0 in /usr/local/lib/python3.11/dist-packages (from cohere) (4.12.2)\n",
            "Requirement already satisfied: anyio in /usr/local/lib/python3.11/dist-packages (from httpx>=0.21.2->cohere) (3.7.1)\n",
            "Requirement already satisfied: certifi in /usr/local/lib/python3.11/dist-packages (from httpx>=0.21.2->cohere) (2025.1.31)\n",
            "Requirement already satisfied: httpcore==1.* in /usr/local/lib/python3.11/dist-packages (from httpx>=0.21.2->cohere) (1.0.7)\n",
            "Requirement already satisfied: idna in /usr/local/lib/python3.11/dist-packages (from httpx>=0.21.2->cohere) (3.10)\n",
            "Requirement already satisfied: h11<0.15,>=0.13 in /usr/local/lib/python3.11/dist-packages (from httpcore==1.*->httpx>=0.21.2->cohere) (0.14.0)\n",
            "Requirement already satisfied: annotated-types>=0.6.0 in /usr/local/lib/python3.11/dist-packages (from pydantic>=1.9.2->cohere) (0.7.0)\n",
            "Requirement already satisfied: charset-normalizer<4,>=2 in /usr/local/lib/python3.11/dist-packages (from requests<3.0.0,>=2.0.0->cohere) (3.4.1)\n",
            "Requirement already satisfied: urllib3<3,>=1.21.1 in /usr/local/lib/python3.11/dist-packages (from requests<3.0.0,>=2.0.0->cohere) (2.3.0)\n",
            "Requirement already satisfied: huggingface-hub<1.0,>=0.16.4 in /usr/local/lib/python3.11/dist-packages (from tokenizers<1,>=0.15->cohere) (0.28.1)\n",
            "Requirement already satisfied: filelock in /usr/local/lib/python3.11/dist-packages (from huggingface-hub<1.0,>=0.16.4->tokenizers<1,>=0.15->cohere) (3.17.0)\n",
            "Requirement already satisfied: fsspec>=2023.5.0 in /usr/local/lib/python3.11/dist-packages (from huggingface-hub<1.0,>=0.16.4->tokenizers<1,>=0.15->cohere) (2024.10.0)\n",
            "Requirement already satisfied: packaging>=20.9 in /usr/local/lib/python3.11/dist-packages (from huggingface-hub<1.0,>=0.16.4->tokenizers<1,>=0.15->cohere) (24.2)\n",
            "Requirement already satisfied: pyyaml>=5.1 in /usr/local/lib/python3.11/dist-packages (from huggingface-hub<1.0,>=0.16.4->tokenizers<1,>=0.15->cohere) (6.0.2)\n",
            "Requirement already satisfied: tqdm>=4.42.1 in /usr/local/lib/python3.11/dist-packages (from huggingface-hub<1.0,>=0.16.4->tokenizers<1,>=0.15->cohere) (4.67.1)\n",
            "Requirement already satisfied: sniffio>=1.1 in /usr/local/lib/python3.11/dist-packages (from anyio->httpx>=0.21.2->cohere) (1.3.1)\n",
            "Downloading cohere-5.14.0-py3-none-any.whl (253 kB)\n",
            "\u001b[2K   \u001b[90m━━━━━━━━━━━━━━━━━━━━━━━━━━━━━━━━━━━━━━━━\u001b[0m \u001b[32m253.9/253.9 kB\u001b[0m \u001b[31m4.6 MB/s\u001b[0m eta \u001b[36m0:00:00\u001b[0m\n",
            "\u001b[?25hDownloading httpx_sse-0.4.0-py3-none-any.whl (7.8 kB)\n",
            "Downloading fastavro-1.10.0-cp311-cp311-manylinux_2_17_x86_64.manylinux2014_x86_64.whl (3.3 MB)\n",
            "\u001b[2K   \u001b[90m━━━━━━━━━━━━━━━━━━━━━━━━━━━━━━━━━━━━━━━━\u001b[0m \u001b[32m3.3/3.3 MB\u001b[0m \u001b[31m39.1 MB/s\u001b[0m eta \u001b[36m0:00:00\u001b[0m\n",
            "\u001b[?25hDownloading types_requests-2.32.0.20250306-py3-none-any.whl (20 kB)\n",
            "Installing collected packages: types-requests, httpx-sse, fastavro, cohere\n",
            "Successfully installed cohere-5.14.0 fastavro-1.10.0 httpx-sse-0.4.0 types-requests-2.32.0.20250306\n"
          ]
        }
      ]
    },
    {
      "cell_type": "code",
      "source": [
        "!pip list | grep langchain\n",
        "!pip list | grep cohere"
      ],
      "metadata": {
        "colab": {
          "base_uri": "https://localhost:8080/"
        },
        "id": "BLixpUtp8YKN",
        "outputId": "e57fb0ad-60ea-4112-8602-e7084894ccf7"
      },
      "execution_count": 20,
      "outputs": [
        {
          "output_type": "stream",
          "name": "stdout",
          "text": [
            "langchain                          0.3.20\n",
            "langchain-core                     0.3.41\n",
            "langchain-text-splitters           0.3.6\n",
            "cohere                             5.14.0\n"
          ]
        }
      ]
    },
    {
      "cell_type": "code",
      "source": [
        "!python src/main.py"
      ],
      "metadata": {
        "id": "gXZkIkBS8f9E"
      },
      "execution_count": 21,
      "outputs": []
    },
    {
      "cell_type": "code",
      "source": [
        "%cd /content/AI-Powered-Video-Tutorial-Generator\n",
        "!pip install -r requirements.txt"
      ],
      "metadata": {
        "colab": {
          "base_uri": "https://localhost:8080/"
        },
        "id": "YSBlu7qB9Y_1",
        "outputId": "798cedad-c915-475c-b3e2-4d89f214ba20"
      },
      "execution_count": 22,
      "outputs": [
        {
          "output_type": "stream",
          "name": "stdout",
          "text": [
            "/content/AI-Powered-Video-Tutorial-Generator\n",
            "\u001b[31mERROR: Could not open requirements file: [Errno 2] No such file or directory: 'requirements.txt'\u001b[0m\u001b[31m\n",
            "\u001b[0m"
          ]
        }
      ]
    },
    {
      "cell_type": "code",
      "source": [
        "!python /content/src/main.py"
      ],
      "metadata": {
        "id": "ow9XLTlJ9t6v"
      },
      "execution_count": 24,
      "outputs": []
    },
    {
      "cell_type": "code",
      "source": [
        "!pip install langchain langchain-community cohere"
      ],
      "metadata": {
        "colab": {
          "base_uri": "https://localhost:8080/"
        },
        "id": "M0Mj2HKS9-do",
        "outputId": "7da7e4da-6e44-486a-ea66-eca62bb561ac"
      },
      "execution_count": 25,
      "outputs": [
        {
          "output_type": "stream",
          "name": "stdout",
          "text": [
            "Requirement already satisfied: langchain in /usr/local/lib/python3.11/dist-packages (0.3.20)\n",
            "Collecting langchain-community\n",
            "  Downloading langchain_community-0.3.19-py3-none-any.whl.metadata (2.4 kB)\n",
            "Requirement already satisfied: cohere in /usr/local/lib/python3.11/dist-packages (5.14.0)\n",
            "Requirement already satisfied: langchain-core<1.0.0,>=0.3.41 in /usr/local/lib/python3.11/dist-packages (from langchain) (0.3.41)\n",
            "Requirement already satisfied: langchain-text-splitters<1.0.0,>=0.3.6 in /usr/local/lib/python3.11/dist-packages (from langchain) (0.3.6)\n",
            "Requirement already satisfied: langsmith<0.4,>=0.1.17 in /usr/local/lib/python3.11/dist-packages (from langchain) (0.3.11)\n",
            "Requirement already satisfied: pydantic<3.0.0,>=2.7.4 in /usr/local/lib/python3.11/dist-packages (from langchain) (2.10.6)\n",
            "Requirement already satisfied: SQLAlchemy<3,>=1.4 in /usr/local/lib/python3.11/dist-packages (from langchain) (2.0.38)\n",
            "Requirement already satisfied: requests<3,>=2 in /usr/local/lib/python3.11/dist-packages (from langchain) (2.32.3)\n",
            "Requirement already satisfied: PyYAML>=5.3 in /usr/local/lib/python3.11/dist-packages (from langchain) (6.0.2)\n",
            "Requirement already satisfied: aiohttp<4.0.0,>=3.8.3 in /usr/local/lib/python3.11/dist-packages (from langchain-community) (3.11.13)\n",
            "Requirement already satisfied: tenacity!=8.4.0,<10,>=8.1.0 in /usr/local/lib/python3.11/dist-packages (from langchain-community) (9.0.0)\n",
            "Collecting dataclasses-json<0.7,>=0.5.7 (from langchain-community)\n",
            "  Downloading dataclasses_json-0.6.7-py3-none-any.whl.metadata (25 kB)\n",
            "Collecting pydantic-settings<3.0.0,>=2.4.0 (from langchain-community)\n",
            "  Downloading pydantic_settings-2.8.1-py3-none-any.whl.metadata (3.5 kB)\n",
            "Requirement already satisfied: httpx-sse<1.0.0,>=0.4.0 in /usr/local/lib/python3.11/dist-packages (from langchain-community) (0.4.0)\n",
            "Requirement already satisfied: numpy<3,>=1.26.2 in /usr/local/lib/python3.11/dist-packages (from langchain-community) (1.26.4)\n",
            "Requirement already satisfied: fastavro<2.0.0,>=1.9.4 in /usr/local/lib/python3.11/dist-packages (from cohere) (1.10.0)\n",
            "Requirement already satisfied: httpx>=0.21.2 in /usr/local/lib/python3.11/dist-packages (from cohere) (0.28.1)\n",
            "Requirement already satisfied: pydantic-core<3.0.0,>=2.18.2 in /usr/local/lib/python3.11/dist-packages (from cohere) (2.27.2)\n",
            "Requirement already satisfied: tokenizers<1,>=0.15 in /usr/local/lib/python3.11/dist-packages (from cohere) (0.21.0)\n",
            "Requirement already satisfied: types-requests<3.0.0,>=2.0.0 in /usr/local/lib/python3.11/dist-packages (from cohere) (2.32.0.20250306)\n",
            "Requirement already satisfied: typing_extensions>=4.0.0 in /usr/local/lib/python3.11/dist-packages (from cohere) (4.12.2)\n",
            "Requirement already satisfied: aiohappyeyeballs>=2.3.0 in /usr/local/lib/python3.11/dist-packages (from aiohttp<4.0.0,>=3.8.3->langchain-community) (2.5.0)\n",
            "Requirement already satisfied: aiosignal>=1.1.2 in /usr/local/lib/python3.11/dist-packages (from aiohttp<4.0.0,>=3.8.3->langchain-community) (1.3.2)\n",
            "Requirement already satisfied: attrs>=17.3.0 in /usr/local/lib/python3.11/dist-packages (from aiohttp<4.0.0,>=3.8.3->langchain-community) (25.1.0)\n",
            "Requirement already satisfied: frozenlist>=1.1.1 in /usr/local/lib/python3.11/dist-packages (from aiohttp<4.0.0,>=3.8.3->langchain-community) (1.5.0)\n",
            "Requirement already satisfied: multidict<7.0,>=4.5 in /usr/local/lib/python3.11/dist-packages (from aiohttp<4.0.0,>=3.8.3->langchain-community) (6.1.0)\n",
            "Requirement already satisfied: propcache>=0.2.0 in /usr/local/lib/python3.11/dist-packages (from aiohttp<4.0.0,>=3.8.3->langchain-community) (0.3.0)\n",
            "Requirement already satisfied: yarl<2.0,>=1.17.0 in /usr/local/lib/python3.11/dist-packages (from aiohttp<4.0.0,>=3.8.3->langchain-community) (1.18.3)\n",
            "Collecting marshmallow<4.0.0,>=3.18.0 (from dataclasses-json<0.7,>=0.5.7->langchain-community)\n",
            "  Downloading marshmallow-3.26.1-py3-none-any.whl.metadata (7.3 kB)\n",
            "Collecting typing-inspect<1,>=0.4.0 (from dataclasses-json<0.7,>=0.5.7->langchain-community)\n",
            "  Downloading typing_inspect-0.9.0-py3-none-any.whl.metadata (1.5 kB)\n",
            "Requirement already satisfied: anyio in /usr/local/lib/python3.11/dist-packages (from httpx>=0.21.2->cohere) (3.7.1)\n",
            "Requirement already satisfied: certifi in /usr/local/lib/python3.11/dist-packages (from httpx>=0.21.2->cohere) (2025.1.31)\n",
            "Requirement already satisfied: httpcore==1.* in /usr/local/lib/python3.11/dist-packages (from httpx>=0.21.2->cohere) (1.0.7)\n",
            "Requirement already satisfied: idna in /usr/local/lib/python3.11/dist-packages (from httpx>=0.21.2->cohere) (3.10)\n",
            "Requirement already satisfied: h11<0.15,>=0.13 in /usr/local/lib/python3.11/dist-packages (from httpcore==1.*->httpx>=0.21.2->cohere) (0.14.0)\n",
            "Requirement already satisfied: jsonpatch<2.0,>=1.33 in /usr/local/lib/python3.11/dist-packages (from langchain-core<1.0.0,>=0.3.41->langchain) (1.33)\n",
            "Requirement already satisfied: packaging<25,>=23.2 in /usr/local/lib/python3.11/dist-packages (from langchain-core<1.0.0,>=0.3.41->langchain) (24.2)\n",
            "Requirement already satisfied: orjson<4.0.0,>=3.9.14 in /usr/local/lib/python3.11/dist-packages (from langsmith<0.4,>=0.1.17->langchain) (3.10.15)\n",
            "Requirement already satisfied: requests-toolbelt<2.0.0,>=1.0.0 in /usr/local/lib/python3.11/dist-packages (from langsmith<0.4,>=0.1.17->langchain) (1.0.0)\n",
            "Requirement already satisfied: zstandard<0.24.0,>=0.23.0 in /usr/local/lib/python3.11/dist-packages (from langsmith<0.4,>=0.1.17->langchain) (0.23.0)\n",
            "Requirement already satisfied: annotated-types>=0.6.0 in /usr/local/lib/python3.11/dist-packages (from pydantic<3.0.0,>=2.7.4->langchain) (0.7.0)\n",
            "Collecting python-dotenv>=0.21.0 (from pydantic-settings<3.0.0,>=2.4.0->langchain-community)\n",
            "  Downloading python_dotenv-1.0.1-py3-none-any.whl.metadata (23 kB)\n",
            "Requirement already satisfied: charset-normalizer<4,>=2 in /usr/local/lib/python3.11/dist-packages (from requests<3,>=2->langchain) (3.4.1)\n",
            "Requirement already satisfied: urllib3<3,>=1.21.1 in /usr/local/lib/python3.11/dist-packages (from requests<3,>=2->langchain) (2.3.0)\n",
            "Requirement already satisfied: greenlet!=0.4.17 in /usr/local/lib/python3.11/dist-packages (from SQLAlchemy<3,>=1.4->langchain) (3.1.1)\n",
            "Requirement already satisfied: huggingface-hub<1.0,>=0.16.4 in /usr/local/lib/python3.11/dist-packages (from tokenizers<1,>=0.15->cohere) (0.28.1)\n",
            "Requirement already satisfied: filelock in /usr/local/lib/python3.11/dist-packages (from huggingface-hub<1.0,>=0.16.4->tokenizers<1,>=0.15->cohere) (3.17.0)\n",
            "Requirement already satisfied: fsspec>=2023.5.0 in /usr/local/lib/python3.11/dist-packages (from huggingface-hub<1.0,>=0.16.4->tokenizers<1,>=0.15->cohere) (2024.10.0)\n",
            "Requirement already satisfied: tqdm>=4.42.1 in /usr/local/lib/python3.11/dist-packages (from huggingface-hub<1.0,>=0.16.4->tokenizers<1,>=0.15->cohere) (4.67.1)\n",
            "Requirement already satisfied: jsonpointer>=1.9 in /usr/local/lib/python3.11/dist-packages (from jsonpatch<2.0,>=1.33->langchain-core<1.0.0,>=0.3.41->langchain) (3.0.0)\n",
            "Collecting mypy-extensions>=0.3.0 (from typing-inspect<1,>=0.4.0->dataclasses-json<0.7,>=0.5.7->langchain-community)\n",
            "  Downloading mypy_extensions-1.0.0-py3-none-any.whl.metadata (1.1 kB)\n",
            "Requirement already satisfied: sniffio>=1.1 in /usr/local/lib/python3.11/dist-packages (from anyio->httpx>=0.21.2->cohere) (1.3.1)\n",
            "Downloading langchain_community-0.3.19-py3-none-any.whl (2.5 MB)\n",
            "\u001b[2K   \u001b[90m━━━━━━━━━━━━━━━━━━━━━━━━━━━━━━━━━━━━━━━━\u001b[0m \u001b[32m2.5/2.5 MB\u001b[0m \u001b[31m27.8 MB/s\u001b[0m eta \u001b[36m0:00:00\u001b[0m\n",
            "\u001b[?25hDownloading dataclasses_json-0.6.7-py3-none-any.whl (28 kB)\n",
            "Downloading pydantic_settings-2.8.1-py3-none-any.whl (30 kB)\n",
            "Downloading marshmallow-3.26.1-py3-none-any.whl (50 kB)\n",
            "\u001b[2K   \u001b[90m━━━━━━━━━━━━━━━━━━━━━━━━━━━━━━━━━━━━━━━━\u001b[0m \u001b[32m50.9/50.9 kB\u001b[0m \u001b[31m3.3 MB/s\u001b[0m eta \u001b[36m0:00:00\u001b[0m\n",
            "\u001b[?25hDownloading python_dotenv-1.0.1-py3-none-any.whl (19 kB)\n",
            "Downloading typing_inspect-0.9.0-py3-none-any.whl (8.8 kB)\n",
            "Downloading mypy_extensions-1.0.0-py3-none-any.whl (4.7 kB)\n",
            "Installing collected packages: python-dotenv, mypy-extensions, marshmallow, typing-inspect, pydantic-settings, dataclasses-json, langchain-community\n",
            "Successfully installed dataclasses-json-0.6.7 langchain-community-0.3.19 marshmallow-3.26.1 mypy-extensions-1.0.0 pydantic-settings-2.8.1 python-dotenv-1.0.1 typing-inspect-0.9.0\n"
          ]
        }
      ]
    },
    {
      "cell_type": "code",
      "source": [
        "```text\n",
        "/content/project/\n",
        "├── src/\n",
        "│   ├── __init__.py\n",
        "│   ├── main.py\n",
        "│   └── data/\n",
        "│       └── apikeys.json\n",
        "├── requirements.txt\n",
        "└── README.md\n",
        "```\n",
        "│   └── data/\n",
        "│       └── apikeys.json\n",
        "├── requirements.txt\n",
        "└── README.md"
      ],
      "metadata": {
        "colab": {
          "base_uri": "https://localhost:8080/",
          "height": 106
        },
        "id": "ziBuQCRY-K2v",
        "outputId": "c0696ac5-0dd8-47e3-fe21-6a9f9d0c536e"
      },
      "execution_count": 26,
      "outputs": [
        {
          "output_type": "error",
          "ename": "SyntaxError",
          "evalue": "invalid character '├' (U+251C) (<ipython-input-26-bdbd75338a43>, line 2)",
          "traceback": [
            "\u001b[0;36m  File \u001b[0;32m\"<ipython-input-26-bdbd75338a43>\"\u001b[0;36m, line \u001b[0;32m2\u001b[0m\n\u001b[0;31m    ├── src/\u001b[0m\n\u001b[0m    ^\u001b[0m\n\u001b[0;31mSyntaxError\u001b[0m\u001b[0;31m:\u001b[0m invalid character '├' (U+251C)\n"
          ]
        }
      ]
    },
    {
      "cell_type": "code",
      "source": [
        "/content/AI-Powered-Video-Tutorial-Generator\n",
        "├── src/\n",
        "│   ├── __init__.py\n",
        "│   ├── main.py\n",
        "│   └── data/\n",
        "│       └── apikeys.json\n",
        "├── requirements.txt\n",
        "└── README.md"
      ],
      "metadata": {
        "colab": {
          "base_uri": "https://localhost:8080/",
          "height": 106
        },
        "id": "MGZ-OG3l-kpP",
        "outputId": "a4857382-50a5-4b44-d25a-d82ba7762bbd"
      },
      "execution_count": 27,
      "outputs": [
        {
          "output_type": "error",
          "ename": "SyntaxError",
          "evalue": "invalid character '├' (U+251C) (<ipython-input-27-edaab792eaff>, line 2)",
          "traceback": [
            "\u001b[0;36m  File \u001b[0;32m\"<ipython-input-27-edaab792eaff>\"\u001b[0;36m, line \u001b[0;32m2\u001b[0m\n\u001b[0;31m    ├── src/\u001b[0m\n\u001b[0m    ^\u001b[0m\n\u001b[0;31mSyntaxError\u001b[0m\u001b[0;31m:\u001b[0m invalid character '├' (U+251C)\n"
          ]
        }
      ]
    },
    {
      "cell_type": "code",
      "source": [
        "%cd /content/AI-Powered-Video-Tutorial-Generator/backend/src\n",
        "!python main.py"
      ],
      "metadata": {
        "colab": {
          "base_uri": "https://localhost:8080/"
        },
        "id": "dyzV_uSJ-nDX",
        "outputId": "1a146444-b77e-4144-f595-361d63e3efc8"
      },
      "execution_count": 29,
      "outputs": [
        {
          "output_type": "stream",
          "name": "stdout",
          "text": [
            "/content/AI-Powered-Video-Tutorial-Generator/backend/src\n",
            "python3: can't open file '/content/AI-Powered-Video-Tutorial-Generator/backend/src/main.py': [Errno 2] No such file or directory\n"
          ]
        }
      ]
    },
    {
      "cell_type": "code",
      "source": [
        "%cd /content/AI-Powered-Video-Tutorial-Generator"
      ],
      "metadata": {
        "colab": {
          "base_uri": "https://localhost:8080/"
        },
        "id": "937pxC2nDxCO",
        "outputId": "302f4193-f719-4a9c-b9f8-4c24df1b90c5"
      },
      "execution_count": 31,
      "outputs": [
        {
          "output_type": "stream",
          "name": "stdout",
          "text": [
            "/content/AI-Powered-Video-Tutorial-Generator\n"
          ]
        }
      ]
    },
    {
      "cell_type": "code",
      "source": [
        "!pip install -r /content/AI-Powered-Video-Tutorial-Generator/backend/requirements.txt"
      ],
      "metadata": {
        "colab": {
          "base_uri": "https://localhost:8080/"
        },
        "id": "PB3ipWsYD7Vd",
        "outputId": "2ebbfc8b-0f01-4e1d-94be-0a50f8e74566"
      },
      "execution_count": 33,
      "outputs": [
        {
          "output_type": "stream",
          "name": "stdout",
          "text": [
            "Collecting cohere==4.7.0 (from -r /content/AI-Powered-Video-Tutorial-Generator/backend/requirements.txt (line 1))\n",
            "  Downloading cohere-4.7.0-py3-none-any.whl.metadata (5.0 kB)\n",
            "Requirement already satisfied: decorator==4.4.2 in /usr/local/lib/python3.11/dist-packages (from -r /content/AI-Powered-Video-Tutorial-Generator/backend/requirements.txt (line 2)) (4.4.2)\n",
            "Collecting edge-tts==6.1.6 (from -r /content/AI-Powered-Video-Tutorial-Generator/backend/requirements.txt (line 3))\n",
            "  Downloading edge_tts-6.1.6-py3-none-any.whl.metadata (4.2 kB)\n",
            "Collecting fastapi==0.96.0 (from -r /content/AI-Powered-Video-Tutorial-Generator/backend/requirements.txt (line 4))\n",
            "  Downloading fastapi-0.96.0-py3-none-any.whl.metadata (24 kB)\n",
            "Collecting ffmpeg==1.4 (from -r /content/AI-Powered-Video-Tutorial-Generator/backend/requirements.txt (line 5))\n",
            "  Downloading ffmpeg-1.4.tar.gz (5.1 kB)\n",
            "  Preparing metadata (setup.py) ... \u001b[?25l\u001b[?25hdone\n",
            "Collecting imageio==2.19.3 (from -r /content/AI-Powered-Video-Tutorial-Generator/backend/requirements.txt (line 6))\n",
            "  Downloading imageio-2.19.3-py3-none-any.whl.metadata (4.9 kB)\n",
            "Collecting imageio-ffmpeg==0.4.7 (from -r /content/AI-Powered-Video-Tutorial-Generator/backend/requirements.txt (line 7))\n",
            "  Downloading imageio_ffmpeg-0.4.7-py3-none-manylinux2010_x86_64.whl.metadata (1.6 kB)\n",
            "Collecting langchain==0.0.189 (from -r /content/AI-Powered-Video-Tutorial-Generator/backend/requirements.txt (line 8))\n",
            "  Downloading langchain-0.0.189-py3-none-any.whl.metadata (12 kB)\n",
            "Requirement already satisfied: moviepy==1.0.3 in /usr/local/lib/python3.11/dist-packages (from -r /content/AI-Powered-Video-Tutorial-Generator/backend/requirements.txt (line 9)) (1.0.3)\n",
            "Collecting opencv-python==4.7.0.72 (from -r /content/AI-Powered-Video-Tutorial-Generator/backend/requirements.txt (line 10))\n",
            "  Downloading opencv_python-4.7.0.72-cp37-abi3-manylinux_2_17_x86_64.manylinux2014_x86_64.whl.metadata (18 kB)\n",
            "Collecting Pillow==9.5.0 (from -r /content/AI-Powered-Video-Tutorial-Generator/backend/requirements.txt (line 11))\n",
            "  Downloading Pillow-9.5.0-cp311-cp311-manylinux_2_28_x86_64.whl.metadata (9.5 kB)\n",
            "Collecting pygoogle-image==1.0.0 (from -r /content/AI-Powered-Video-Tutorial-Generator/backend/requirements.txt (line 12))\n",
            "  Downloading pygoogle_image-1.0.0.tar.gz (3.4 kB)\n",
            "  Preparing metadata (setup.py) ... \u001b[?25l\u001b[?25hdone\n",
            "Collecting uvicorn==0.22.0 (from -r /content/AI-Powered-Video-Tutorial-Generator/backend/requirements.txt (line 13))\n",
            "  Downloading uvicorn-0.22.0-py3-none-any.whl.metadata (6.3 kB)\n",
            "Requirement already satisfied: aiohttp<4.0,>=3.0 in /usr/local/lib/python3.11/dist-packages (from cohere==4.7.0->-r /content/AI-Powered-Video-Tutorial-Generator/backend/requirements.txt (line 1)) (3.11.13)\n",
            "Collecting backoff<3.0,>=2.0 (from cohere==4.7.0->-r /content/AI-Powered-Video-Tutorial-Generator/backend/requirements.txt (line 1))\n",
            "  Downloading backoff-2.2.1-py3-none-any.whl.metadata (14 kB)\n",
            "Requirement already satisfied: requests<3.0,>=2.0 in /usr/local/lib/python3.11/dist-packages (from cohere==4.7.0->-r /content/AI-Powered-Video-Tutorial-Generator/backend/requirements.txt (line 1)) (2.32.3)\n",
            "Collecting pydantic!=1.7,!=1.7.1,!=1.7.2,!=1.7.3,!=1.8,!=1.8.1,<2.0.0,>=1.6.2 (from fastapi==0.96.0->-r /content/AI-Powered-Video-Tutorial-Generator/backend/requirements.txt (line 4))\n",
            "  Downloading pydantic-1.10.21-cp311-cp311-manylinux_2_17_x86_64.manylinux2014_x86_64.whl.metadata (153 kB)\n",
            "\u001b[2K     \u001b[90m━━━━━━━━━━━━━━━━━━━━━━━━━━━━━━━━━━━━━━━━\u001b[0m \u001b[32m153.9/153.9 kB\u001b[0m \u001b[31m5.2 MB/s\u001b[0m eta \u001b[36m0:00:00\u001b[0m\n",
            "\u001b[?25hCollecting starlette<0.28.0,>=0.27.0 (from fastapi==0.96.0->-r /content/AI-Powered-Video-Tutorial-Generator/backend/requirements.txt (line 4))\n",
            "  Downloading starlette-0.27.0-py3-none-any.whl.metadata (5.8 kB)\n",
            "Requirement already satisfied: numpy in /usr/local/lib/python3.11/dist-packages (from imageio==2.19.3->-r /content/AI-Powered-Video-Tutorial-Generator/backend/requirements.txt (line 6)) (1.26.4)\n",
            "Requirement already satisfied: PyYAML>=5.4.1 in /usr/local/lib/python3.11/dist-packages (from langchain==0.0.189->-r /content/AI-Powered-Video-Tutorial-Generator/backend/requirements.txt (line 8)) (6.0.2)\n",
            "Requirement already satisfied: SQLAlchemy<3,>=1.4 in /usr/local/lib/python3.11/dist-packages (from langchain==0.0.189->-r /content/AI-Powered-Video-Tutorial-Generator/backend/requirements.txt (line 8)) (2.0.38)\n",
            "Collecting dataclasses-json<0.6.0,>=0.5.7 (from langchain==0.0.189->-r /content/AI-Powered-Video-Tutorial-Generator/backend/requirements.txt (line 8))\n",
            "  Downloading dataclasses_json-0.5.14-py3-none-any.whl.metadata (22 kB)\n",
            "Requirement already satisfied: numexpr<3.0.0,>=2.8.4 in /usr/local/lib/python3.11/dist-packages (from langchain==0.0.189->-r /content/AI-Powered-Video-Tutorial-Generator/backend/requirements.txt (line 8)) (2.10.2)\n",
            "Collecting openapi-schema-pydantic<2.0,>=1.2 (from langchain==0.0.189->-r /content/AI-Powered-Video-Tutorial-Generator/backend/requirements.txt (line 8))\n",
            "  Downloading openapi_schema_pydantic-1.2.4-py3-none-any.whl.metadata (8.5 kB)\n",
            "Collecting tenacity<9.0.0,>=8.1.0 (from langchain==0.0.189->-r /content/AI-Powered-Video-Tutorial-Generator/backend/requirements.txt (line 8))\n",
            "  Downloading tenacity-8.5.0-py3-none-any.whl.metadata (1.2 kB)\n",
            "Requirement already satisfied: tqdm<5.0,>=4.11.2 in /usr/local/lib/python3.11/dist-packages (from moviepy==1.0.3->-r /content/AI-Powered-Video-Tutorial-Generator/backend/requirements.txt (line 9)) (4.67.1)\n",
            "Requirement already satisfied: proglog<=1.0.0 in /usr/local/lib/python3.11/dist-packages (from moviepy==1.0.3->-r /content/AI-Powered-Video-Tutorial-Generator/backend/requirements.txt (line 9)) (0.1.10)\n",
            "INFO: pip is looking at multiple versions of pygoogle-image to determine which version is compatible with other requirements. This could take a while.\n",
            "\u001b[31mERROR: Ignored the following versions that require a different python version: 4.0.0 Requires-Python >=3.7,<3.11\u001b[0m\u001b[31m\n",
            "\u001b[0m\u001b[31mERROR: Could not find a version that satisfies the requirement python-magic-bin==0.4.14 (from pygoogle-image) (from versions: none)\u001b[0m\u001b[31m\n",
            "\u001b[0m\u001b[31mERROR: No matching distribution found for python-magic-bin==0.4.14\u001b[0m\u001b[31m\n",
            "\u001b[0m"
          ]
        }
      ]
    },
    {
      "cell_type": "code",
      "source": [
        "!ls /content/AI-Powered-Video-Tutorial-Generator/backend/"
      ],
      "metadata": {
        "colab": {
          "base_uri": "https://localhost:8080/"
        },
        "id": "qQzOsCijEihs",
        "outputId": "91aabcb4-536e-4f87-8cda-85e112bf9cc5"
      },
      "execution_count": 35,
      "outputs": [
        {
          "output_type": "stream",
          "name": "stdout",
          "text": [
            "backup.jpg\n"
          ]
        }
      ]
    },
    {
      "cell_type": "code",
      "source": [
        "!pwd"
      ],
      "metadata": {
        "colab": {
          "base_uri": "https://localhost:8080/"
        },
        "id": "CfRHVXOcE-El",
        "outputId": "4f45e141-7358-4a35-869f-75677157d71c"
      },
      "execution_count": 36,
      "outputs": [
        {
          "output_type": "stream",
          "name": "stdout",
          "text": [
            "/content/AI-Powered-Video-Tutorial-Generator\n"
          ]
        }
      ]
    },
    {
      "cell_type": "code",
      "source": [
        "!ls"
      ],
      "metadata": {
        "colab": {
          "base_uri": "https://localhost:8080/"
        },
        "id": "HBAkGdOHFCHC",
        "outputId": "ba7a1139-671a-44e1-91fe-5df7d048b842"
      },
      "execution_count": 37,
      "outputs": [
        {
          "output_type": "stream",
          "name": "stdout",
          "text": [
            "backend  frontend  LICENSE  README.md\n"
          ]
        }
      ]
    },
    {
      "cell_type": "code",
      "source": [
        "%cd /content/AI-Powered-Video-Tutorial-Generator/backend\n"
      ],
      "metadata": {
        "colab": {
          "base_uri": "https://localhost:8080/"
        },
        "id": "25mB3JlRFNUg",
        "outputId": "1b65c832-8190-439d-f580-d6936d360338"
      },
      "execution_count": 40,
      "outputs": [
        {
          "output_type": "stream",
          "name": "stdout",
          "text": [
            "/content/AI-Powered-Video-Tutorial-Generator/backend\n"
          ]
        }
      ]
    },
    {
      "cell_type": "code",
      "source": [
        "%cd /content/AI-Powered-Video-Tutorial-Generator/backend/src/\n"
      ],
      "metadata": {
        "colab": {
          "base_uri": "https://localhost:8080/"
        },
        "outputId": "34c6e347-d05e-4576-d4b7-3dc7bbf0b8a3",
        "id": "DGiARCZpF6YR"
      },
      "execution_count": 41,
      "outputs": [
        {
          "output_type": "stream",
          "name": "stdout",
          "text": [
            "/content/AI-Powered-Video-Tutorial-Generator/backend/src\n"
          ]
        }
      ]
    },
    {
      "cell_type": "code",
      "source": [
        "%cd /content/AI-Powered-Video-Tutorial-Generator/backend/src"
      ],
      "metadata": {
        "colab": {
          "base_uri": "https://localhost:8080/"
        },
        "id": "8Rm8VuM-GOvu",
        "outputId": "b66e517c-4805-4e36-d587-fbf000b14613"
      },
      "execution_count": 43,
      "outputs": [
        {
          "output_type": "stream",
          "name": "stdout",
          "text": [
            "/content/AI-Powered-Video-Tutorial-Generator/backend/src\n"
          ]
        }
      ]
    },
    {
      "cell_type": "code",
      "source": [
        "!python main.py"
      ],
      "metadata": {
        "colab": {
          "base_uri": "https://localhost:8080/"
        },
        "id": "02ePjtwMGdpO",
        "outputId": "8f6b38f3-af89-4b51-b63b-a79f21c15b3d"
      },
      "execution_count": 44,
      "outputs": [
        {
          "output_type": "stream",
          "name": "stdout",
          "text": [
            "python3: can't open file '/content/AI-Powered-Video-Tutorial-Generator/backend/src/main.py': [Errno 2] No such file or directory\n"
          ]
        }
      ]
    },
    {
      "cell_type": "code",
      "source": [
        "!python /content/AI-Powered-Video-Tutorial-Generator/backend/main.py"
      ],
      "metadata": {
        "colab": {
          "base_uri": "https://localhost:8080/"
        },
        "id": "mPmxRmaxGicN",
        "outputId": "7f68bc9f-89e5-47d2-c081-724969dc050f"
      },
      "execution_count": 47,
      "outputs": [
        {
          "output_type": "stream",
          "name": "stdout",
          "text": [
            "Traceback (most recent call last):\n",
            "  File \"/content/AI-Powered-Video-Tutorial-Generator/backend/main.py\", line 1, in <module>\n",
            "    from fastapi import FastAPI, HTTPException, Request, Depends, File\n",
            "ModuleNotFoundError: No module named 'fastapi'\n"
          ]
        }
      ]
    },
    {
      "cell_type": "code",
      "source": [
        "%cd /content/AI-Powered-Video-Tutorial-Generator"
      ],
      "metadata": {
        "colab": {
          "base_uri": "https://localhost:8080/"
        },
        "id": "cysNuS64KNlT",
        "outputId": "81bb0796-dc8d-4aa5-8ce7-9642ff40aab2"
      },
      "execution_count": 57,
      "outputs": [
        {
          "output_type": "stream",
          "name": "stdout",
          "text": [
            "/content/AI-Powered-Video-Tutorial-Generator\n"
          ]
        }
      ]
    },
    {
      "cell_type": "code",
      "source": [
        "!ls"
      ],
      "metadata": {
        "colab": {
          "base_uri": "https://localhost:8080/"
        },
        "id": "wUjQS8H_KW4W",
        "outputId": "87e977f3-9016-41bb-d990-cb264283f11b"
      },
      "execution_count": 58,
      "outputs": [
        {
          "output_type": "stream",
          "name": "stdout",
          "text": [
            "backend  frontend  LICENSE  README.md\n"
          ]
        }
      ]
    },
    {
      "cell_type": "code",
      "source": [
        "!find /content/AI-Powered-Video-Tutorial-Generator -name \"main.py\""
      ],
      "metadata": {
        "colab": {
          "base_uri": "https://localhost:8080/"
        },
        "id": "rLOqoRDnKcGa",
        "outputId": "531b1382-fd43-4091-913d-e639323d1c5b"
      },
      "execution_count": 60,
      "outputs": [
        {
          "output_type": "stream",
          "name": "stdout",
          "text": [
            "/content/AI-Powered-Video-Tutorial-Generator/backend/main.py\n"
          ]
        }
      ]
    },
    {
      "cell_type": "code",
      "source": [
        "!pip install python-magic"
      ],
      "metadata": {
        "colab": {
          "base_uri": "https://localhost:8080/"
        },
        "id": "FAC_eaINM-nq",
        "outputId": "48bfd3a0-e18e-47e2-83ec-78ad36892dff"
      },
      "execution_count": 67,
      "outputs": [
        {
          "output_type": "stream",
          "name": "stdout",
          "text": [
            "Requirement already satisfied: python-magic in /usr/local/lib/python3.11/dist-packages (0.4.27)\n"
          ]
        }
      ]
    },
    {
      "cell_type": "code",
      "source": [
        "!pip install google-images-download"
      ],
      "metadata": {
        "colab": {
          "base_uri": "https://localhost:8080/"
        },
        "id": "Cu_KpYq-NPUa",
        "outputId": "944a6db3-868b-454d-8905-25eff8765134"
      },
      "execution_count": 69,
      "outputs": [
        {
          "output_type": "stream",
          "name": "stdout",
          "text": [
            "Collecting google-images-download\n",
            "  Downloading google_images_download-2.8.0.tar.gz (14 kB)\n",
            "  Preparing metadata (setup.py) ... \u001b[?25l\u001b[?25hdone\n",
            "Collecting selenium (from google-images-download)\n",
            "  Downloading selenium-4.29.0-py3-none-any.whl.metadata (7.1 kB)\n",
            "Requirement already satisfied: urllib3<3,>=1.26 in /usr/local/lib/python3.11/dist-packages (from urllib3[socks]<3,>=1.26->selenium->google-images-download) (2.3.0)\n",
            "Collecting trio~=0.17 (from selenium->google-images-download)\n",
            "  Downloading trio-0.29.0-py3-none-any.whl.metadata (8.5 kB)\n",
            "Collecting trio-websocket~=0.9 (from selenium->google-images-download)\n",
            "  Downloading trio_websocket-0.12.2-py3-none-any.whl.metadata (5.1 kB)\n",
            "Requirement already satisfied: certifi>=2021.10.8 in /usr/local/lib/python3.11/dist-packages (from selenium->google-images-download) (2025.1.31)\n",
            "Requirement already satisfied: typing_extensions~=4.9 in /usr/local/lib/python3.11/dist-packages (from selenium->google-images-download) (4.12.2)\n",
            "Requirement already satisfied: websocket-client~=1.8 in /usr/local/lib/python3.11/dist-packages (from selenium->google-images-download) (1.8.0)\n",
            "Requirement already satisfied: attrs>=23.2.0 in /usr/local/lib/python3.11/dist-packages (from trio~=0.17->selenium->google-images-download) (25.1.0)\n",
            "Requirement already satisfied: sortedcontainers in /usr/local/lib/python3.11/dist-packages (from trio~=0.17->selenium->google-images-download) (2.4.0)\n",
            "Requirement already satisfied: idna in /usr/local/lib/python3.11/dist-packages (from trio~=0.17->selenium->google-images-download) (3.10)\n",
            "Collecting outcome (from trio~=0.17->selenium->google-images-download)\n",
            "  Downloading outcome-1.3.0.post0-py2.py3-none-any.whl.metadata (2.6 kB)\n",
            "Requirement already satisfied: sniffio>=1.3.0 in /usr/local/lib/python3.11/dist-packages (from trio~=0.17->selenium->google-images-download) (1.3.1)\n",
            "Collecting wsproto>=0.14 (from trio-websocket~=0.9->selenium->google-images-download)\n",
            "  Downloading wsproto-1.2.0-py3-none-any.whl.metadata (5.6 kB)\n",
            "Requirement already satisfied: pysocks!=1.5.7,<2.0,>=1.5.6 in /usr/local/lib/python3.11/dist-packages (from urllib3[socks]<3,>=1.26->selenium->google-images-download) (1.7.1)\n",
            "Requirement already satisfied: h11<1,>=0.9.0 in /usr/local/lib/python3.11/dist-packages (from wsproto>=0.14->trio-websocket~=0.9->selenium->google-images-download) (0.14.0)\n",
            "Downloading selenium-4.29.0-py3-none-any.whl (9.5 MB)\n",
            "\u001b[2K   \u001b[90m━━━━━━━━━━━━━━━━━━━━━━━━━━━━━━━━━━━━━━━━\u001b[0m \u001b[32m9.5/9.5 MB\u001b[0m \u001b[31m51.0 MB/s\u001b[0m eta \u001b[36m0:00:00\u001b[0m\n",
            "\u001b[?25hDownloading trio-0.29.0-py3-none-any.whl (492 kB)\n",
            "\u001b[2K   \u001b[90m━━━━━━━━━━━━━━━━━━━━━━━━━━━━━━━━━━━━━━━━\u001b[0m \u001b[32m492.9/492.9 kB\u001b[0m \u001b[31m26.7 MB/s\u001b[0m eta \u001b[36m0:00:00\u001b[0m\n",
            "\u001b[?25hDownloading trio_websocket-0.12.2-py3-none-any.whl (21 kB)\n",
            "Downloading outcome-1.3.0.post0-py2.py3-none-any.whl (10 kB)\n",
            "Downloading wsproto-1.2.0-py3-none-any.whl (24 kB)\n",
            "Building wheels for collected packages: google-images-download\n",
            "  Building wheel for google-images-download (setup.py) ... \u001b[?25l\u001b[?25hdone\n",
            "  Created wheel for google-images-download: filename=google_images_download-2.8.0-py2.py3-none-any.whl size=14537 sha256=22897abc76e853fad7cb4d3440e5bfc92008e5e0719a0b841ba5de9689f28ff3\n",
            "  Stored in directory: /root/.cache/pip/wheels/dc/83/37/7303b15f3e8a5bfbd5c7ebbfe13f0c666ada6f8efecc6d77ec\n",
            "Successfully built google-images-download\n",
            "Installing collected packages: wsproto, outcome, trio, trio-websocket, selenium, google-images-download\n",
            "Successfully installed google-images-download-2.8.0 outcome-1.3.0.post0 selenium-4.29.0 trio-0.29.0 trio-websocket-0.12.2 wsproto-1.2.0\n"
          ]
        }
      ]
    },
    {
      "cell_type": "code",
      "source": [
        "!python --version"
      ],
      "metadata": {
        "colab": {
          "base_uri": "https://localhost:8080/"
        },
        "id": "K79QyfkZNW6x",
        "outputId": "9f3807dd-8d1c-45bf-a891-9639251904fe"
      },
      "execution_count": 70,
      "outputs": [
        {
          "output_type": "stream",
          "name": "stdout",
          "text": [
            "Python 3.11.11\n"
          ]
        }
      ]
    },
    {
      "cell_type": "code",
      "source": [
        "!apt update\n",
        "!apt install -y make build-essential libssl-dev zlib1g-dev \\\n",
        "libbz2-dev libreadline-dev libsqlite3-dev wget curl llvm \\\n",
        "libncurses5-dev libncursesw5-dev xz-utils tk-dev libffi-dev \\\n",
        "liblzma-dev python-openssl git\n",
        "!curl https://pyenv.run | bash"
      ],
      "metadata": {
        "colab": {
          "base_uri": "https://localhost:8080/"
        },
        "id": "T_SHIdXLNW3o",
        "outputId": "51985f5b-8268-40fa-abb6-217e2bbcb2dc"
      },
      "execution_count": 71,
      "outputs": [
        {
          "output_type": "stream",
          "name": "stdout",
          "text": [
            "\u001b[33m\r0% [Working]\u001b[0m\r            \rGet:1 https://cloud.r-project.org/bin/linux/ubuntu jammy-cran40/ InRelease [3,632 B]\n",
            "Get:2 https://developer.download.nvidia.com/compute/cuda/repos/ubuntu2204/x86_64  InRelease [1,581 B]\n",
            "Get:3 https://developer.download.nvidia.com/compute/cuda/repos/ubuntu2204/x86_64  Packages [1,370 kB]\n",
            "Get:4 http://security.ubuntu.com/ubuntu jammy-security InRelease [129 kB]\n",
            "Hit:5 http://archive.ubuntu.com/ubuntu jammy InRelease\n",
            "Get:6 http://archive.ubuntu.com/ubuntu jammy-updates InRelease [128 kB]\n",
            "Get:7 https://r2u.stat.illinois.edu/ubuntu jammy InRelease [6,555 B]\n",
            "Hit:8 https://ppa.launchpadcontent.net/deadsnakes/ppa/ubuntu jammy InRelease\n",
            "Hit:9 https://ppa.launchpadcontent.net/graphics-drivers/ppa/ubuntu jammy InRelease\n",
            "Get:10 https://r2u.stat.illinois.edu/ubuntu jammy/main all Packages [8,731 kB]\n",
            "Get:11 http://security.ubuntu.com/ubuntu jammy-security/main amd64 Packages [2,682 kB]\n",
            "Hit:12 https://ppa.launchpadcontent.net/ubuntugis/ppa/ubuntu jammy InRelease\n",
            "Get:13 http://archive.ubuntu.com/ubuntu jammy-backports InRelease [127 kB]\n",
            "Get:14 http://archive.ubuntu.com/ubuntu jammy-updates/main amd64 Packages [2,988 kB]\n",
            "Get:15 http://security.ubuntu.com/ubuntu jammy-security/universe amd64 Packages [1,235 kB]\n",
            "Get:16 http://archive.ubuntu.com/ubuntu jammy-updates/restricted amd64 Packages [3,934 kB]\n",
            "Get:17 http://archive.ubuntu.com/ubuntu jammy-updates/universe amd64 Packages [1,533 kB]\n",
            "Get:18 https://r2u.stat.illinois.edu/ubuntu jammy/main amd64 Packages [2,668 kB]\n",
            "Fetched 25.5 MB in 4s (5,783 kB/s)\n",
            "Reading package lists... Done\n",
            "Building dependency tree... Done\n",
            "Reading state information... Done\n",
            "31 packages can be upgraded. Run 'apt list --upgradable' to see them.\n",
            "\u001b[1;33mW: \u001b[0mSkipping acquire of configured file 'main/source/Sources' as repository 'https://r2u.stat.illinois.edu/ubuntu jammy InRelease' does not seem to provide it (sources.list entry misspelt?)\u001b[0m\n",
            "Reading package lists... Done\n",
            "Building dependency tree... Done\n",
            "Reading state information... Done\n",
            "\u001b[1;31mE: \u001b[0mUnable to locate package python-openssl\u001b[0m\n",
            "  % Total    % Received % Xferd  Average Speed   Time    Time     Time  Current\n",
            "                                 Dload  Upload   Total   Spent    Left  Speed\n",
            "100   270  100   270    0     0    439      0 --:--:-- --:--:-- --:--:--   439\n",
            "Cloning into '/root/.pyenv'...\n",
            "remote: Enumerating objects: 1363, done.\u001b[K\n",
            "remote: Counting objects: 100% (1363/1363), done.\u001b[K\n",
            "remote: Compressing objects: 100% (724/724), done.\u001b[K\n",
            "remote: Total 1363 (delta 824), reused 806 (delta 506), pack-reused 0 (from 0)\u001b[K\n",
            "Receiving objects: 100% (1363/1363), 1.14 MiB | 5.50 MiB/s, done.\n",
            "Resolving deltas: 100% (824/824), done.\n",
            "Cloning into '/root/.pyenv/plugins/pyenv-doctor'...\n",
            "remote: Enumerating objects: 11, done.\u001b[K\n",
            "remote: Counting objects: 100% (11/11), done.\u001b[K\n",
            "remote: Compressing objects: 100% (9/9), done.\u001b[K\n",
            "remote: Total 11 (delta 1), reused 5 (delta 0), pack-reused 0 (from 0)\u001b[K\n",
            "Receiving objects: 100% (11/11), 38.72 KiB | 901.00 KiB/s, done.\n",
            "Resolving deltas: 100% (1/1), done.\n",
            "Cloning into '/root/.pyenv/plugins/pyenv-update'...\n",
            "remote: Enumerating objects: 10, done.\u001b[K\n",
            "remote: Counting objects: 100% (10/10), done.\u001b[K\n",
            "remote: Compressing objects: 100% (6/6), done.\u001b[K\n",
            "remote: Total 10 (delta 1), reused 5 (delta 0), pack-reused 0 (from 0)\u001b[K\n",
            "Receiving objects: 100% (10/10), done.\n",
            "Resolving deltas: 100% (1/1), done.\n",
            "Cloning into '/root/.pyenv/plugins/pyenv-virtualenv'...\n",
            "remote: Enumerating objects: 64, done.\u001b[K\n",
            "remote: Counting objects: 100% (64/64), done.\u001b[K\n",
            "remote: Compressing objects: 100% (57/57), done.\u001b[K\n",
            "remote: Total 64 (delta 10), reused 23 (delta 0), pack-reused 0 (from 0)\u001b[K\n",
            "Receiving objects: 100% (64/64), 43.08 KiB | 1.10 MiB/s, done.\n",
            "Resolving deltas: 100% (10/10), done.\n",
            "\n",
            "\u001b[1mWARNING\u001b[m: seems you still have not added 'pyenv' to the load path.\n",
            "\n",
            "# Load pyenv automatically by appending\n",
            "# the following to \n",
            "# ~/.bash_profile if it exists, otherwise ~/.profile (for login shells)\n",
            "# and ~/.bashrc (for interactive shells) :\n",
            "\n",
            "export PYENV_ROOT=\"$HOME/.pyenv\"\n",
            "[[ -d $PYENV_ROOT/bin ]] && export PATH=\"$PYENV_ROOT/bin:$PATH\"\n",
            "eval \"$(pyenv init - bash)\"\n",
            "\n",
            "# Restart your shell for the changes to take effect.\n",
            "\n",
            "# Load pyenv-virtualenv automatically by adding\n",
            "# the following to ~/.bashrc:\n",
            "\n",
            "eval \"$(pyenv virtualenv-init -)\"\n",
            "\n"
          ]
        }
      ]
    },
    {
      "cell_type": "code",
      "source": [
        "!pyenv install 3.9.0\n",
        "!pyenv global 3.9.0"
      ],
      "metadata": {
        "colab": {
          "base_uri": "https://localhost:8080/"
        },
        "id": "t7E-vlCFNpZJ",
        "outputId": "2628df23-dce6-4cfb-afa2-a8f5980d7955"
      },
      "execution_count": 72,
      "outputs": [
        {
          "output_type": "stream",
          "name": "stdout",
          "text": [
            "/bin/bash: line 1: pyenv: command not found\n",
            "/bin/bash: line 1: pyenv: command not found\n"
          ]
        }
      ]
    },
    {
      "cell_type": "code",
      "source": [
        "!python --version"
      ],
      "metadata": {
        "colab": {
          "base_uri": "https://localhost:8080/"
        },
        "id": "m1xwR3OvNtM3",
        "outputId": "09bca27e-d263-4857-9dad-84f130245015"
      },
      "execution_count": 73,
      "outputs": [
        {
          "output_type": "stream",
          "name": "stdout",
          "text": [
            "Python 3.11.11\n"
          ]
        }
      ]
    },
    {
      "cell_type": "code",
      "source": [
        "!pip install langchain langchain-community cohere"
      ],
      "metadata": {
        "colab": {
          "base_uri": "https://localhost:8080/"
        },
        "id": "a67wqGTDN0Bg",
        "outputId": "a3db6ead-51e5-4d48-b666-9a14bcba20d4"
      },
      "execution_count": 74,
      "outputs": [
        {
          "output_type": "stream",
          "name": "stdout",
          "text": [
            "Requirement already satisfied: langchain in /usr/local/lib/python3.11/dist-packages (0.3.20)\n",
            "Requirement already satisfied: langchain-community in /usr/local/lib/python3.11/dist-packages (0.3.19)\n",
            "Requirement already satisfied: cohere in /usr/local/lib/python3.11/dist-packages (5.14.0)\n",
            "Requirement already satisfied: langchain-core<1.0.0,>=0.3.41 in /usr/local/lib/python3.11/dist-packages (from langchain) (0.3.41)\n",
            "Requirement already satisfied: langchain-text-splitters<1.0.0,>=0.3.6 in /usr/local/lib/python3.11/dist-packages (from langchain) (0.3.6)\n",
            "Requirement already satisfied: langsmith<0.4,>=0.1.17 in /usr/local/lib/python3.11/dist-packages (from langchain) (0.3.11)\n",
            "Requirement already satisfied: pydantic<3.0.0,>=2.7.4 in /usr/local/lib/python3.11/dist-packages (from langchain) (2.10.6)\n",
            "Requirement already satisfied: SQLAlchemy<3,>=1.4 in /usr/local/lib/python3.11/dist-packages (from langchain) (2.0.38)\n",
            "Requirement already satisfied: requests<3,>=2 in /usr/local/lib/python3.11/dist-packages (from langchain) (2.32.3)\n",
            "Requirement already satisfied: PyYAML>=5.3 in /usr/local/lib/python3.11/dist-packages (from langchain) (6.0.2)\n",
            "Requirement already satisfied: aiohttp<4.0.0,>=3.8.3 in /usr/local/lib/python3.11/dist-packages (from langchain-community) (3.11.13)\n",
            "Requirement already satisfied: tenacity!=8.4.0,<10,>=8.1.0 in /usr/local/lib/python3.11/dist-packages (from langchain-community) (9.0.0)\n",
            "Requirement already satisfied: dataclasses-json<0.7,>=0.5.7 in /usr/local/lib/python3.11/dist-packages (from langchain-community) (0.6.7)\n",
            "Requirement already satisfied: pydantic-settings<3.0.0,>=2.4.0 in /usr/local/lib/python3.11/dist-packages (from langchain-community) (2.8.1)\n",
            "Requirement already satisfied: httpx-sse<1.0.0,>=0.4.0 in /usr/local/lib/python3.11/dist-packages (from langchain-community) (0.4.0)\n",
            "Requirement already satisfied: numpy<3,>=1.26.2 in /usr/local/lib/python3.11/dist-packages (from langchain-community) (1.26.4)\n",
            "Requirement already satisfied: fastavro<2.0.0,>=1.9.4 in /usr/local/lib/python3.11/dist-packages (from cohere) (1.10.0)\n",
            "Requirement already satisfied: httpx>=0.21.2 in /usr/local/lib/python3.11/dist-packages (from cohere) (0.28.1)\n",
            "Requirement already satisfied: pydantic-core<3.0.0,>=2.18.2 in /usr/local/lib/python3.11/dist-packages (from cohere) (2.27.2)\n",
            "Requirement already satisfied: tokenizers<1,>=0.15 in /usr/local/lib/python3.11/dist-packages (from cohere) (0.21.0)\n",
            "Requirement already satisfied: types-requests<3.0.0,>=2.0.0 in /usr/local/lib/python3.11/dist-packages (from cohere) (2.32.0.20250306)\n",
            "Requirement already satisfied: typing_extensions>=4.0.0 in /usr/local/lib/python3.11/dist-packages (from cohere) (4.12.2)\n",
            "Requirement already satisfied: aiohappyeyeballs>=2.3.0 in /usr/local/lib/python3.11/dist-packages (from aiohttp<4.0.0,>=3.8.3->langchain-community) (2.5.0)\n",
            "Requirement already satisfied: aiosignal>=1.1.2 in /usr/local/lib/python3.11/dist-packages (from aiohttp<4.0.0,>=3.8.3->langchain-community) (1.3.2)\n",
            "Requirement already satisfied: attrs>=17.3.0 in /usr/local/lib/python3.11/dist-packages (from aiohttp<4.0.0,>=3.8.3->langchain-community) (25.1.0)\n",
            "Requirement already satisfied: frozenlist>=1.1.1 in /usr/local/lib/python3.11/dist-packages (from aiohttp<4.0.0,>=3.8.3->langchain-community) (1.5.0)\n",
            "Requirement already satisfied: multidict<7.0,>=4.5 in /usr/local/lib/python3.11/dist-packages (from aiohttp<4.0.0,>=3.8.3->langchain-community) (6.1.0)\n",
            "Requirement already satisfied: propcache>=0.2.0 in /usr/local/lib/python3.11/dist-packages (from aiohttp<4.0.0,>=3.8.3->langchain-community) (0.3.0)\n",
            "Requirement already satisfied: yarl<2.0,>=1.17.0 in /usr/local/lib/python3.11/dist-packages (from aiohttp<4.0.0,>=3.8.3->langchain-community) (1.18.3)\n",
            "Requirement already satisfied: marshmallow<4.0.0,>=3.18.0 in /usr/local/lib/python3.11/dist-packages (from dataclasses-json<0.7,>=0.5.7->langchain-community) (3.26.1)\n",
            "Requirement already satisfied: typing-inspect<1,>=0.4.0 in /usr/local/lib/python3.11/dist-packages (from dataclasses-json<0.7,>=0.5.7->langchain-community) (0.9.0)\n",
            "Requirement already satisfied: anyio in /usr/local/lib/python3.11/dist-packages (from httpx>=0.21.2->cohere) (3.7.1)\n",
            "Requirement already satisfied: certifi in /usr/local/lib/python3.11/dist-packages (from httpx>=0.21.2->cohere) (2025.1.31)\n",
            "Requirement already satisfied: httpcore==1.* in /usr/local/lib/python3.11/dist-packages (from httpx>=0.21.2->cohere) (1.0.7)\n",
            "Requirement already satisfied: idna in /usr/local/lib/python3.11/dist-packages (from httpx>=0.21.2->cohere) (3.10)\n",
            "Requirement already satisfied: h11<0.15,>=0.13 in /usr/local/lib/python3.11/dist-packages (from httpcore==1.*->httpx>=0.21.2->cohere) (0.14.0)\n",
            "Requirement already satisfied: jsonpatch<2.0,>=1.33 in /usr/local/lib/python3.11/dist-packages (from langchain-core<1.0.0,>=0.3.41->langchain) (1.33)\n",
            "Requirement already satisfied: packaging<25,>=23.2 in /usr/local/lib/python3.11/dist-packages (from langchain-core<1.0.0,>=0.3.41->langchain) (24.2)\n",
            "Requirement already satisfied: orjson<4.0.0,>=3.9.14 in /usr/local/lib/python3.11/dist-packages (from langsmith<0.4,>=0.1.17->langchain) (3.10.15)\n",
            "Requirement already satisfied: requests-toolbelt<2.0.0,>=1.0.0 in /usr/local/lib/python3.11/dist-packages (from langsmith<0.4,>=0.1.17->langchain) (1.0.0)\n",
            "Requirement already satisfied: zstandard<0.24.0,>=0.23.0 in /usr/local/lib/python3.11/dist-packages (from langsmith<0.4,>=0.1.17->langchain) (0.23.0)\n",
            "Requirement already satisfied: annotated-types>=0.6.0 in /usr/local/lib/python3.11/dist-packages (from pydantic<3.0.0,>=2.7.4->langchain) (0.7.0)\n",
            "Requirement already satisfied: python-dotenv>=0.21.0 in /usr/local/lib/python3.11/dist-packages (from pydantic-settings<3.0.0,>=2.4.0->langchain-community) (1.0.1)\n",
            "Requirement already satisfied: charset-normalizer<4,>=2 in /usr/local/lib/python3.11/dist-packages (from requests<3,>=2->langchain) (3.4.1)\n",
            "Requirement already satisfied: urllib3<3,>=1.21.1 in /usr/local/lib/python3.11/dist-packages (from requests<3,>=2->langchain) (2.3.0)\n",
            "Requirement already satisfied: greenlet!=0.4.17 in /usr/local/lib/python3.11/dist-packages (from SQLAlchemy<3,>=1.4->langchain) (3.1.1)\n",
            "Requirement already satisfied: huggingface-hub<1.0,>=0.16.4 in /usr/local/lib/python3.11/dist-packages (from tokenizers<1,>=0.15->cohere) (0.28.1)\n",
            "Requirement already satisfied: filelock in /usr/local/lib/python3.11/dist-packages (from huggingface-hub<1.0,>=0.16.4->tokenizers<1,>=0.15->cohere) (3.17.0)\n",
            "Requirement already satisfied: fsspec>=2023.5.0 in /usr/local/lib/python3.11/dist-packages (from huggingface-hub<1.0,>=0.16.4->tokenizers<1,>=0.15->cohere) (2024.10.0)\n",
            "Requirement already satisfied: tqdm>=4.42.1 in /usr/local/lib/python3.11/dist-packages (from huggingface-hub<1.0,>=0.16.4->tokenizers<1,>=0.15->cohere) (4.67.1)\n",
            "Requirement already satisfied: jsonpointer>=1.9 in /usr/local/lib/python3.11/dist-packages (from jsonpatch<2.0,>=1.33->langchain-core<1.0.0,>=0.3.41->langchain) (3.0.0)\n",
            "Requirement already satisfied: mypy-extensions>=0.3.0 in /usr/local/lib/python3.11/dist-packages (from typing-inspect<1,>=0.4.0->dataclasses-json<0.7,>=0.5.7->langchain-community) (1.0.0)\n",
            "Requirement already satisfied: sniffio>=1.1 in /usr/local/lib/python3.11/dist-packages (from anyio->httpx>=0.21.2->cohere) (1.3.1)\n"
          ]
        }
      ]
    },
    {
      "cell_type": "code",
      "source": [
        "!pip install -r /content/AI-Powered-Video-Tutorial-Generator/backend/requirements.txt"
      ],
      "metadata": {
        "colab": {
          "base_uri": "https://localhost:8080/"
        },
        "id": "X34UfdY2K1f0",
        "outputId": "07294791-08bd-415d-e4e4-d6f14527ba78"
      },
      "execution_count": 68,
      "outputs": [
        {
          "output_type": "stream",
          "name": "stdout",
          "text": [
            "Collecting cohere==4.7.0 (from -r /content/AI-Powered-Video-Tutorial-Generator/backend/requirements.txt (line 1))\n",
            "  Using cached cohere-4.7.0-py3-none-any.whl.metadata (5.0 kB)\n",
            "Requirement already satisfied: decorator==4.4.2 in /usr/local/lib/python3.11/dist-packages (from -r /content/AI-Powered-Video-Tutorial-Generator/backend/requirements.txt (line 2)) (4.4.2)\n",
            "Collecting edge-tts==6.1.6 (from -r /content/AI-Powered-Video-Tutorial-Generator/backend/requirements.txt (line 3))\n",
            "  Using cached edge_tts-6.1.6-py3-none-any.whl.metadata (4.2 kB)\n",
            "Collecting fastapi==0.96.0 (from -r /content/AI-Powered-Video-Tutorial-Generator/backend/requirements.txt (line 4))\n",
            "  Using cached fastapi-0.96.0-py3-none-any.whl.metadata (24 kB)\n",
            "Collecting ffmpeg==1.4 (from -r /content/AI-Powered-Video-Tutorial-Generator/backend/requirements.txt (line 5))\n",
            "  Using cached ffmpeg-1.4.tar.gz (5.1 kB)\n",
            "  Preparing metadata (setup.py) ... \u001b[?25l\u001b[?25hdone\n",
            "Collecting imageio==2.19.3 (from -r /content/AI-Powered-Video-Tutorial-Generator/backend/requirements.txt (line 6))\n",
            "  Using cached imageio-2.19.3-py3-none-any.whl.metadata (4.9 kB)\n",
            "Collecting imageio-ffmpeg==0.4.7 (from -r /content/AI-Powered-Video-Tutorial-Generator/backend/requirements.txt (line 7))\n",
            "  Using cached imageio_ffmpeg-0.4.7-py3-none-manylinux2010_x86_64.whl.metadata (1.6 kB)\n",
            "Collecting langchain==0.0.189 (from -r /content/AI-Powered-Video-Tutorial-Generator/backend/requirements.txt (line 8))\n",
            "  Using cached langchain-0.0.189-py3-none-any.whl.metadata (12 kB)\n",
            "Requirement already satisfied: moviepy==1.0.3 in /usr/local/lib/python3.11/dist-packages (from -r /content/AI-Powered-Video-Tutorial-Generator/backend/requirements.txt (line 9)) (1.0.3)\n",
            "Collecting opencv-python==4.7.0.72 (from -r /content/AI-Powered-Video-Tutorial-Generator/backend/requirements.txt (line 10))\n",
            "  Using cached opencv_python-4.7.0.72-cp37-abi3-manylinux_2_17_x86_64.manylinux2014_x86_64.whl.metadata (18 kB)\n",
            "Collecting Pillow==9.5.0 (from -r /content/AI-Powered-Video-Tutorial-Generator/backend/requirements.txt (line 11))\n",
            "  Using cached Pillow-9.5.0-cp311-cp311-manylinux_2_28_x86_64.whl.metadata (9.5 kB)\n",
            "Collecting pygoogle-image==1.0.0 (from -r /content/AI-Powered-Video-Tutorial-Generator/backend/requirements.txt (line 12))\n",
            "  Using cached pygoogle_image-1.0.0.tar.gz (3.4 kB)\n",
            "  Preparing metadata (setup.py) ... \u001b[?25l\u001b[?25hdone\n",
            "Collecting uvicorn==0.22.0 (from -r /content/AI-Powered-Video-Tutorial-Generator/backend/requirements.txt (line 13))\n",
            "  Using cached uvicorn-0.22.0-py3-none-any.whl.metadata (6.3 kB)\n",
            "Requirement already satisfied: aiohttp<4.0,>=3.0 in /usr/local/lib/python3.11/dist-packages (from cohere==4.7.0->-r /content/AI-Powered-Video-Tutorial-Generator/backend/requirements.txt (line 1)) (3.11.13)\n",
            "Collecting backoff<3.0,>=2.0 (from cohere==4.7.0->-r /content/AI-Powered-Video-Tutorial-Generator/backend/requirements.txt (line 1))\n",
            "  Using cached backoff-2.2.1-py3-none-any.whl.metadata (14 kB)\n",
            "Requirement already satisfied: requests<3.0,>=2.0 in /usr/local/lib/python3.11/dist-packages (from cohere==4.7.0->-r /content/AI-Powered-Video-Tutorial-Generator/backend/requirements.txt (line 1)) (2.32.3)\n",
            "Collecting pydantic!=1.7,!=1.7.1,!=1.7.2,!=1.7.3,!=1.8,!=1.8.1,<2.0.0,>=1.6.2 (from fastapi==0.96.0->-r /content/AI-Powered-Video-Tutorial-Generator/backend/requirements.txt (line 4))\n",
            "  Using cached pydantic-1.10.21-cp311-cp311-manylinux_2_17_x86_64.manylinux2014_x86_64.whl.metadata (153 kB)\n",
            "Collecting starlette<0.28.0,>=0.27.0 (from fastapi==0.96.0->-r /content/AI-Powered-Video-Tutorial-Generator/backend/requirements.txt (line 4))\n",
            "  Using cached starlette-0.27.0-py3-none-any.whl.metadata (5.8 kB)\n",
            "Requirement already satisfied: numpy in /usr/local/lib/python3.11/dist-packages (from imageio==2.19.3->-r /content/AI-Powered-Video-Tutorial-Generator/backend/requirements.txt (line 6)) (1.26.4)\n",
            "Requirement already satisfied: PyYAML>=5.4.1 in /usr/local/lib/python3.11/dist-packages (from langchain==0.0.189->-r /content/AI-Powered-Video-Tutorial-Generator/backend/requirements.txt (line 8)) (6.0.2)\n",
            "Requirement already satisfied: SQLAlchemy<3,>=1.4 in /usr/local/lib/python3.11/dist-packages (from langchain==0.0.189->-r /content/AI-Powered-Video-Tutorial-Generator/backend/requirements.txt (line 8)) (2.0.38)\n",
            "Collecting dataclasses-json<0.6.0,>=0.5.7 (from langchain==0.0.189->-r /content/AI-Powered-Video-Tutorial-Generator/backend/requirements.txt (line 8))\n",
            "  Using cached dataclasses_json-0.5.14-py3-none-any.whl.metadata (22 kB)\n",
            "Requirement already satisfied: numexpr<3.0.0,>=2.8.4 in /usr/local/lib/python3.11/dist-packages (from langchain==0.0.189->-r /content/AI-Powered-Video-Tutorial-Generator/backend/requirements.txt (line 8)) (2.10.2)\n",
            "Collecting openapi-schema-pydantic<2.0,>=1.2 (from langchain==0.0.189->-r /content/AI-Powered-Video-Tutorial-Generator/backend/requirements.txt (line 8))\n",
            "  Using cached openapi_schema_pydantic-1.2.4-py3-none-any.whl.metadata (8.5 kB)\n",
            "Collecting tenacity<9.0.0,>=8.1.0 (from langchain==0.0.189->-r /content/AI-Powered-Video-Tutorial-Generator/backend/requirements.txt (line 8))\n",
            "  Using cached tenacity-8.5.0-py3-none-any.whl.metadata (1.2 kB)\n",
            "Requirement already satisfied: tqdm<5.0,>=4.11.2 in /usr/local/lib/python3.11/dist-packages (from moviepy==1.0.3->-r /content/AI-Powered-Video-Tutorial-Generator/backend/requirements.txt (line 9)) (4.67.1)\n",
            "Requirement already satisfied: proglog<=1.0.0 in /usr/local/lib/python3.11/dist-packages (from moviepy==1.0.3->-r /content/AI-Powered-Video-Tutorial-Generator/backend/requirements.txt (line 9)) (0.1.10)\n",
            "INFO: pip is looking at multiple versions of pygoogle-image to determine which version is compatible with other requirements. This could take a while.\n",
            "\u001b[31mERROR: Ignored the following versions that require a different python version: 4.0.0 Requires-Python >=3.7,<3.11\u001b[0m\u001b[31m\n",
            "\u001b[0m\u001b[31mERROR: Could not find a version that satisfies the requirement python-magic-bin==0.4.14 (from pygoogle-image) (from versions: none)\u001b[0m\u001b[31m\n",
            "\u001b[0m\u001b[31mERROR: No matching distribution found for python-magic-bin==0.4.14\u001b[0m\u001b[31m\n",
            "\u001b[0m"
          ]
        }
      ]
    },
    {
      "cell_type": "code",
      "source": [
        "!pwd"
      ],
      "metadata": {
        "colab": {
          "base_uri": "https://localhost:8080/"
        },
        "id": "sU0wkomPLidH",
        "outputId": "b6702c23-8e36-4b91-980c-a6ccd1f2293e"
      },
      "execution_count": 63,
      "outputs": [
        {
          "output_type": "stream",
          "name": "stdout",
          "text": [
            "/content/AI-Powered-Video-Tutorial-Generator\n"
          ]
        }
      ]
    },
    {
      "cell_type": "code",
      "source": [
        "!pip install python-magic"
      ],
      "metadata": {
        "colab": {
          "base_uri": "https://localhost:8080/"
        },
        "id": "zwJO4Xw7M1Ei",
        "outputId": "a48e3d17-8814-4864-9ecb-3e221cd6746e"
      },
      "execution_count": 65,
      "outputs": [
        {
          "output_type": "stream",
          "name": "stdout",
          "text": [
            "Requirement already satisfied: python-magic in /usr/local/lib/python3.11/dist-packages (0.4.27)\n"
          ]
        }
      ]
    },
    {
      "cell_type": "code",
      "source": [
        "!pip install fastapi"
      ],
      "metadata": {
        "colab": {
          "base_uri": "https://localhost:8080/"
        },
        "id": "3XO82M8GOthD",
        "outputId": "455b2cb3-698d-4152-9004-c8ca8edf13c7"
      },
      "execution_count": 77,
      "outputs": [
        {
          "output_type": "stream",
          "name": "stdout",
          "text": [
            "Collecting fastapi\n",
            "  Downloading fastapi-0.115.11-py3-none-any.whl.metadata (27 kB)\n",
            "Collecting starlette<0.47.0,>=0.40.0 (from fastapi)\n",
            "  Downloading starlette-0.46.1-py3-none-any.whl.metadata (6.2 kB)\n",
            "Requirement already satisfied: pydantic!=1.8,!=1.8.1,!=2.0.0,!=2.0.1,!=2.1.0,<3.0.0,>=1.7.4 in /usr/local/lib/python3.11/dist-packages (from fastapi) (2.10.6)\n",
            "Requirement already satisfied: typing-extensions>=4.8.0 in /usr/local/lib/python3.11/dist-packages (from fastapi) (4.12.2)\n",
            "Requirement already satisfied: annotated-types>=0.6.0 in /usr/local/lib/python3.11/dist-packages (from pydantic!=1.8,!=1.8.1,!=2.0.0,!=2.0.1,!=2.1.0,<3.0.0,>=1.7.4->fastapi) (0.7.0)\n",
            "Requirement already satisfied: pydantic-core==2.27.2 in /usr/local/lib/python3.11/dist-packages (from pydantic!=1.8,!=1.8.1,!=2.0.0,!=2.0.1,!=2.1.0,<3.0.0,>=1.7.4->fastapi) (2.27.2)\n",
            "Requirement already satisfied: anyio<5,>=3.6.2 in /usr/local/lib/python3.11/dist-packages (from starlette<0.47.0,>=0.40.0->fastapi) (3.7.1)\n",
            "Requirement already satisfied: idna>=2.8 in /usr/local/lib/python3.11/dist-packages (from anyio<5,>=3.6.2->starlette<0.47.0,>=0.40.0->fastapi) (3.10)\n",
            "Requirement already satisfied: sniffio>=1.1 in /usr/local/lib/python3.11/dist-packages (from anyio<5,>=3.6.2->starlette<0.47.0,>=0.40.0->fastapi) (1.3.1)\n",
            "Downloading fastapi-0.115.11-py3-none-any.whl (94 kB)\n",
            "\u001b[2K   \u001b[90m━━━━━━━━━━━━━━━━━━━━━━━━━━━━━━━━━━━━━━━━\u001b[0m \u001b[32m94.9/94.9 kB\u001b[0m \u001b[31m3.9 MB/s\u001b[0m eta \u001b[36m0:00:00\u001b[0m\n",
            "\u001b[?25hDownloading starlette-0.46.1-py3-none-any.whl (71 kB)\n",
            "\u001b[2K   \u001b[90m━━━━━━━━━━━━━━━━━━━━━━━━━━━━━━━━━━━━━━━━\u001b[0m \u001b[32m72.0/72.0 kB\u001b[0m \u001b[31m5.4 MB/s\u001b[0m eta \u001b[36m0:00:00\u001b[0m\n",
            "\u001b[?25hInstalling collected packages: starlette, fastapi\n",
            "Successfully installed fastapi-0.115.11 starlette-0.46.1\n"
          ]
        }
      ]
    },
    {
      "cell_type": "code",
      "source": [
        "!pip install uvicorn"
      ],
      "metadata": {
        "colab": {
          "base_uri": "https://localhost:8080/"
        },
        "id": "zCNR5Gg4OzTT",
        "outputId": "7d67cae2-83c7-4080-fd7f-00f482ba40cd"
      },
      "execution_count": 78,
      "outputs": [
        {
          "output_type": "stream",
          "name": "stdout",
          "text": [
            "Collecting uvicorn\n",
            "  Downloading uvicorn-0.34.0-py3-none-any.whl.metadata (6.5 kB)\n",
            "Requirement already satisfied: click>=7.0 in /usr/local/lib/python3.11/dist-packages (from uvicorn) (8.1.8)\n",
            "Requirement already satisfied: h11>=0.8 in /usr/local/lib/python3.11/dist-packages (from uvicorn) (0.14.0)\n",
            "Downloading uvicorn-0.34.0-py3-none-any.whl (62 kB)\n",
            "\u001b[?25l   \u001b[90m━━━━━━━━━━━━━━━━━━━━━━━━━━━━━━━━━━━━━━━━\u001b[0m \u001b[32m0.0/62.3 kB\u001b[0m \u001b[31m?\u001b[0m eta \u001b[36m-:--:--\u001b[0m\r\u001b[2K   \u001b[90m━━━━━━━━━━━━━━━━━━━━━━━━━━━━━━━━━━━━━━━━\u001b[0m \u001b[32m62.3/62.3 kB\u001b[0m \u001b[31m2.4 MB/s\u001b[0m eta \u001b[36m0:00:00\u001b[0m\n",
            "\u001b[?25hInstalling collected packages: uvicorn\n",
            "Successfully installed uvicorn-0.34.0\n"
          ]
        }
      ]
    },
    {
      "cell_type": "code",
      "source": [
        "!pip list | grep fastapi\n",
        "!pip list | grep uvicorn"
      ],
      "metadata": {
        "colab": {
          "base_uri": "https://localhost:8080/"
        },
        "id": "DwlIFfT2O32U",
        "outputId": "34110dd5-849a-4d85-ccec-85b069142f93"
      },
      "execution_count": 79,
      "outputs": [
        {
          "output_type": "stream",
          "name": "stdout",
          "text": [
            "fastapi                            0.115.11\n",
            "uvicorn                            0.34.0\n"
          ]
        }
      ]
    },
    {
      "cell_type": "code",
      "source": [
        "!pip install google-images-download"
      ],
      "metadata": {
        "colab": {
          "base_uri": "https://localhost:8080/"
        },
        "id": "HqW5jdwOQRC_",
        "outputId": "46667a09-a0c8-4a83-b120-5a8992413e34"
      },
      "execution_count": 85,
      "outputs": [
        {
          "output_type": "stream",
          "name": "stdout",
          "text": [
            "Requirement already satisfied: google-images-download in /usr/local/lib/python3.11/dist-packages (2.8.0)\n",
            "Requirement already satisfied: selenium in /usr/local/lib/python3.11/dist-packages (from google-images-download) (4.29.0)\n",
            "Requirement already satisfied: urllib3<3,>=1.26 in /usr/local/lib/python3.11/dist-packages (from urllib3[socks]<3,>=1.26->selenium->google-images-download) (2.3.0)\n",
            "Requirement already satisfied: trio~=0.17 in /usr/local/lib/python3.11/dist-packages (from selenium->google-images-download) (0.29.0)\n",
            "Requirement already satisfied: trio-websocket~=0.9 in /usr/local/lib/python3.11/dist-packages (from selenium->google-images-download) (0.12.2)\n",
            "Requirement already satisfied: certifi>=2021.10.8 in /usr/local/lib/python3.11/dist-packages (from selenium->google-images-download) (2025.1.31)\n",
            "Requirement already satisfied: typing_extensions~=4.9 in /usr/local/lib/python3.11/dist-packages (from selenium->google-images-download) (4.12.2)\n",
            "Requirement already satisfied: websocket-client~=1.8 in /usr/local/lib/python3.11/dist-packages (from selenium->google-images-download) (1.8.0)\n",
            "Requirement already satisfied: attrs>=23.2.0 in /usr/local/lib/python3.11/dist-packages (from trio~=0.17->selenium->google-images-download) (25.1.0)\n",
            "Requirement already satisfied: sortedcontainers in /usr/local/lib/python3.11/dist-packages (from trio~=0.17->selenium->google-images-download) (2.4.0)\n",
            "Requirement already satisfied: idna in /usr/local/lib/python3.11/dist-packages (from trio~=0.17->selenium->google-images-download) (3.10)\n",
            "Requirement already satisfied: outcome in /usr/local/lib/python3.11/dist-packages (from trio~=0.17->selenium->google-images-download) (1.3.0.post0)\n",
            "Requirement already satisfied: sniffio>=1.3.0 in /usr/local/lib/python3.11/dist-packages (from trio~=0.17->selenium->google-images-download) (1.3.1)\n",
            "Requirement already satisfied: wsproto>=0.14 in /usr/local/lib/python3.11/dist-packages (from trio-websocket~=0.9->selenium->google-images-download) (1.2.0)\n",
            "Requirement already satisfied: pysocks!=1.5.7,<2.0,>=1.5.6 in /usr/local/lib/python3.11/dist-packages (from urllib3[socks]<3,>=1.26->selenium->google-images-download) (1.7.1)\n",
            "Requirement already satisfied: h11<1,>=0.9.0 in /usr/local/lib/python3.11/dist-packages (from wsproto>=0.14->trio-websocket~=0.9->selenium->google-images-download) (0.14.0)\n"
          ]
        }
      ]
    },
    {
      "cell_type": "code",
      "source": [
        "import requests\n",
        "from bs4 import BeautifulSoup\n",
        "\n",
        "# Заголовки для имитации браузера\n",
        "headers = {\n",
        "    \"User-Agent\": \"Mozilla/5.0 (Windows NT 10.0; Win64; x64) AppleWebKit/537.36 (KHTML, like Gecko) Chrome/58.0.3029.110 Safari/537.3\"\n",
        "}\n",
        "\n",
        "# URL для поиска изображений\n",
        "query = \"cats\"\n",
        "url = f\"https://www.google.com/search?q={query}&tbm=isch\"\n",
        "\n",
        "# Получаем HTML-страницу\n",
        "response = requests.get(url, headers=headers)\n",
        "soup = BeautifulSoup(response.text, \"html.parser\")\n",
        "\n",
        "# Парсим ссылки на изображения\n",
        "images = soup.find_all(\"img\")\n",
        "for img in images:\n",
        "    print(img[\"src\"])"
      ],
      "metadata": {
        "colab": {
          "base_uri": "https://localhost:8080/"
        },
        "id": "-KtTtjDVRvdy",
        "outputId": "c22aa9be-c21d-46b5-a244-ada3f170bfa3"
      },
      "execution_count": 92,
      "outputs": [
        {
          "output_type": "stream",
          "name": "stdout",
          "text": [
            "/images/branding/searchlogo/1x/googlelogo_desk_heirloom_color_150x55dp.gif\n",
            "https://encrypted-tbn0.gstatic.com/images?q=tbn:ANd9GcQ_PUW5gkboLBc32MHM6WevfFfUEnhKnC4oW3YqhEJgtZ7Z3ItsyCz6Y7KG4A&s\n",
            "https://encrypted-tbn0.gstatic.com/images?q=tbn:ANd9GcQVU0uwX9vLIBdj2PEmj92boNflR9cdgZwHFAlflcYXjbpjx54lof_TSAcMxHI&s\n",
            "https://encrypted-tbn0.gstatic.com/images?q=tbn:ANd9GcQ4JkkEv2Hs8FAhJGQ_M5reXVGnyfDfTM6VJmJ5Ssjce2I_g9aT53elyWsNyQ&s\n",
            "https://encrypted-tbn0.gstatic.com/images?q=tbn:ANd9GcRQTFtPsTkPp2xs--jjDs83ok9MFSPT0VBgUaQmBeBppoh-F_pc0NgQs2itsw&s\n",
            "https://encrypted-tbn0.gstatic.com/images?q=tbn:ANd9GcTqRAacyyCUH3be5QnSosbaJx5Mmq2V2AmVX-ygxThqsfhkqc3c9uDuYOTSk68&s\n",
            "https://encrypted-tbn0.gstatic.com/images?q=tbn:ANd9GcQxEo1P1z__u9YzuWsWxU1aLO3pVPKokmZpmRBNKNxSfEVzmgHiJgndSJKA_84&s\n",
            "https://encrypted-tbn0.gstatic.com/images?q=tbn:ANd9GcS5q-wlx-yZOH9o8-6P408-TfQcBxswODSlxyf49ga7hnUO24IisWQWNPpG2AU&s\n",
            "https://encrypted-tbn0.gstatic.com/images?q=tbn:ANd9GcTdgsCqJtdLa07AuH8S7SS-jzrsVx1wQ2s9ecAJdUX7Tla9zhRRSspp5W5wUA&s\n",
            "https://encrypted-tbn0.gstatic.com/images?q=tbn:ANd9GcQN2_cAOypMH0H-t7XqaDRBuTYKp-hJ4hiZJsAV2_bSKJeAbcQyalGp2H4OS3w&s\n",
            "https://encrypted-tbn0.gstatic.com/images?q=tbn:ANd9GcRHrQSrZR8c-PzJ6YkSeEuPOHw2sM1ehNdK9nnNs_5wkRkNnRIum2JX5ZOHqA&s\n",
            "https://encrypted-tbn0.gstatic.com/images?q=tbn:ANd9GcTOyS5jrGynKIQqMKTOxi_MPbQFub8zsBDGtNVYioaWRFQJ1A8jjJArAoctXuM&s\n",
            "https://encrypted-tbn0.gstatic.com/images?q=tbn:ANd9GcQoCEZ4p82X3CbDv2U26cp6e8Yzms-rZKZCLyeEwKQP9v9E4BaEgmVTVVmN-Iw&s\n",
            "https://encrypted-tbn0.gstatic.com/images?q=tbn:ANd9GcSNYajWmR3ojAUukMt_8f9oVrd7Wo78BRBlv2fv7nz-NN802Fd57a5sU1uA6g&s\n",
            "https://encrypted-tbn0.gstatic.com/images?q=tbn:ANd9GcSnwwyZjtcr7kEeS-5IHaPJFJMwFQcC8yLm7yYUy0rC2dyl13JsQeYNG75p-Q&s\n",
            "https://encrypted-tbn0.gstatic.com/images?q=tbn:ANd9GcS4aEE-RJ0Z24azkhKlSA10eqnRKcjkzRb73jvss_rRWwFaS2L3Gmg42h8tBsA&s\n",
            "https://encrypted-tbn0.gstatic.com/images?q=tbn:ANd9GcRmlcaPOmiNtGWD3ta8r80uHxcvtT3Kb_ZEnOQEFWTpAZ8FKnnCUv6I7t7zEQ&s\n",
            "https://encrypted-tbn0.gstatic.com/images?q=tbn:ANd9GcSfiKnxtvDGnD-SMOtPqXechTYf-i4j_hDZp0jQTDg52NTPnVSkiHnRgub-k8E&s\n",
            "https://encrypted-tbn0.gstatic.com/images?q=tbn:ANd9GcSHoEbzvcOL3gh-yyZPIeYDDmq0almlNY-DqRo2nnccR7FW0vkUSYPnTMzQfA&s\n",
            "https://encrypted-tbn0.gstatic.com/images?q=tbn:ANd9GcSr0ONFZ9LjFuX5h66PdDZqTirDkbvzJUh0izRf-nUqveavur62vjzfoxHNWg&s\n",
            "https://encrypted-tbn0.gstatic.com/images?q=tbn:ANd9GcSzr17WSJXcTSLK6gVo5w_gm3c4Y06bn8yhbgRb94OF1KUf-OZ7qYWvL1U0wvs&s\n"
          ]
        }
      ]
    },
    {
      "cell_type": "code",
      "source": [
        "!python /content/AI-Powered-Video-Tutorial-Generator/backend/main.py"
      ],
      "metadata": {
        "colab": {
          "base_uri": "https://localhost:8080/"
        },
        "id": "pGs090baO9O7",
        "outputId": "ecefe869-9317-4e27-a6d6-23bb5c5b8b5e"
      },
      "execution_count": 94,
      "outputs": [
        {
          "output_type": "stream",
          "name": "stdout",
          "text": [
            "/usr/local/lib/python3.11/dist-packages/langchain/llms/__init__.py:549: LangChainDeprecationWarning: Importing LLMs from langchain is deprecated. Importing from langchain will no longer be supported as of langchain==0.2.0. Please import from langchain-community instead:\n",
            "\n",
            "`from langchain_community.llms import Cohere`.\n",
            "\n",
            "To install langchain-community run `pip install -U langchain-community`.\n",
            "  warnings.warn(\n",
            "/usr/local/lib/python3.11/dist-packages/langchain/llms/__init__.py:549: LangChainDeprecationWarning: Importing LLMs from langchain is deprecated. Importing from langchain will no longer be supported as of langchain==0.2.0. Please import from langchain-community instead:\n",
            "\n",
            "`from langchain_community.llms import Cohere`.\n",
            "\n",
            "To install langchain-community run `pip install -U langchain-community`.\n",
            "  warnings.warn(\n",
            "/usr/local/lib/python3.11/dist-packages/langchain/__init__.py:30: UserWarning: Importing PromptTemplate from langchain root module is no longer supported. Please use langchain_core.prompts.PromptTemplate instead.\n",
            "  warnings.warn(\n",
            "/usr/local/lib/python3.11/dist-packages/langchain/__init__.py:30: UserWarning: Importing LLMChain from langchain root module is no longer supported. Please use langchain.chains.LLMChain instead.\n",
            "  warnings.warn(\n",
            "Traceback (most recent call last):\n",
            "  File \"/content/AI-Powered-Video-Tutorial-Generator/backend/main.py\", line 5, in <module>\n",
            "    from functions.video_main_function import video_main\n",
            "  File \"/content/AI-Powered-Video-Tutorial-Generator/backend/functions/video_main_function.py\", line 3, in <module>\n",
            "    from functions.create_audio_image_function import create_audio_image\n",
            "  File \"/content/AI-Powered-Video-Tutorial-Generator/backend/functions/create_audio_image_function.py\", line 4, in <module>\n",
            "    from functions.get_image_function import get_image\n",
            "  File \"/content/AI-Powered-Video-Tutorial-Generator/backend/functions/get_image_function.py\", line 1, in <module>\n",
            "    from pygoogle_image import image as pi\n",
            "ModuleNotFoundError: No module named 'pygoogle_image'\n"
          ]
        }
      ]
    },
    {
      "cell_type": "code",
      "source": [
        "from fastapi import FastAPI\n",
        "\n",
        "app = FastAPI()\n",
        "\n",
        "@app.get(\"/\")\n",
        "def read_root():\n",
        "    return {\"message\": \"Hello, World!\"}\n",
        "\n",
        "# Запусти сервер с помощью команды:\n",
        "# uvicorn main:app --reload"
      ],
      "metadata": {
        "id": "C_elrA4aPKit"
      },
      "execution_count": 81,
      "outputs": []
    },
    {
      "cell_type": "code",
      "source": [
        "from serpapi import GoogleSearch\n",
        "\n",
        "params = {\n",
        "  \"q\": \"Coffee\",\n",
        "  \"location\": \"Austin, Texas, United States\",\n",
        "  \"hl\": \"en\",\n",
        "  \"gl\": \"us\",\n",
        "  \"google_domain\": \"google.com\",\n",
        "  \"api_key\": \"secret_api_key\"\n",
        "}\n",
        "\n",
        "search = GoogleSearch(params)\n",
        "results = search.get_dict()"
      ],
      "metadata": {
        "colab": {
          "base_uri": "https://localhost:8080/",
          "height": 383
        },
        "id": "CSd8Lx7dVBSr",
        "outputId": "1a1058e2-49b0-4300-cdb4-ca1c5934a7e8"
      },
      "execution_count": 1,
      "outputs": [
        {
          "output_type": "error",
          "ename": "ModuleNotFoundError",
          "evalue": "No module named 'serpapi'",
          "traceback": [
            "\u001b[0;31m---------------------------------------------------------------------------\u001b[0m",
            "\u001b[0;31mModuleNotFoundError\u001b[0m                       Traceback (most recent call last)",
            "\u001b[0;32m<ipython-input-1-b26968798fb1>\u001b[0m in \u001b[0;36m<cell line: 0>\u001b[0;34m()\u001b[0m\n\u001b[0;32m----> 1\u001b[0;31m \u001b[0;32mfrom\u001b[0m \u001b[0mserpapi\u001b[0m \u001b[0;32mimport\u001b[0m \u001b[0mGoogleSearch\u001b[0m\u001b[0;34m\u001b[0m\u001b[0;34m\u001b[0m\u001b[0m\n\u001b[0m\u001b[1;32m      2\u001b[0m \u001b[0;34m\u001b[0m\u001b[0m\n\u001b[1;32m      3\u001b[0m params = {\n\u001b[1;32m      4\u001b[0m   \u001b[0;34m\"q\"\u001b[0m\u001b[0;34m:\u001b[0m \u001b[0;34m\"Coffee\"\u001b[0m\u001b[0;34m,\u001b[0m\u001b[0;34m\u001b[0m\u001b[0;34m\u001b[0m\u001b[0m\n\u001b[1;32m      5\u001b[0m   \u001b[0;34m\"location\"\u001b[0m\u001b[0;34m:\u001b[0m \u001b[0;34m\"Austin, Texas, United States\"\u001b[0m\u001b[0;34m,\u001b[0m\u001b[0;34m\u001b[0m\u001b[0;34m\u001b[0m\u001b[0m\n",
            "\u001b[0;31mModuleNotFoundError\u001b[0m: No module named 'serpapi'",
            "",
            "\u001b[0;31m---------------------------------------------------------------------------\u001b[0;32m\nNOTE: If your import is failing due to a missing package, you can\nmanually install dependencies using either !pip or !apt.\n\nTo view examples of installing some common dependencies, click the\n\"Open Examples\" button below.\n\u001b[0;31m---------------------------------------------------------------------------\u001b[0m\n"
          ],
          "errorDetails": {
            "actions": [
              {
                "action": "open_url",
                "actionText": "Open Examples",
                "url": "/notebooks/snippets/importing_libraries.ipynb"
              }
            ]
          }
        }
      ]
    },
    {
      "cell_type": "code",
      "source": [
        "!pip install google-search-results"
      ],
      "metadata": {
        "colab": {
          "base_uri": "https://localhost:8080/"
        },
        "id": "sxQlel3vWbSs",
        "outputId": "6b20079c-51d4-4223-8e5b-700e0fd72da9"
      },
      "execution_count": 3,
      "outputs": [
        {
          "output_type": "stream",
          "name": "stdout",
          "text": [
            "Collecting google-search-results\n",
            "  Downloading google_search_results-2.4.2.tar.gz (18 kB)\n",
            "  Preparing metadata (setup.py) ... \u001b[?25l\u001b[?25hdone\n",
            "Requirement already satisfied: requests in /usr/local/lib/python3.11/dist-packages (from google-search-results) (2.32.3)\n",
            "Requirement already satisfied: charset-normalizer<4,>=2 in /usr/local/lib/python3.11/dist-packages (from requests->google-search-results) (3.4.1)\n",
            "Requirement already satisfied: idna<4,>=2.5 in /usr/local/lib/python3.11/dist-packages (from requests->google-search-results) (3.10)\n",
            "Requirement already satisfied: urllib3<3,>=1.21.1 in /usr/local/lib/python3.11/dist-packages (from requests->google-search-results) (2.3.0)\n",
            "Requirement already satisfied: certifi>=2017.4.17 in /usr/local/lib/python3.11/dist-packages (from requests->google-search-results) (2025.1.31)\n",
            "Building wheels for collected packages: google-search-results\n",
            "  Building wheel for google-search-results (setup.py) ... \u001b[?25l\u001b[?25hdone\n",
            "  Created wheel for google-search-results: filename=google_search_results-2.4.2-py3-none-any.whl size=32009 sha256=7cd59333d4cbfc6f06dfa80e209439c982d32343e9b54efa724e8892c8af22a2\n",
            "  Stored in directory: /root/.cache/pip/wheels/6e/42/3e/aeb691b02cb7175ec70e2da04b5658d4739d2b41e5f73cd06f\n",
            "Successfully built google-search-results\n",
            "Installing collected packages: google-search-results\n",
            "Successfully installed google-search-results-2.4.2\n"
          ]
        }
      ]
    },
    {
      "cell_type": "code",
      "source": [
        "import requests\n",
        "from bs4 import BeautifulSoup\n",
        "\n",
        "# Заголовки для имитации браузера\n",
        "headers = {\n",
        "    \"User-Agent\": \"Mozilla/5.0 (Windows NT 10.0; Win64; x64) AppleWebKit/537.36 (KHTML, like Gecko) Chrome/58.0.3029.110 Safari/537.3\"\n",
        "}\n",
        "\n",
        "# URL для поиска изображений\n",
        "query = \"cats\"\n",
        "url = f\"https://www.google.com/search?q={query}&tbm=isch\"\n",
        "\n",
        "# Получаем HTML-страницу\n",
        "response = requests.get(url, headers=headers)\n",
        "soup = BeautifulSoup(response.text, \"html.parser\")\n",
        "\n",
        "# Парсим ссылки на изображения\n",
        "images = soup.find_all(\"img\")\n",
        "for img in images:\n",
        "    print(img[\"src\"])"
      ],
      "metadata": {
        "colab": {
          "base_uri": "https://localhost:8080/"
        },
        "id": "6RsXtFwVZLu9",
        "outputId": "96fc0ad7-d13c-44c9-ab6a-63a1b0f90f91"
      },
      "execution_count": 6,
      "outputs": [
        {
          "output_type": "stream",
          "name": "stdout",
          "text": [
            "/images/branding/searchlogo/1x/googlelogo_desk_heirloom_color_150x55dp.gif\n",
            "https://encrypted-tbn0.gstatic.com/images?q=tbn:ANd9GcQ_PUW5gkboLBc32MHM6WevfFfUEnhKnC4oW3YqhEJgtZ7Z3ItsyCz6Y7KG4A&s\n",
            "https://encrypted-tbn0.gstatic.com/images?q=tbn:ANd9GcQVU0uwX9vLIBdj2PEmj92boNflR9cdgZwHFAlflcYXjbpjx54lof_TSAcMxHI&s\n",
            "https://encrypted-tbn0.gstatic.com/images?q=tbn:ANd9GcQ4JkkEv2Hs8FAhJGQ_M5reXVGnyfDfTM6VJmJ5Ssjce2I_g9aT53elyWsNyQ&s\n",
            "https://encrypted-tbn0.gstatic.com/images?q=tbn:ANd9GcTqRAacyyCUH3be5QnSosbaJx5Mmq2V2AmVX-ygxThqsfhkqc3c9uDuYOTSk68&s\n",
            "https://encrypted-tbn0.gstatic.com/images?q=tbn:ANd9GcRQTFtPsTkPp2xs--jjDs83ok9MFSPT0VBgUaQmBeBppoh-F_pc0NgQs2itsw&s\n",
            "https://encrypted-tbn0.gstatic.com/images?q=tbn:ANd9GcQxEo1P1z__u9YzuWsWxU1aLO3pVPKokmZpmRBNKNxSfEVzmgHiJgndSJKA_84&s\n",
            "https://encrypted-tbn0.gstatic.com/images?q=tbn:ANd9GcS5q-wlx-yZOH9o8-6P408-TfQcBxswODSlxyf49ga7hnUO24IisWQWNPpG2AU&s\n",
            "https://encrypted-tbn0.gstatic.com/images?q=tbn:ANd9GcTdgsCqJtdLa07AuH8S7SS-jzrsVx1wQ2s9ecAJdUX7Tla9zhRRSspp5W5wUA&s\n",
            "https://encrypted-tbn0.gstatic.com/images?q=tbn:ANd9GcQN2_cAOypMH0H-t7XqaDRBuTYKp-hJ4hiZJsAV2_bSKJeAbcQyalGp2H4OS3w&s\n",
            "https://encrypted-tbn0.gstatic.com/images?q=tbn:ANd9GcRHrQSrZR8c-PzJ6YkSeEuPOHw2sM1ehNdK9nnNs_5wkRkNnRIum2JX5ZOHqA&s\n",
            "https://encrypted-tbn0.gstatic.com/images?q=tbn:ANd9GcTOyS5jrGynKIQqMKTOxi_MPbQFub8zsBDGtNVYioaWRFQJ1A8jjJArAoctXuM&s\n",
            "https://encrypted-tbn0.gstatic.com/images?q=tbn:ANd9GcQoCEZ4p82X3CbDv2U26cp6e8Yzms-rZKZCLyeEwKQP9v9E4BaEgmVTVVmN-Iw&s\n",
            "https://encrypted-tbn0.gstatic.com/images?q=tbn:ANd9GcSNYajWmR3ojAUukMt_8f9oVrd7Wo78BRBlv2fv7nz-NN802Fd57a5sU1uA6g&s\n",
            "https://encrypted-tbn0.gstatic.com/images?q=tbn:ANd9GcSnwwyZjtcr7kEeS-5IHaPJFJMwFQcC8yLm7yYUy0rC2dyl13JsQeYNG75p-Q&s\n",
            "https://encrypted-tbn0.gstatic.com/images?q=tbn:ANd9GcS4aEE-RJ0Z24azkhKlSA10eqnRKcjkzRb73jvss_rRWwFaS2L3Gmg42h8tBsA&s\n",
            "https://encrypted-tbn0.gstatic.com/images?q=tbn:ANd9GcRmlcaPOmiNtGWD3ta8r80uHxcvtT3Kb_ZEnOQEFWTpAZ8FKnnCUv6I7t7zEQ&s\n",
            "https://encrypted-tbn0.gstatic.com/images?q=tbn:ANd9GcSHoEbzvcOL3gh-yyZPIeYDDmq0almlNY-DqRo2nnccR7FW0vkUSYPnTMzQfA&s\n",
            "https://encrypted-tbn0.gstatic.com/images?q=tbn:ANd9GcSfiKnxtvDGnD-SMOtPqXechTYf-i4j_hDZp0jQTDg52NTPnVSkiHnRgub-k8E&s\n",
            "https://encrypted-tbn0.gstatic.com/images?q=tbn:ANd9GcR-zBti4ojmVXcKFuDqnPELrjUjFKQJO8256aou5j9S-H8dig39tFJazM0u5Ms&s\n",
            "https://encrypted-tbn0.gstatic.com/images?q=tbn:ANd9GcSr0ONFZ9LjFuX5h66PdDZqTirDkbvzJUh0izRf-nUqveavur62vjzfoxHNWg&s\n"
          ]
        }
      ]
    },
    {
      "cell_type": "code",
      "source": [
        "!pip install -r /content/AI-Powered-Video-Tutorial-Generator/backend/requirements.txt"
      ],
      "metadata": {
        "colab": {
          "base_uri": "https://localhost:8080/",
          "height": 1000
        },
        "id": "Prbw4zpfPoc4",
        "outputId": "5ac41871-5d19-4380-feca-fcbffeb38a1d"
      },
      "execution_count": 7,
      "outputs": [
        {
          "output_type": "stream",
          "name": "stdout",
          "text": [
            "Collecting cohere==4.7.0 (from -r /content/AI-Powered-Video-Tutorial-Generator/backend/requirements.txt (line 1))\n",
            "  Using cached cohere-4.7.0-py3-none-any.whl.metadata (5.0 kB)\n",
            "Requirement already satisfied: decorator==4.4.2 in /usr/local/lib/python3.11/dist-packages (from -r /content/AI-Powered-Video-Tutorial-Generator/backend/requirements.txt (line 2)) (4.4.2)\n",
            "Collecting edge-tts==6.1.6 (from -r /content/AI-Powered-Video-Tutorial-Generator/backend/requirements.txt (line 3))\n",
            "  Using cached edge_tts-6.1.6-py3-none-any.whl.metadata (4.2 kB)\n",
            "Collecting fastapi==0.96.0 (from -r /content/AI-Powered-Video-Tutorial-Generator/backend/requirements.txt (line 4))\n",
            "  Using cached fastapi-0.96.0-py3-none-any.whl.metadata (24 kB)\n",
            "Collecting ffmpeg==1.4 (from -r /content/AI-Powered-Video-Tutorial-Generator/backend/requirements.txt (line 5))\n",
            "  Using cached ffmpeg-1.4.tar.gz (5.1 kB)\n",
            "  Preparing metadata (setup.py) ... \u001b[?25l\u001b[?25hdone\n",
            "Collecting imageio==2.19.3 (from -r /content/AI-Powered-Video-Tutorial-Generator/backend/requirements.txt (line 6))\n",
            "  Using cached imageio-2.19.3-py3-none-any.whl.metadata (4.9 kB)\n",
            "Collecting imageio-ffmpeg==0.4.7 (from -r /content/AI-Powered-Video-Tutorial-Generator/backend/requirements.txt (line 7))\n",
            "  Using cached imageio_ffmpeg-0.4.7-py3-none-manylinux2010_x86_64.whl.metadata (1.6 kB)\n",
            "Collecting langchain==0.0.189 (from -r /content/AI-Powered-Video-Tutorial-Generator/backend/requirements.txt (line 8))\n",
            "  Using cached langchain-0.0.189-py3-none-any.whl.metadata (12 kB)\n",
            "Requirement already satisfied: moviepy==1.0.3 in /usr/local/lib/python3.11/dist-packages (from -r /content/AI-Powered-Video-Tutorial-Generator/backend/requirements.txt (line 9)) (1.0.3)\n",
            "Collecting opencv-python==4.7.0.72 (from -r /content/AI-Powered-Video-Tutorial-Generator/backend/requirements.txt (line 10))\n",
            "  Using cached opencv_python-4.7.0.72-cp37-abi3-manylinux_2_17_x86_64.manylinux2014_x86_64.whl.metadata (18 kB)\n",
            "Collecting Pillow==9.5.0 (from -r /content/AI-Powered-Video-Tutorial-Generator/backend/requirements.txt (line 11))\n",
            "  Using cached Pillow-9.5.0-cp311-cp311-manylinux_2_28_x86_64.whl.metadata (9.5 kB)\n",
            "Requirement already satisfied: google-images-download==2.8.0 in /usr/local/lib/python3.11/dist-packages (from -r /content/AI-Powered-Video-Tutorial-Generator/backend/requirements.txt (line 12)) (2.8.0)\n",
            "Collecting uvicorn==0.22.0 (from -r /content/AI-Powered-Video-Tutorial-Generator/backend/requirements.txt (line 13))\n",
            "  Using cached uvicorn-0.22.0-py3-none-any.whl.metadata (6.3 kB)\n",
            "Requirement already satisfied: aiohttp<4.0,>=3.0 in /usr/local/lib/python3.11/dist-packages (from cohere==4.7.0->-r /content/AI-Powered-Video-Tutorial-Generator/backend/requirements.txt (line 1)) (3.11.13)\n",
            "Collecting backoff<3.0,>=2.0 (from cohere==4.7.0->-r /content/AI-Powered-Video-Tutorial-Generator/backend/requirements.txt (line 1))\n",
            "  Using cached backoff-2.2.1-py3-none-any.whl.metadata (14 kB)\n",
            "Requirement already satisfied: requests<3.0,>=2.0 in /usr/local/lib/python3.11/dist-packages (from cohere==4.7.0->-r /content/AI-Powered-Video-Tutorial-Generator/backend/requirements.txt (line 1)) (2.32.3)\n",
            "Collecting pydantic!=1.7,!=1.7.1,!=1.7.2,!=1.7.3,!=1.8,!=1.8.1,<2.0.0,>=1.6.2 (from fastapi==0.96.0->-r /content/AI-Powered-Video-Tutorial-Generator/backend/requirements.txt (line 4))\n",
            "  Using cached pydantic-1.10.21-cp311-cp311-manylinux_2_17_x86_64.manylinux2014_x86_64.whl.metadata (153 kB)\n",
            "Collecting starlette<0.28.0,>=0.27.0 (from fastapi==0.96.0->-r /content/AI-Powered-Video-Tutorial-Generator/backend/requirements.txt (line 4))\n",
            "  Using cached starlette-0.27.0-py3-none-any.whl.metadata (5.8 kB)\n",
            "Requirement already satisfied: numpy in /usr/local/lib/python3.11/dist-packages (from imageio==2.19.3->-r /content/AI-Powered-Video-Tutorial-Generator/backend/requirements.txt (line 6)) (1.26.4)\n",
            "Requirement already satisfied: PyYAML>=5.4.1 in /usr/local/lib/python3.11/dist-packages (from langchain==0.0.189->-r /content/AI-Powered-Video-Tutorial-Generator/backend/requirements.txt (line 8)) (6.0.2)\n",
            "Requirement already satisfied: SQLAlchemy<3,>=1.4 in /usr/local/lib/python3.11/dist-packages (from langchain==0.0.189->-r /content/AI-Powered-Video-Tutorial-Generator/backend/requirements.txt (line 8)) (2.0.38)\n",
            "Collecting dataclasses-json<0.6.0,>=0.5.7 (from langchain==0.0.189->-r /content/AI-Powered-Video-Tutorial-Generator/backend/requirements.txt (line 8))\n",
            "  Using cached dataclasses_json-0.5.14-py3-none-any.whl.metadata (22 kB)\n",
            "Requirement already satisfied: numexpr<3.0.0,>=2.8.4 in /usr/local/lib/python3.11/dist-packages (from langchain==0.0.189->-r /content/AI-Powered-Video-Tutorial-Generator/backend/requirements.txt (line 8)) (2.10.2)\n",
            "Collecting openapi-schema-pydantic<2.0,>=1.2 (from langchain==0.0.189->-r /content/AI-Powered-Video-Tutorial-Generator/backend/requirements.txt (line 8))\n",
            "  Using cached openapi_schema_pydantic-1.2.4-py3-none-any.whl.metadata (8.5 kB)\n",
            "Collecting tenacity<9.0.0,>=8.1.0 (from langchain==0.0.189->-r /content/AI-Powered-Video-Tutorial-Generator/backend/requirements.txt (line 8))\n",
            "  Using cached tenacity-8.5.0-py3-none-any.whl.metadata (1.2 kB)\n",
            "Requirement already satisfied: tqdm<5.0,>=4.11.2 in /usr/local/lib/python3.11/dist-packages (from moviepy==1.0.3->-r /content/AI-Powered-Video-Tutorial-Generator/backend/requirements.txt (line 9)) (4.67.1)\n",
            "Requirement already satisfied: proglog<=1.0.0 in /usr/local/lib/python3.11/dist-packages (from moviepy==1.0.3->-r /content/AI-Powered-Video-Tutorial-Generator/backend/requirements.txt (line 9)) (0.1.10)\n",
            "Requirement already satisfied: selenium in /usr/local/lib/python3.11/dist-packages (from google-images-download==2.8.0->-r /content/AI-Powered-Video-Tutorial-Generator/backend/requirements.txt (line 12)) (4.29.0)\n",
            "Requirement already satisfied: click>=7.0 in /usr/local/lib/python3.11/dist-packages (from uvicorn==0.22.0->-r /content/AI-Powered-Video-Tutorial-Generator/backend/requirements.txt (line 13)) (8.1.8)\n",
            "Requirement already satisfied: h11>=0.8 in /usr/local/lib/python3.11/dist-packages (from uvicorn==0.22.0->-r /content/AI-Powered-Video-Tutorial-Generator/backend/requirements.txt (line 13)) (0.14.0)\n",
            "Requirement already satisfied: aiohappyeyeballs>=2.3.0 in /usr/local/lib/python3.11/dist-packages (from aiohttp<4.0,>=3.0->cohere==4.7.0->-r /content/AI-Powered-Video-Tutorial-Generator/backend/requirements.txt (line 1)) (2.5.0)\n",
            "Requirement already satisfied: aiosignal>=1.1.2 in /usr/local/lib/python3.11/dist-packages (from aiohttp<4.0,>=3.0->cohere==4.7.0->-r /content/AI-Powered-Video-Tutorial-Generator/backend/requirements.txt (line 1)) (1.3.2)\n",
            "Requirement already satisfied: attrs>=17.3.0 in /usr/local/lib/python3.11/dist-packages (from aiohttp<4.0,>=3.0->cohere==4.7.0->-r /content/AI-Powered-Video-Tutorial-Generator/backend/requirements.txt (line 1)) (25.1.0)\n",
            "Requirement already satisfied: frozenlist>=1.1.1 in /usr/local/lib/python3.11/dist-packages (from aiohttp<4.0,>=3.0->cohere==4.7.0->-r /content/AI-Powered-Video-Tutorial-Generator/backend/requirements.txt (line 1)) (1.5.0)\n",
            "Requirement already satisfied: multidict<7.0,>=4.5 in /usr/local/lib/python3.11/dist-packages (from aiohttp<4.0,>=3.0->cohere==4.7.0->-r /content/AI-Powered-Video-Tutorial-Generator/backend/requirements.txt (line 1)) (6.1.0)\n",
            "Requirement already satisfied: propcache>=0.2.0 in /usr/local/lib/python3.11/dist-packages (from aiohttp<4.0,>=3.0->cohere==4.7.0->-r /content/AI-Powered-Video-Tutorial-Generator/backend/requirements.txt (line 1)) (0.3.0)\n",
            "Requirement already satisfied: yarl<2.0,>=1.17.0 in /usr/local/lib/python3.11/dist-packages (from aiohttp<4.0,>=3.0->cohere==4.7.0->-r /content/AI-Powered-Video-Tutorial-Generator/backend/requirements.txt (line 1)) (1.18.3)\n",
            "Requirement already satisfied: marshmallow<4.0.0,>=3.18.0 in /usr/local/lib/python3.11/dist-packages (from dataclasses-json<0.6.0,>=0.5.7->langchain==0.0.189->-r /content/AI-Powered-Video-Tutorial-Generator/backend/requirements.txt (line 8)) (3.26.1)\n",
            "Requirement already satisfied: typing-inspect<1,>=0.4.0 in /usr/local/lib/python3.11/dist-packages (from dataclasses-json<0.6.0,>=0.5.7->langchain==0.0.189->-r /content/AI-Powered-Video-Tutorial-Generator/backend/requirements.txt (line 8)) (0.9.0)\n",
            "Requirement already satisfied: typing-extensions>=4.2.0 in /usr/local/lib/python3.11/dist-packages (from pydantic!=1.7,!=1.7.1,!=1.7.2,!=1.7.3,!=1.8,!=1.8.1,<2.0.0,>=1.6.2->fastapi==0.96.0->-r /content/AI-Powered-Video-Tutorial-Generator/backend/requirements.txt (line 4)) (4.12.2)\n",
            "Requirement already satisfied: charset-normalizer<4,>=2 in /usr/local/lib/python3.11/dist-packages (from requests<3.0,>=2.0->cohere==4.7.0->-r /content/AI-Powered-Video-Tutorial-Generator/backend/requirements.txt (line 1)) (3.4.1)\n",
            "Requirement already satisfied: idna<4,>=2.5 in /usr/local/lib/python3.11/dist-packages (from requests<3.0,>=2.0->cohere==4.7.0->-r /content/AI-Powered-Video-Tutorial-Generator/backend/requirements.txt (line 1)) (3.10)\n",
            "Requirement already satisfied: urllib3<3,>=1.21.1 in /usr/local/lib/python3.11/dist-packages (from requests<3.0,>=2.0->cohere==4.7.0->-r /content/AI-Powered-Video-Tutorial-Generator/backend/requirements.txt (line 1)) (2.3.0)\n",
            "Requirement already satisfied: certifi>=2017.4.17 in /usr/local/lib/python3.11/dist-packages (from requests<3.0,>=2.0->cohere==4.7.0->-r /content/AI-Powered-Video-Tutorial-Generator/backend/requirements.txt (line 1)) (2025.1.31)\n",
            "Requirement already satisfied: greenlet!=0.4.17 in /usr/local/lib/python3.11/dist-packages (from SQLAlchemy<3,>=1.4->langchain==0.0.189->-r /content/AI-Powered-Video-Tutorial-Generator/backend/requirements.txt (line 8)) (3.1.1)\n",
            "Requirement already satisfied: anyio<5,>=3.4.0 in /usr/local/lib/python3.11/dist-packages (from starlette<0.28.0,>=0.27.0->fastapi==0.96.0->-r /content/AI-Powered-Video-Tutorial-Generator/backend/requirements.txt (line 4)) (3.7.1)\n",
            "Requirement already satisfied: trio~=0.17 in /usr/local/lib/python3.11/dist-packages (from selenium->google-images-download==2.8.0->-r /content/AI-Powered-Video-Tutorial-Generator/backend/requirements.txt (line 12)) (0.29.0)\n",
            "Requirement already satisfied: trio-websocket~=0.9 in /usr/local/lib/python3.11/dist-packages (from selenium->google-images-download==2.8.0->-r /content/AI-Powered-Video-Tutorial-Generator/backend/requirements.txt (line 12)) (0.12.2)\n",
            "Requirement already satisfied: websocket-client~=1.8 in /usr/local/lib/python3.11/dist-packages (from selenium->google-images-download==2.8.0->-r /content/AI-Powered-Video-Tutorial-Generator/backend/requirements.txt (line 12)) (1.8.0)\n",
            "Requirement already satisfied: sniffio>=1.1 in /usr/local/lib/python3.11/dist-packages (from anyio<5,>=3.4.0->starlette<0.28.0,>=0.27.0->fastapi==0.96.0->-r /content/AI-Powered-Video-Tutorial-Generator/backend/requirements.txt (line 4)) (1.3.1)\n",
            "Requirement already satisfied: packaging>=17.0 in /usr/local/lib/python3.11/dist-packages (from marshmallow<4.0.0,>=3.18.0->dataclasses-json<0.6.0,>=0.5.7->langchain==0.0.189->-r /content/AI-Powered-Video-Tutorial-Generator/backend/requirements.txt (line 8)) (24.2)\n",
            "Requirement already satisfied: sortedcontainers in /usr/local/lib/python3.11/dist-packages (from trio~=0.17->selenium->google-images-download==2.8.0->-r /content/AI-Powered-Video-Tutorial-Generator/backend/requirements.txt (line 12)) (2.4.0)\n",
            "Requirement already satisfied: outcome in /usr/local/lib/python3.11/dist-packages (from trio~=0.17->selenium->google-images-download==2.8.0->-r /content/AI-Powered-Video-Tutorial-Generator/backend/requirements.txt (line 12)) (1.3.0.post0)\n",
            "Requirement already satisfied: wsproto>=0.14 in /usr/local/lib/python3.11/dist-packages (from trio-websocket~=0.9->selenium->google-images-download==2.8.0->-r /content/AI-Powered-Video-Tutorial-Generator/backend/requirements.txt (line 12)) (1.2.0)\n",
            "Requirement already satisfied: mypy-extensions>=0.3.0 in /usr/local/lib/python3.11/dist-packages (from typing-inspect<1,>=0.4.0->dataclasses-json<0.6.0,>=0.5.7->langchain==0.0.189->-r /content/AI-Powered-Video-Tutorial-Generator/backend/requirements.txt (line 8)) (1.0.0)\n",
            "Requirement already satisfied: pysocks!=1.5.7,<2.0,>=1.5.6 in /usr/local/lib/python3.11/dist-packages (from urllib3[socks]<3,>=1.26->selenium->google-images-download==2.8.0->-r /content/AI-Powered-Video-Tutorial-Generator/backend/requirements.txt (line 12)) (1.7.1)\n",
            "Downloading cohere-4.7.0-py3-none-any.whl (33 kB)\n",
            "Downloading edge_tts-6.1.6-py3-none-any.whl (27 kB)\n",
            "Downloading fastapi-0.96.0-py3-none-any.whl (57 kB)\n",
            "\u001b[2K   \u001b[90m━━━━━━━━━━━━━━━━━━━━━━━━━━━━━━━━━━━━━━━━\u001b[0m \u001b[32m57.1/57.1 kB\u001b[0m \u001b[31m3.3 MB/s\u001b[0m eta \u001b[36m0:00:00\u001b[0m\n",
            "\u001b[?25hDownloading imageio-2.19.3-py3-none-any.whl (3.4 MB)\n",
            "\u001b[2K   \u001b[90m━━━━━━━━━━━━━━━━━━━━━━━━━━━━━━━━━━━━━━━━\u001b[0m \u001b[32m3.4/3.4 MB\u001b[0m \u001b[31m38.9 MB/s\u001b[0m eta \u001b[36m0:00:00\u001b[0m\n",
            "\u001b[?25hDownloading imageio_ffmpeg-0.4.7-py3-none-manylinux2010_x86_64.whl (26.9 MB)\n",
            "\u001b[2K   \u001b[90m━━━━━━━━━━━━━━━━━━━━━━━━━━━━━━━━━━━━━━━━\u001b[0m \u001b[32m26.9/26.9 MB\u001b[0m \u001b[31m41.9 MB/s\u001b[0m eta \u001b[36m0:00:00\u001b[0m\n",
            "\u001b[?25hDownloading langchain-0.0.189-py3-none-any.whl (975 kB)\n",
            "\u001b[2K   \u001b[90m━━━━━━━━━━━━━━━━━━━━━━━━━━━━━━━━━━━━━━━━\u001b[0m \u001b[32m975.6/975.6 kB\u001b[0m \u001b[31m36.6 MB/s\u001b[0m eta \u001b[36m0:00:00\u001b[0m\n",
            "\u001b[?25hDownloading opencv_python-4.7.0.72-cp37-abi3-manylinux_2_17_x86_64.manylinux2014_x86_64.whl (61.8 MB)\n",
            "\u001b[2K   \u001b[90m━━━━━━━━━━━━━━━━━━━━━━━━━━━━━━━━━━━━━━━━\u001b[0m \u001b[32m61.8/61.8 MB\u001b[0m \u001b[31m6.8 MB/s\u001b[0m eta \u001b[36m0:00:00\u001b[0m\n",
            "\u001b[?25hDownloading Pillow-9.5.0-cp311-cp311-manylinux_2_28_x86_64.whl (3.4 MB)\n",
            "\u001b[2K   \u001b[90m━━━━━━━━━━━━━━━━━━━━━━━━━━━━━━━━━━━━━━━━\u001b[0m \u001b[32m3.4/3.4 MB\u001b[0m \u001b[31m64.6 MB/s\u001b[0m eta \u001b[36m0:00:00\u001b[0m\n",
            "\u001b[?25hDownloading uvicorn-0.22.0-py3-none-any.whl (58 kB)\n",
            "\u001b[2K   \u001b[90m━━━━━━━━━━━━━━━━━━━━━━━━━━━━━━━━━━━━━━━━\u001b[0m \u001b[32m58.3/58.3 kB\u001b[0m \u001b[31m3.8 MB/s\u001b[0m eta \u001b[36m0:00:00\u001b[0m\n",
            "\u001b[?25hDownloading backoff-2.2.1-py3-none-any.whl (15 kB)\n",
            "Downloading dataclasses_json-0.5.14-py3-none-any.whl (26 kB)\n",
            "Downloading openapi_schema_pydantic-1.2.4-py3-none-any.whl (90 kB)\n",
            "\u001b[2K   \u001b[90m━━━━━━━━━━━━━━━━━━━━━━━━━━━━━━━━━━━━━━━━\u001b[0m \u001b[32m90.0/90.0 kB\u001b[0m \u001b[31m6.0 MB/s\u001b[0m eta \u001b[36m0:00:00\u001b[0m\n",
            "\u001b[?25hDownloading pydantic-1.10.21-cp311-cp311-manylinux_2_17_x86_64.manylinux2014_x86_64.whl (3.1 MB)\n",
            "\u001b[2K   \u001b[90m━━━━━━━━━━━━━━━━━━━━━━━━━━━━━━━━━━━━━━━━\u001b[0m \u001b[32m3.1/3.1 MB\u001b[0m \u001b[31m54.8 MB/s\u001b[0m eta \u001b[36m0:00:00\u001b[0m\n",
            "\u001b[?25hDownloading starlette-0.27.0-py3-none-any.whl (66 kB)\n",
            "\u001b[2K   \u001b[90m━━━━━━━━━━━━━━━━━━━━━━━━━━━━━━━━━━━━━━━━\u001b[0m \u001b[32m67.0/67.0 kB\u001b[0m \u001b[31m3.9 MB/s\u001b[0m eta \u001b[36m0:00:00\u001b[0m\n",
            "\u001b[?25hDownloading tenacity-8.5.0-py3-none-any.whl (28 kB)\n",
            "Building wheels for collected packages: ffmpeg\n",
            "  Building wheel for ffmpeg (setup.py) ... \u001b[?25l\u001b[?25hdone\n",
            "  Created wheel for ffmpeg: filename=ffmpeg-1.4-py3-none-any.whl size=6082 sha256=884b5aae70b2b4df2937161ddb8b9c74e070ae5abaade1f698264fc8cc8cf9d8\n",
            "  Stored in directory: /root/.cache/pip/wheels/56/30/c5/576bdd729f3bc062d62a551be7fefd6ed2f761901568171e4e\n",
            "Successfully built ffmpeg\n",
            "Installing collected packages: ffmpeg, uvicorn, tenacity, pydantic, Pillow, opencv-python, imageio-ffmpeg, backoff, starlette, openapi-schema-pydantic, imageio, dataclasses-json, langchain, fastapi, edge-tts, cohere\n",
            "  Attempting uninstall: uvicorn\n",
            "    Found existing installation: uvicorn 0.34.0\n",
            "    Uninstalling uvicorn-0.34.0:\n",
            "      Successfully uninstalled uvicorn-0.34.0\n",
            "  Attempting uninstall: tenacity\n",
            "    Found existing installation: tenacity 9.0.0\n",
            "    Uninstalling tenacity-9.0.0:\n",
            "      Successfully uninstalled tenacity-9.0.0\n",
            "  Attempting uninstall: pydantic\n",
            "    Found existing installation: pydantic 2.10.6\n",
            "    Uninstalling pydantic-2.10.6:\n",
            "      Successfully uninstalled pydantic-2.10.6\n",
            "  Attempting uninstall: Pillow\n",
            "    Found existing installation: pillow 11.1.0\n",
            "    Uninstalling pillow-11.1.0:\n",
            "      Successfully uninstalled pillow-11.1.0\n",
            "  Attempting uninstall: opencv-python\n",
            "    Found existing installation: opencv-python 4.11.0.86\n",
            "    Uninstalling opencv-python-4.11.0.86:\n",
            "      Successfully uninstalled opencv-python-4.11.0.86\n",
            "  Attempting uninstall: imageio-ffmpeg\n",
            "    Found existing installation: imageio-ffmpeg 0.6.0\n",
            "    Uninstalling imageio-ffmpeg-0.6.0:\n",
            "      Successfully uninstalled imageio-ffmpeg-0.6.0\n",
            "  Attempting uninstall: starlette\n",
            "    Found existing installation: starlette 0.46.1\n",
            "    Uninstalling starlette-0.46.1:\n",
            "      Successfully uninstalled starlette-0.46.1\n",
            "  Attempting uninstall: imageio\n",
            "    Found existing installation: imageio 2.37.0\n",
            "    Uninstalling imageio-2.37.0:\n",
            "      Successfully uninstalled imageio-2.37.0\n",
            "  Attempting uninstall: dataclasses-json\n",
            "    Found existing installation: dataclasses-json 0.6.7\n",
            "    Uninstalling dataclasses-json-0.6.7:\n",
            "      Successfully uninstalled dataclasses-json-0.6.7\n",
            "  Attempting uninstall: langchain\n",
            "    Found existing installation: langchain 0.3.20\n",
            "    Uninstalling langchain-0.3.20:\n",
            "      Successfully uninstalled langchain-0.3.20\n",
            "  Attempting uninstall: fastapi\n",
            "    Found existing installation: fastapi 0.115.11\n",
            "    Uninstalling fastapi-0.115.11:\n",
            "      Successfully uninstalled fastapi-0.115.11\n",
            "  Attempting uninstall: cohere\n",
            "    Found existing installation: cohere 5.14.0\n",
            "    Uninstalling cohere-5.14.0:\n",
            "      Successfully uninstalled cohere-5.14.0\n",
            "\u001b[31mERROR: pip's dependency resolver does not currently take into account all the packages that are installed. This behaviour is the source of the following dependency conflicts.\n",
            "pydantic-settings 2.8.1 requires pydantic>=2.7.0, but you have pydantic 1.10.21 which is incompatible.\n",
            "langchain-community 0.3.19 requires langchain<1.0.0,>=0.3.20, but you have langchain 0.0.189 which is incompatible.\n",
            "langchain-core 0.3.41 requires pydantic<3.0.0,>=2.5.2; python_full_version < \"3.12.4\", but you have pydantic 1.10.21 which is incompatible.\n",
            "scikit-image 0.25.2 requires imageio!=2.35.0,>=2.33, but you have imageio 2.19.3 which is incompatible.\n",
            "scikit-image 0.25.2 requires pillow>=10.1, but you have pillow 9.5.0 which is incompatible.\n",
            "google-genai 1.4.0 requires pydantic<3.0.0dev,>=2.0.0, but you have pydantic 1.10.21 which is incompatible.\n",
            "wandb 0.19.8 requires pydantic<3,>=2.6, but you have pydantic 1.10.21 which is incompatible.\n",
            "albumentations 2.0.5 requires pydantic>=2.9.2, but you have pydantic 1.10.21 which is incompatible.\u001b[0m\u001b[31m\n",
            "\u001b[0mSuccessfully installed Pillow-9.5.0 backoff-2.2.1 cohere-4.7.0 dataclasses-json-0.5.14 edge-tts-6.1.6 fastapi-0.96.0 ffmpeg-1.4 imageio-2.19.3 imageio-ffmpeg-0.4.7 langchain-0.0.189 openapi-schema-pydantic-1.2.4 opencv-python-4.7.0.72 pydantic-1.10.21 starlette-0.27.0 tenacity-8.5.0 uvicorn-0.22.0\n"
          ]
        },
        {
          "output_type": "display_data",
          "data": {
            "application/vnd.colab-display-data+json": {
              "pip_warning": {
                "packages": [
                  "PIL"
                ]
              },
              "id": "a3a733dac1bd4c1c9d87f4138c6a4c84"
            }
          },
          "metadata": {}
        }
      ]
    },
    {
      "cell_type": "code",
      "source": [
        "!pip install --upgrade pydantic"
      ],
      "metadata": {
        "colab": {
          "base_uri": "https://localhost:8080/"
        },
        "id": "1C9spWFEbrt9",
        "outputId": "fdcdc4bc-0b39-4b81-8197-f60713cd15eb"
      },
      "execution_count": 1,
      "outputs": [
        {
          "output_type": "stream",
          "name": "stdout",
          "text": [
            "Requirement already satisfied: pydantic in /usr/local/lib/python3.11/dist-packages (2.10.6)\n",
            "Requirement already satisfied: annotated-types>=0.6.0 in /usr/local/lib/python3.11/dist-packages (from pydantic) (0.7.0)\n",
            "Requirement already satisfied: pydantic-core==2.27.2 in /usr/local/lib/python3.11/dist-packages (from pydantic) (2.27.2)\n",
            "Requirement already satisfied: typing-extensions>=4.12.2 in /usr/local/lib/python3.11/dist-packages (from pydantic) (4.12.2)\n"
          ]
        }
      ]
    },
    {
      "cell_type": "code",
      "source": [
        "!pip install --upgrade imageio pillow"
      ],
      "metadata": {
        "colab": {
          "base_uri": "https://localhost:8080/",
          "height": 478
        },
        "id": "JPZfyOr4Ps5Z",
        "outputId": "e68367c9-21c0-472c-a216-733157956399"
      },
      "execution_count": 2,
      "outputs": [
        {
          "output_type": "stream",
          "name": "stdout",
          "text": [
            "Requirement already satisfied: imageio in /usr/local/lib/python3.11/dist-packages (2.19.3)\n",
            "Collecting imageio\n",
            "  Downloading imageio-2.37.0-py3-none-any.whl.metadata (5.2 kB)\n",
            "Requirement already satisfied: pillow in /usr/local/lib/python3.11/dist-packages (9.5.0)\n",
            "Collecting pillow\n",
            "  Downloading pillow-11.1.0-cp311-cp311-manylinux_2_28_x86_64.whl.metadata (9.1 kB)\n",
            "Requirement already satisfied: numpy in /usr/local/lib/python3.11/dist-packages (from imageio) (1.26.4)\n",
            "Downloading imageio-2.37.0-py3-none-any.whl (315 kB)\n",
            "\u001b[2K   \u001b[90m━━━━━━━━━━━━━━━━━━━━━━━━━━━━━━━━━━━━━━━━\u001b[0m \u001b[32m315.8/315.8 kB\u001b[0m \u001b[31m6.1 MB/s\u001b[0m eta \u001b[36m0:00:00\u001b[0m\n",
            "\u001b[?25hDownloading pillow-11.1.0-cp311-cp311-manylinux_2_28_x86_64.whl (4.5 MB)\n",
            "\u001b[2K   \u001b[90m━━━━━━━━━━━━━━━━━━━━━━━━━━━━━━━━━━━━━━━━\u001b[0m \u001b[32m4.5/4.5 MB\u001b[0m \u001b[31m42.8 MB/s\u001b[0m eta \u001b[36m0:00:00\u001b[0m\n",
            "\u001b[?25hInstalling collected packages: pillow, imageio\n",
            "  Attempting uninstall: pillow\n",
            "    Found existing installation: Pillow 9.5.0\n",
            "    Uninstalling Pillow-9.5.0:\n",
            "      Successfully uninstalled Pillow-9.5.0\n",
            "  Attempting uninstall: imageio\n",
            "    Found existing installation: imageio 2.19.3\n",
            "    Uninstalling imageio-2.19.3:\n",
            "      Successfully uninstalled imageio-2.19.3\n",
            "Successfully installed imageio-2.37.0 pillow-11.1.0\n"
          ]
        },
        {
          "output_type": "display_data",
          "data": {
            "application/vnd.colab-display-data+json": {
              "pip_warning": {
                "packages": [
                  "PIL"
                ]
              },
              "id": "c732aa877ae244e2b2bbcb5537c8623e"
            }
          },
          "metadata": {}
        }
      ]
    },
    {
      "cell_type": "code",
      "source": [
        "!pip install -r /content/AI-Powered-Video-Tutorial-Generator/backend/requirements.txt"
      ],
      "metadata": {
        "colab": {
          "base_uri": "https://localhost:8080/"
        },
        "id": "u3wMGxSUcE7C",
        "outputId": "1054d455-939e-4f68-c62b-48e86e8b775c"
      },
      "execution_count": 1,
      "outputs": [
        {
          "output_type": "stream",
          "name": "stdout",
          "text": [
            "Requirement already satisfied: cohere==4.7.0 in /usr/local/lib/python3.11/dist-packages (from -r /content/AI-Powered-Video-Tutorial-Generator/backend/requirements.txt (line 1)) (4.7.0)\n",
            "Requirement already satisfied: decorator==4.4.2 in /usr/local/lib/python3.11/dist-packages (from -r /content/AI-Powered-Video-Tutorial-Generator/backend/requirements.txt (line 2)) (4.4.2)\n",
            "Requirement already satisfied: edge-tts==6.1.6 in /usr/local/lib/python3.11/dist-packages (from -r /content/AI-Powered-Video-Tutorial-Generator/backend/requirements.txt (line 3)) (6.1.6)\n",
            "Requirement already satisfied: fastapi==0.96.0 in /usr/local/lib/python3.11/dist-packages (from -r /content/AI-Powered-Video-Tutorial-Generator/backend/requirements.txt (line 4)) (0.96.0)\n",
            "Requirement already satisfied: ffmpeg==1.4 in /usr/local/lib/python3.11/dist-packages (from -r /content/AI-Powered-Video-Tutorial-Generator/backend/requirements.txt (line 5)) (1.4)\n",
            "Requirement already satisfied: imageio==2.19.3 in /usr/local/lib/python3.11/dist-packages (from -r /content/AI-Powered-Video-Tutorial-Generator/backend/requirements.txt (line 6)) (2.19.3)\n",
            "Requirement already satisfied: imageio-ffmpeg==0.4.7 in /usr/local/lib/python3.11/dist-packages (from -r /content/AI-Powered-Video-Tutorial-Generator/backend/requirements.txt (line 7)) (0.4.7)\n",
            "Requirement already satisfied: langchain==0.0.189 in /usr/local/lib/python3.11/dist-packages (from -r /content/AI-Powered-Video-Tutorial-Generator/backend/requirements.txt (line 8)) (0.0.189)\n",
            "Requirement already satisfied: moviepy==1.0.3 in /usr/local/lib/python3.11/dist-packages (from -r /content/AI-Powered-Video-Tutorial-Generator/backend/requirements.txt (line 9)) (1.0.3)\n",
            "Requirement already satisfied: opencv-python==4.7.0.72 in /usr/local/lib/python3.11/dist-packages (from -r /content/AI-Powered-Video-Tutorial-Generator/backend/requirements.txt (line 10)) (4.7.0.72)\n",
            "Requirement already satisfied: Pillow==9.5.0 in /usr/local/lib/python3.11/dist-packages (from -r /content/AI-Powered-Video-Tutorial-Generator/backend/requirements.txt (line 11)) (9.5.0)\n",
            "Requirement already satisfied: google-images-download==2.8.0 in /usr/local/lib/python3.11/dist-packages (from -r /content/AI-Powered-Video-Tutorial-Generator/backend/requirements.txt (line 12)) (2.8.0)\n",
            "Requirement already satisfied: uvicorn==0.22.0 in /usr/local/lib/python3.11/dist-packages (from -r /content/AI-Powered-Video-Tutorial-Generator/backend/requirements.txt (line 13)) (0.22.0)\n",
            "Requirement already satisfied: aiohttp<4.0,>=3.0 in /usr/local/lib/python3.11/dist-packages (from cohere==4.7.0->-r /content/AI-Powered-Video-Tutorial-Generator/backend/requirements.txt (line 1)) (3.11.13)\n",
            "Requirement already satisfied: backoff<3.0,>=2.0 in /usr/local/lib/python3.11/dist-packages (from cohere==4.7.0->-r /content/AI-Powered-Video-Tutorial-Generator/backend/requirements.txt (line 1)) (2.2.1)\n",
            "Requirement already satisfied: requests<3.0,>=2.0 in /usr/local/lib/python3.11/dist-packages (from cohere==4.7.0->-r /content/AI-Powered-Video-Tutorial-Generator/backend/requirements.txt (line 1)) (2.32.3)\n",
            "Requirement already satisfied: pydantic!=1.7,!=1.7.1,!=1.7.2,!=1.7.3,!=1.8,!=1.8.1,<2.0.0,>=1.6.2 in /usr/local/lib/python3.11/dist-packages (from fastapi==0.96.0->-r /content/AI-Powered-Video-Tutorial-Generator/backend/requirements.txt (line 4)) (1.10.21)\n",
            "Requirement already satisfied: starlette<0.28.0,>=0.27.0 in /usr/local/lib/python3.11/dist-packages (from fastapi==0.96.0->-r /content/AI-Powered-Video-Tutorial-Generator/backend/requirements.txt (line 4)) (0.27.0)\n",
            "Requirement already satisfied: numpy in /usr/local/lib/python3.11/dist-packages (from imageio==2.19.3->-r /content/AI-Powered-Video-Tutorial-Generator/backend/requirements.txt (line 6)) (1.26.4)\n",
            "Requirement already satisfied: PyYAML>=5.4.1 in /usr/local/lib/python3.11/dist-packages (from langchain==0.0.189->-r /content/AI-Powered-Video-Tutorial-Generator/backend/requirements.txt (line 8)) (6.0.2)\n",
            "Requirement already satisfied: SQLAlchemy<3,>=1.4 in /usr/local/lib/python3.11/dist-packages (from langchain==0.0.189->-r /content/AI-Powered-Video-Tutorial-Generator/backend/requirements.txt (line 8)) (2.0.38)\n",
            "Requirement already satisfied: dataclasses-json<0.6.0,>=0.5.7 in /usr/local/lib/python3.11/dist-packages (from langchain==0.0.189->-r /content/AI-Powered-Video-Tutorial-Generator/backend/requirements.txt (line 8)) (0.5.14)\n",
            "Requirement already satisfied: numexpr<3.0.0,>=2.8.4 in /usr/local/lib/python3.11/dist-packages (from langchain==0.0.189->-r /content/AI-Powered-Video-Tutorial-Generator/backend/requirements.txt (line 8)) (2.10.2)\n",
            "Requirement already satisfied: openapi-schema-pydantic<2.0,>=1.2 in /usr/local/lib/python3.11/dist-packages (from langchain==0.0.189->-r /content/AI-Powered-Video-Tutorial-Generator/backend/requirements.txt (line 8)) (1.2.4)\n",
            "Requirement already satisfied: tenacity<9.0.0,>=8.1.0 in /usr/local/lib/python3.11/dist-packages (from langchain==0.0.189->-r /content/AI-Powered-Video-Tutorial-Generator/backend/requirements.txt (line 8)) (8.5.0)\n",
            "Requirement already satisfied: tqdm<5.0,>=4.11.2 in /usr/local/lib/python3.11/dist-packages (from moviepy==1.0.3->-r /content/AI-Powered-Video-Tutorial-Generator/backend/requirements.txt (line 9)) (4.67.1)\n",
            "Requirement already satisfied: proglog<=1.0.0 in /usr/local/lib/python3.11/dist-packages (from moviepy==1.0.3->-r /content/AI-Powered-Video-Tutorial-Generator/backend/requirements.txt (line 9)) (0.1.10)\n",
            "Requirement already satisfied: selenium in /usr/local/lib/python3.11/dist-packages (from google-images-download==2.8.0->-r /content/AI-Powered-Video-Tutorial-Generator/backend/requirements.txt (line 12)) (4.29.0)\n",
            "Requirement already satisfied: click>=7.0 in /usr/local/lib/python3.11/dist-packages (from uvicorn==0.22.0->-r /content/AI-Powered-Video-Tutorial-Generator/backend/requirements.txt (line 13)) (8.1.8)\n",
            "Requirement already satisfied: h11>=0.8 in /usr/local/lib/python3.11/dist-packages (from uvicorn==0.22.0->-r /content/AI-Powered-Video-Tutorial-Generator/backend/requirements.txt (line 13)) (0.14.0)\n",
            "Requirement already satisfied: aiohappyeyeballs>=2.3.0 in /usr/local/lib/python3.11/dist-packages (from aiohttp<4.0,>=3.0->cohere==4.7.0->-r /content/AI-Powered-Video-Tutorial-Generator/backend/requirements.txt (line 1)) (2.5.0)\n",
            "Requirement already satisfied: aiosignal>=1.1.2 in /usr/local/lib/python3.11/dist-packages (from aiohttp<4.0,>=3.0->cohere==4.7.0->-r /content/AI-Powered-Video-Tutorial-Generator/backend/requirements.txt (line 1)) (1.3.2)\n",
            "Requirement already satisfied: attrs>=17.3.0 in /usr/local/lib/python3.11/dist-packages (from aiohttp<4.0,>=3.0->cohere==4.7.0->-r /content/AI-Powered-Video-Tutorial-Generator/backend/requirements.txt (line 1)) (25.1.0)\n",
            "Requirement already satisfied: frozenlist>=1.1.1 in /usr/local/lib/python3.11/dist-packages (from aiohttp<4.0,>=3.0->cohere==4.7.0->-r /content/AI-Powered-Video-Tutorial-Generator/backend/requirements.txt (line 1)) (1.5.0)\n",
            "Requirement already satisfied: multidict<7.0,>=4.5 in /usr/local/lib/python3.11/dist-packages (from aiohttp<4.0,>=3.0->cohere==4.7.0->-r /content/AI-Powered-Video-Tutorial-Generator/backend/requirements.txt (line 1)) (6.1.0)\n",
            "Requirement already satisfied: propcache>=0.2.0 in /usr/local/lib/python3.11/dist-packages (from aiohttp<4.0,>=3.0->cohere==4.7.0->-r /content/AI-Powered-Video-Tutorial-Generator/backend/requirements.txt (line 1)) (0.3.0)\n",
            "Requirement already satisfied: yarl<2.0,>=1.17.0 in /usr/local/lib/python3.11/dist-packages (from aiohttp<4.0,>=3.0->cohere==4.7.0->-r /content/AI-Powered-Video-Tutorial-Generator/backend/requirements.txt (line 1)) (1.18.3)\n",
            "Requirement already satisfied: marshmallow<4.0.0,>=3.18.0 in /usr/local/lib/python3.11/dist-packages (from dataclasses-json<0.6.0,>=0.5.7->langchain==0.0.189->-r /content/AI-Powered-Video-Tutorial-Generator/backend/requirements.txt (line 8)) (3.26.1)\n",
            "Requirement already satisfied: typing-inspect<1,>=0.4.0 in /usr/local/lib/python3.11/dist-packages (from dataclasses-json<0.6.0,>=0.5.7->langchain==0.0.189->-r /content/AI-Powered-Video-Tutorial-Generator/backend/requirements.txt (line 8)) (0.9.0)\n",
            "Requirement already satisfied: typing-extensions>=4.2.0 in /usr/local/lib/python3.11/dist-packages (from pydantic!=1.7,!=1.7.1,!=1.7.2,!=1.7.3,!=1.8,!=1.8.1,<2.0.0,>=1.6.2->fastapi==0.96.0->-r /content/AI-Powered-Video-Tutorial-Generator/backend/requirements.txt (line 4)) (4.12.2)\n",
            "Requirement already satisfied: charset-normalizer<4,>=2 in /usr/local/lib/python3.11/dist-packages (from requests<3.0,>=2.0->cohere==4.7.0->-r /content/AI-Powered-Video-Tutorial-Generator/backend/requirements.txt (line 1)) (3.4.1)\n",
            "Requirement already satisfied: idna<4,>=2.5 in /usr/local/lib/python3.11/dist-packages (from requests<3.0,>=2.0->cohere==4.7.0->-r /content/AI-Powered-Video-Tutorial-Generator/backend/requirements.txt (line 1)) (3.10)\n",
            "Requirement already satisfied: urllib3<3,>=1.21.1 in /usr/local/lib/python3.11/dist-packages (from requests<3.0,>=2.0->cohere==4.7.0->-r /content/AI-Powered-Video-Tutorial-Generator/backend/requirements.txt (line 1)) (2.3.0)\n",
            "Requirement already satisfied: certifi>=2017.4.17 in /usr/local/lib/python3.11/dist-packages (from requests<3.0,>=2.0->cohere==4.7.0->-r /content/AI-Powered-Video-Tutorial-Generator/backend/requirements.txt (line 1)) (2025.1.31)\n",
            "Requirement already satisfied: greenlet!=0.4.17 in /usr/local/lib/python3.11/dist-packages (from SQLAlchemy<3,>=1.4->langchain==0.0.189->-r /content/AI-Powered-Video-Tutorial-Generator/backend/requirements.txt (line 8)) (3.1.1)\n",
            "Requirement already satisfied: anyio<5,>=3.4.0 in /usr/local/lib/python3.11/dist-packages (from starlette<0.28.0,>=0.27.0->fastapi==0.96.0->-r /content/AI-Powered-Video-Tutorial-Generator/backend/requirements.txt (line 4)) (3.7.1)\n",
            "Requirement already satisfied: trio~=0.17 in /usr/local/lib/python3.11/dist-packages (from selenium->google-images-download==2.8.0->-r /content/AI-Powered-Video-Tutorial-Generator/backend/requirements.txt (line 12)) (0.29.0)\n",
            "Requirement already satisfied: trio-websocket~=0.9 in /usr/local/lib/python3.11/dist-packages (from selenium->google-images-download==2.8.0->-r /content/AI-Powered-Video-Tutorial-Generator/backend/requirements.txt (line 12)) (0.12.2)\n",
            "Requirement already satisfied: websocket-client~=1.8 in /usr/local/lib/python3.11/dist-packages (from selenium->google-images-download==2.8.0->-r /content/AI-Powered-Video-Tutorial-Generator/backend/requirements.txt (line 12)) (1.8.0)\n",
            "Requirement already satisfied: sniffio>=1.1 in /usr/local/lib/python3.11/dist-packages (from anyio<5,>=3.4.0->starlette<0.28.0,>=0.27.0->fastapi==0.96.0->-r /content/AI-Powered-Video-Tutorial-Generator/backend/requirements.txt (line 4)) (1.3.1)\n",
            "Requirement already satisfied: packaging>=17.0 in /usr/local/lib/python3.11/dist-packages (from marshmallow<4.0.0,>=3.18.0->dataclasses-json<0.6.0,>=0.5.7->langchain==0.0.189->-r /content/AI-Powered-Video-Tutorial-Generator/backend/requirements.txt (line 8)) (24.2)\n",
            "Requirement already satisfied: sortedcontainers in /usr/local/lib/python3.11/dist-packages (from trio~=0.17->selenium->google-images-download==2.8.0->-r /content/AI-Powered-Video-Tutorial-Generator/backend/requirements.txt (line 12)) (2.4.0)\n",
            "Requirement already satisfied: outcome in /usr/local/lib/python3.11/dist-packages (from trio~=0.17->selenium->google-images-download==2.8.0->-r /content/AI-Powered-Video-Tutorial-Generator/backend/requirements.txt (line 12)) (1.3.0.post0)\n",
            "Requirement already satisfied: wsproto>=0.14 in /usr/local/lib/python3.11/dist-packages (from trio-websocket~=0.9->selenium->google-images-download==2.8.0->-r /content/AI-Powered-Video-Tutorial-Generator/backend/requirements.txt (line 12)) (1.2.0)\n",
            "Requirement already satisfied: mypy-extensions>=0.3.0 in /usr/local/lib/python3.11/dist-packages (from typing-inspect<1,>=0.4.0->dataclasses-json<0.6.0,>=0.5.7->langchain==0.0.189->-r /content/AI-Powered-Video-Tutorial-Generator/backend/requirements.txt (line 8)) (1.0.0)\n",
            "Requirement already satisfied: pysocks!=1.5.7,<2.0,>=1.5.6 in /usr/local/lib/python3.11/dist-packages (from urllib3[socks]<3,>=1.26->selenium->google-images-download==2.8.0->-r /content/AI-Powered-Video-Tutorial-Generator/backend/requirements.txt (line 12)) (1.7.1)\n"
          ]
        }
      ]
    },
    {
      "cell_type": "code",
      "source": [
        "!pip uninstall pydantic langchain imageio pillow\n",
        "!pip install pydantic>=2.0.0 langchain>=0.3.20 imageio>=2.33 pillow>=10.1"
      ],
      "metadata": {
        "colab": {
          "base_uri": "https://localhost:8080/"
        },
        "id": "gKdYarYYcoIh",
        "outputId": "5f6b9e40-c9b0-4571-840c-da9079f8f75b"
      },
      "execution_count": 2,
      "outputs": [
        {
          "output_type": "stream",
          "name": "stdout",
          "text": [
            "Found existing installation: pydantic 1.10.21\n",
            "Uninstalling pydantic-1.10.21:\n",
            "  Would remove:\n",
            "    /usr/local/lib/python3.11/dist-packages/pydantic-1.10.21.dist-info/*\n",
            "    /usr/local/lib/python3.11/dist-packages/pydantic/*\n",
            "Proceed (Y/n)? Y\n",
            "  Successfully uninstalled pydantic-1.10.21\n",
            "Found existing installation: langchain 0.0.189\n",
            "Uninstalling langchain-0.0.189:\n",
            "  Would remove:\n",
            "    /usr/local/bin/langchain\n",
            "    /usr/local/bin/langchain-server\n",
            "    /usr/local/lib/python3.11/dist-packages/langchain-0.0.189.dist-info/*\n",
            "    /usr/local/lib/python3.11/dist-packages/langchain/*\n",
            "Proceed (Y/n)? Y\n",
            "  Successfully uninstalled langchain-0.0.189\n",
            "Found existing installation: imageio 2.19.3\n",
            "Uninstalling imageio-2.19.3:\n",
            "  Would remove:\n",
            "    /usr/local/bin/imageio_download_bin\n",
            "    /usr/local/bin/imageio_remove_bin\n",
            "    /usr/local/lib/python3.11/dist-packages/imageio-2.19.3.dist-info/*\n",
            "    /usr/local/lib/python3.11/dist-packages/imageio/*\n",
            "Proceed (Y/n)? Y\n",
            "  Successfully uninstalled imageio-2.19.3\n",
            "Found existing installation: Pillow 9.5.0\n",
            "Uninstalling Pillow-9.5.0:\n",
            "  Would remove:\n",
            "    /usr/local/lib/python3.11/dist-packages/PIL/*\n",
            "    /usr/local/lib/python3.11/dist-packages/Pillow-9.5.0.dist-info/*\n",
            "    /usr/local/lib/python3.11/dist-packages/Pillow.libs/libXau-154567c4.so.6.0.0\n",
            "    /usr/local/lib/python3.11/dist-packages/Pillow.libs/libbrotlicommon-92722cb2.so.1\n",
            "    /usr/local/lib/python3.11/dist-packages/Pillow.libs/libbrotlidec-db4b3db6.so.1.0.9\n",
            "    /usr/local/lib/python3.11/dist-packages/Pillow.libs/libfreetype-cb9caf6f.so.6.19.0\n",
            "    /usr/local/lib/python3.11/dist-packages/Pillow.libs/libharfbuzz-3543f599.so.0.60710.0\n",
            "    /usr/local/lib/python3.11/dist-packages/Pillow.libs/libjpeg-f2134fdd.so.62.3.0\n",
            "    /usr/local/lib/python3.11/dist-packages/Pillow.libs/liblcms2-12745711.so.2.0.15\n",
            "    /usr/local/lib/python3.11/dist-packages/Pillow.libs/liblzma-95592ee6.so.5.4.2\n",
            "    /usr/local/lib/python3.11/dist-packages/Pillow.libs/libopenjp2-78c47f58.so.2.5.0\n",
            "    /usr/local/lib/python3.11/dist-packages/Pillow.libs/libpng16-cb42a3c6.so.16.39.0\n",
            "    /usr/local/lib/python3.11/dist-packages/Pillow.libs/libsharpyuv-9340467d.so.0.0.0\n",
            "    /usr/local/lib/python3.11/dist-packages/Pillow.libs/libtiff-b9364ff1.so.6.0.0\n",
            "    /usr/local/lib/python3.11/dist-packages/Pillow.libs/libwebp-3ee34a0b.so.7.1.6\n",
            "    /usr/local/lib/python3.11/dist-packages/Pillow.libs/libwebpdemux-785dd7eb.so.2.0.12\n",
            "    /usr/local/lib/python3.11/dist-packages/Pillow.libs/libwebpmux-ddfacf1d.so.3.0.11\n",
            "    /usr/local/lib/python3.11/dist-packages/Pillow.libs/libxcb-3e83370d.so.1.1.0\n",
            "Proceed (Y/n)? Y\n",
            "  Successfully uninstalled Pillow-9.5.0\n",
            "\u001b[31mERROR: pip's dependency resolver does not currently take into account all the packages that are installed. This behaviour is the source of the following dependency conflicts.\n",
            "fastapi 0.96.0 requires pydantic!=1.7,!=1.7.1,!=1.7.2,!=1.7.3,!=1.8,!=1.8.1,<2.0.0,>=1.6.2, but you have pydantic 2.10.6 which is incompatible.\u001b[0m\u001b[31m\n",
            "\u001b[0m"
          ]
        }
      ]
    },
    {
      "cell_type": "code",
      "source": [
        "!pip install --upgrade fastapi"
      ],
      "metadata": {
        "colab": {
          "base_uri": "https://localhost:8080/"
        },
        "id": "Hu9Kx-zrdTuB",
        "outputId": "e316aaad-12d0-4bc6-bf2d-e4229357b7db"
      },
      "execution_count": 3,
      "outputs": [
        {
          "output_type": "stream",
          "name": "stdout",
          "text": [
            "Requirement already satisfied: fastapi in /usr/local/lib/python3.11/dist-packages (0.96.0)\n",
            "Collecting fastapi\n",
            "  Using cached fastapi-0.115.11-py3-none-any.whl.metadata (27 kB)\n",
            "Collecting starlette<0.47.0,>=0.40.0 (from fastapi)\n",
            "  Using cached starlette-0.46.1-py3-none-any.whl.metadata (6.2 kB)\n",
            "Requirement already satisfied: pydantic!=1.8,!=1.8.1,!=2.0.0,!=2.0.1,!=2.1.0,<3.0.0,>=1.7.4 in /usr/local/lib/python3.11/dist-packages (from fastapi) (2.10.6)\n",
            "Requirement already satisfied: typing-extensions>=4.8.0 in /usr/local/lib/python3.11/dist-packages (from fastapi) (4.12.2)\n",
            "Requirement already satisfied: annotated-types>=0.6.0 in /usr/local/lib/python3.11/dist-packages (from pydantic!=1.8,!=1.8.1,!=2.0.0,!=2.0.1,!=2.1.0,<3.0.0,>=1.7.4->fastapi) (0.7.0)\n",
            "Requirement already satisfied: pydantic-core==2.27.2 in /usr/local/lib/python3.11/dist-packages (from pydantic!=1.8,!=1.8.1,!=2.0.0,!=2.0.1,!=2.1.0,<3.0.0,>=1.7.4->fastapi) (2.27.2)\n",
            "Requirement already satisfied: anyio<5,>=3.6.2 in /usr/local/lib/python3.11/dist-packages (from starlette<0.47.0,>=0.40.0->fastapi) (3.7.1)\n",
            "Requirement already satisfied: idna>=2.8 in /usr/local/lib/python3.11/dist-packages (from anyio<5,>=3.6.2->starlette<0.47.0,>=0.40.0->fastapi) (3.10)\n",
            "Requirement already satisfied: sniffio>=1.1 in /usr/local/lib/python3.11/dist-packages (from anyio<5,>=3.6.2->starlette<0.47.0,>=0.40.0->fastapi) (1.3.1)\n",
            "Using cached fastapi-0.115.11-py3-none-any.whl (94 kB)\n",
            "Using cached starlette-0.46.1-py3-none-any.whl (71 kB)\n",
            "Installing collected packages: starlette, fastapi\n",
            "  Attempting uninstall: starlette\n",
            "    Found existing installation: starlette 0.27.0\n",
            "    Uninstalling starlette-0.27.0:\n",
            "      Successfully uninstalled starlette-0.27.0\n",
            "  Attempting uninstall: fastapi\n",
            "    Found existing installation: fastapi 0.96.0\n",
            "    Uninstalling fastapi-0.96.0:\n",
            "      Successfully uninstalled fastapi-0.96.0\n",
            "Successfully installed fastapi-0.115.11 starlette-0.46.1\n"
          ]
        }
      ]
    },
    {
      "cell_type": "code",
      "source": [
        "!pip show fastapi"
      ],
      "metadata": {
        "colab": {
          "base_uri": "https://localhost:8080/"
        },
        "id": "DDqfZxYZdYwO",
        "outputId": "c689ee64-3140-409b-cd7b-6803b5e86cd2"
      },
      "execution_count": 4,
      "outputs": [
        {
          "output_type": "stream",
          "name": "stdout",
          "text": [
            "Name: fastapi\n",
            "Version: 0.115.11\n",
            "Summary: FastAPI framework, high performance, easy to learn, fast to code, ready for production\n",
            "Home-page: https://github.com/fastapi/fastapi\n",
            "Author: \n",
            "Author-email: =?utf-8?q?Sebasti=C3=A1n_Ram=C3=ADrez?= <tiangolo@gmail.com>\n",
            "License: \n",
            "Location: /usr/local/lib/python3.11/dist-packages\n",
            "Requires: pydantic, starlette, typing-extensions\n",
            "Required-by: \n"
          ]
        }
      ]
    },
    {
      "cell_type": "code",
      "source": [
        "!pip show pydantic"
      ],
      "metadata": {
        "colab": {
          "base_uri": "https://localhost:8080/"
        },
        "id": "a-nI6-BqdjC3",
        "outputId": "7465ed45-3ba3-4725-8d94-fc1df7a197c7"
      },
      "execution_count": 5,
      "outputs": [
        {
          "output_type": "stream",
          "name": "stdout",
          "text": [
            "Name: pydantic\n",
            "Version: 2.10.6\n",
            "Summary: Data validation using Python type hints\n",
            "Home-page: https://github.com/pydantic/pydantic\n",
            "Author: \n",
            "Author-email: Samuel Colvin <s@muelcolvin.com>, Eric Jolibois <em.jolibois@gmail.com>, Hasan Ramezani <hasan.r67@gmail.com>, Adrian Garcia Badaracco <1755071+adriangb@users.noreply.github.com>, Terrence Dorsey <terry@pydantic.dev>, David Montague <david@pydantic.dev>, Serge Matveenko <lig@countzero.co>, Marcelo Trylesinski <marcelotryle@gmail.com>, Sydney Runkle <sydneymarierunkle@gmail.com>, David Hewitt <mail@davidhewitt.io>, Alex Hall <alex.mojaki@gmail.com>, Victorien Plot <contact@vctrn.dev>\n",
            "License: \n",
            "Location: /usr/local/lib/python3.11/dist-packages\n",
            "Requires: annotated-types, pydantic-core, typing-extensions\n",
            "Required-by: albumentations, confection, fastapi, google-cloud-aiplatform, google-genai, google-generativeai, langchain, langchain-core, langsmith, openai, openapi-schema-pydantic, pydantic-settings, spacy, thinc, wandb, weasel\n"
          ]
        }
      ]
    },
    {
      "cell_type": "code",
      "source": [
        "!pip install -r /content/AI-Powered-Video-Tutorial-Generator/backend/requirements.txt"
      ],
      "metadata": {
        "colab": {
          "base_uri": "https://localhost:8080/"
        },
        "id": "9QvoSYjhd1XX",
        "outputId": "e7b040fe-7994-420b-baa1-321ebc029bd3"
      },
      "execution_count": 1,
      "outputs": [
        {
          "output_type": "stream",
          "name": "stdout",
          "text": [
            "Requirement already satisfied: cohere==4.7.0 in /usr/local/lib/python3.11/dist-packages (from -r /content/AI-Powered-Video-Tutorial-Generator/backend/requirements.txt (line 1)) (4.7.0)\n",
            "Requirement already satisfied: decorator==4.4.2 in /usr/local/lib/python3.11/dist-packages (from -r /content/AI-Powered-Video-Tutorial-Generator/backend/requirements.txt (line 2)) (4.4.2)\n",
            "Requirement already satisfied: edge-tts==6.1.6 in /usr/local/lib/python3.11/dist-packages (from -r /content/AI-Powered-Video-Tutorial-Generator/backend/requirements.txt (line 3)) (6.1.6)\n",
            "Requirement already satisfied: fastapi==0.96.0 in /usr/local/lib/python3.11/dist-packages (from -r /content/AI-Powered-Video-Tutorial-Generator/backend/requirements.txt (line 4)) (0.96.0)\n",
            "Requirement already satisfied: ffmpeg==1.4 in /usr/local/lib/python3.11/dist-packages (from -r /content/AI-Powered-Video-Tutorial-Generator/backend/requirements.txt (line 5)) (1.4)\n",
            "Requirement already satisfied: imageio==2.19.3 in /usr/local/lib/python3.11/dist-packages (from -r /content/AI-Powered-Video-Tutorial-Generator/backend/requirements.txt (line 6)) (2.19.3)\n",
            "Requirement already satisfied: imageio-ffmpeg==0.4.7 in /usr/local/lib/python3.11/dist-packages (from -r /content/AI-Powered-Video-Tutorial-Generator/backend/requirements.txt (line 7)) (0.4.7)\n",
            "Requirement already satisfied: langchain==0.0.189 in /usr/local/lib/python3.11/dist-packages (from -r /content/AI-Powered-Video-Tutorial-Generator/backend/requirements.txt (line 8)) (0.0.189)\n",
            "Requirement already satisfied: moviepy==1.0.3 in /usr/local/lib/python3.11/dist-packages (from -r /content/AI-Powered-Video-Tutorial-Generator/backend/requirements.txt (line 9)) (1.0.3)\n",
            "Requirement already satisfied: opencv-python==4.7.0.72 in /usr/local/lib/python3.11/dist-packages (from -r /content/AI-Powered-Video-Tutorial-Generator/backend/requirements.txt (line 10)) (4.7.0.72)\n",
            "Requirement already satisfied: Pillow==9.5.0 in /usr/local/lib/python3.11/dist-packages (from -r /content/AI-Powered-Video-Tutorial-Generator/backend/requirements.txt (line 11)) (9.5.0)\n",
            "Requirement already satisfied: google-images-download==2.8.0 in /usr/local/lib/python3.11/dist-packages (from -r /content/AI-Powered-Video-Tutorial-Generator/backend/requirements.txt (line 12)) (2.8.0)\n",
            "Requirement already satisfied: uvicorn==0.22.0 in /usr/local/lib/python3.11/dist-packages (from -r /content/AI-Powered-Video-Tutorial-Generator/backend/requirements.txt (line 13)) (0.22.0)\n",
            "Requirement already satisfied: aiohttp<4.0,>=3.0 in /usr/local/lib/python3.11/dist-packages (from cohere==4.7.0->-r /content/AI-Powered-Video-Tutorial-Generator/backend/requirements.txt (line 1)) (3.11.13)\n",
            "Requirement already satisfied: backoff<3.0,>=2.0 in /usr/local/lib/python3.11/dist-packages (from cohere==4.7.0->-r /content/AI-Powered-Video-Tutorial-Generator/backend/requirements.txt (line 1)) (2.2.1)\n",
            "Requirement already satisfied: requests<3.0,>=2.0 in /usr/local/lib/python3.11/dist-packages (from cohere==4.7.0->-r /content/AI-Powered-Video-Tutorial-Generator/backend/requirements.txt (line 1)) (2.32.3)\n",
            "Requirement already satisfied: pydantic!=1.7,!=1.7.1,!=1.7.2,!=1.7.3,!=1.8,!=1.8.1,<2.0.0,>=1.6.2 in /usr/local/lib/python3.11/dist-packages (from fastapi==0.96.0->-r /content/AI-Powered-Video-Tutorial-Generator/backend/requirements.txt (line 4)) (1.10.21)\n",
            "Requirement already satisfied: starlette<0.28.0,>=0.27.0 in /usr/local/lib/python3.11/dist-packages (from fastapi==0.96.0->-r /content/AI-Powered-Video-Tutorial-Generator/backend/requirements.txt (line 4)) (0.27.0)\n",
            "Requirement already satisfied: numpy in /usr/local/lib/python3.11/dist-packages (from imageio==2.19.3->-r /content/AI-Powered-Video-Tutorial-Generator/backend/requirements.txt (line 6)) (1.26.4)\n",
            "Requirement already satisfied: PyYAML>=5.4.1 in /usr/local/lib/python3.11/dist-packages (from langchain==0.0.189->-r /content/AI-Powered-Video-Tutorial-Generator/backend/requirements.txt (line 8)) (6.0.2)\n",
            "Requirement already satisfied: SQLAlchemy<3,>=1.4 in /usr/local/lib/python3.11/dist-packages (from langchain==0.0.189->-r /content/AI-Powered-Video-Tutorial-Generator/backend/requirements.txt (line 8)) (2.0.38)\n",
            "Requirement already satisfied: dataclasses-json<0.6.0,>=0.5.7 in /usr/local/lib/python3.11/dist-packages (from langchain==0.0.189->-r /content/AI-Powered-Video-Tutorial-Generator/backend/requirements.txt (line 8)) (0.5.14)\n",
            "Requirement already satisfied: numexpr<3.0.0,>=2.8.4 in /usr/local/lib/python3.11/dist-packages (from langchain==0.0.189->-r /content/AI-Powered-Video-Tutorial-Generator/backend/requirements.txt (line 8)) (2.10.2)\n",
            "Requirement already satisfied: openapi-schema-pydantic<2.0,>=1.2 in /usr/local/lib/python3.11/dist-packages (from langchain==0.0.189->-r /content/AI-Powered-Video-Tutorial-Generator/backend/requirements.txt (line 8)) (1.2.4)\n",
            "Requirement already satisfied: tenacity<9.0.0,>=8.1.0 in /usr/local/lib/python3.11/dist-packages (from langchain==0.0.189->-r /content/AI-Powered-Video-Tutorial-Generator/backend/requirements.txt (line 8)) (8.5.0)\n",
            "Requirement already satisfied: tqdm<5.0,>=4.11.2 in /usr/local/lib/python3.11/dist-packages (from moviepy==1.0.3->-r /content/AI-Powered-Video-Tutorial-Generator/backend/requirements.txt (line 9)) (4.67.1)\n",
            "Requirement already satisfied: proglog<=1.0.0 in /usr/local/lib/python3.11/dist-packages (from moviepy==1.0.3->-r /content/AI-Powered-Video-Tutorial-Generator/backend/requirements.txt (line 9)) (0.1.10)\n",
            "Requirement already satisfied: selenium in /usr/local/lib/python3.11/dist-packages (from google-images-download==2.8.0->-r /content/AI-Powered-Video-Tutorial-Generator/backend/requirements.txt (line 12)) (4.29.0)\n",
            "Requirement already satisfied: click>=7.0 in /usr/local/lib/python3.11/dist-packages (from uvicorn==0.22.0->-r /content/AI-Powered-Video-Tutorial-Generator/backend/requirements.txt (line 13)) (8.1.8)\n",
            "Requirement already satisfied: h11>=0.8 in /usr/local/lib/python3.11/dist-packages (from uvicorn==0.22.0->-r /content/AI-Powered-Video-Tutorial-Generator/backend/requirements.txt (line 13)) (0.14.0)\n",
            "Requirement already satisfied: aiohappyeyeballs>=2.3.0 in /usr/local/lib/python3.11/dist-packages (from aiohttp<4.0,>=3.0->cohere==4.7.0->-r /content/AI-Powered-Video-Tutorial-Generator/backend/requirements.txt (line 1)) (2.5.0)\n",
            "Requirement already satisfied: aiosignal>=1.1.2 in /usr/local/lib/python3.11/dist-packages (from aiohttp<4.0,>=3.0->cohere==4.7.0->-r /content/AI-Powered-Video-Tutorial-Generator/backend/requirements.txt (line 1)) (1.3.2)\n",
            "Requirement already satisfied: attrs>=17.3.0 in /usr/local/lib/python3.11/dist-packages (from aiohttp<4.0,>=3.0->cohere==4.7.0->-r /content/AI-Powered-Video-Tutorial-Generator/backend/requirements.txt (line 1)) (25.1.0)\n",
            "Requirement already satisfied: frozenlist>=1.1.1 in /usr/local/lib/python3.11/dist-packages (from aiohttp<4.0,>=3.0->cohere==4.7.0->-r /content/AI-Powered-Video-Tutorial-Generator/backend/requirements.txt (line 1)) (1.5.0)\n",
            "Requirement already satisfied: multidict<7.0,>=4.5 in /usr/local/lib/python3.11/dist-packages (from aiohttp<4.0,>=3.0->cohere==4.7.0->-r /content/AI-Powered-Video-Tutorial-Generator/backend/requirements.txt (line 1)) (6.1.0)\n",
            "Requirement already satisfied: propcache>=0.2.0 in /usr/local/lib/python3.11/dist-packages (from aiohttp<4.0,>=3.0->cohere==4.7.0->-r /content/AI-Powered-Video-Tutorial-Generator/backend/requirements.txt (line 1)) (0.3.0)\n",
            "Requirement already satisfied: yarl<2.0,>=1.17.0 in /usr/local/lib/python3.11/dist-packages (from aiohttp<4.0,>=3.0->cohere==4.7.0->-r /content/AI-Powered-Video-Tutorial-Generator/backend/requirements.txt (line 1)) (1.18.3)\n",
            "Requirement already satisfied: marshmallow<4.0.0,>=3.18.0 in /usr/local/lib/python3.11/dist-packages (from dataclasses-json<0.6.0,>=0.5.7->langchain==0.0.189->-r /content/AI-Powered-Video-Tutorial-Generator/backend/requirements.txt (line 8)) (3.26.1)\n",
            "Requirement already satisfied: typing-inspect<1,>=0.4.0 in /usr/local/lib/python3.11/dist-packages (from dataclasses-json<0.6.0,>=0.5.7->langchain==0.0.189->-r /content/AI-Powered-Video-Tutorial-Generator/backend/requirements.txt (line 8)) (0.9.0)\n",
            "Requirement already satisfied: typing-extensions>=4.2.0 in /usr/local/lib/python3.11/dist-packages (from pydantic!=1.7,!=1.7.1,!=1.7.2,!=1.7.3,!=1.8,!=1.8.1,<2.0.0,>=1.6.2->fastapi==0.96.0->-r /content/AI-Powered-Video-Tutorial-Generator/backend/requirements.txt (line 4)) (4.12.2)\n",
            "Requirement already satisfied: charset-normalizer<4,>=2 in /usr/local/lib/python3.11/dist-packages (from requests<3.0,>=2.0->cohere==4.7.0->-r /content/AI-Powered-Video-Tutorial-Generator/backend/requirements.txt (line 1)) (3.4.1)\n",
            "Requirement already satisfied: idna<4,>=2.5 in /usr/local/lib/python3.11/dist-packages (from requests<3.0,>=2.0->cohere==4.7.0->-r /content/AI-Powered-Video-Tutorial-Generator/backend/requirements.txt (line 1)) (3.10)\n",
            "Requirement already satisfied: urllib3<3,>=1.21.1 in /usr/local/lib/python3.11/dist-packages (from requests<3.0,>=2.0->cohere==4.7.0->-r /content/AI-Powered-Video-Tutorial-Generator/backend/requirements.txt (line 1)) (2.3.0)\n",
            "Requirement already satisfied: certifi>=2017.4.17 in /usr/local/lib/python3.11/dist-packages (from requests<3.0,>=2.0->cohere==4.7.0->-r /content/AI-Powered-Video-Tutorial-Generator/backend/requirements.txt (line 1)) (2025.1.31)\n",
            "Requirement already satisfied: greenlet!=0.4.17 in /usr/local/lib/python3.11/dist-packages (from SQLAlchemy<3,>=1.4->langchain==0.0.189->-r /content/AI-Powered-Video-Tutorial-Generator/backend/requirements.txt (line 8)) (3.1.1)\n",
            "Requirement already satisfied: anyio<5,>=3.4.0 in /usr/local/lib/python3.11/dist-packages (from starlette<0.28.0,>=0.27.0->fastapi==0.96.0->-r /content/AI-Powered-Video-Tutorial-Generator/backend/requirements.txt (line 4)) (3.7.1)\n",
            "Requirement already satisfied: trio~=0.17 in /usr/local/lib/python3.11/dist-packages (from selenium->google-images-download==2.8.0->-r /content/AI-Powered-Video-Tutorial-Generator/backend/requirements.txt (line 12)) (0.29.0)\n",
            "Requirement already satisfied: trio-websocket~=0.9 in /usr/local/lib/python3.11/dist-packages (from selenium->google-images-download==2.8.0->-r /content/AI-Powered-Video-Tutorial-Generator/backend/requirements.txt (line 12)) (0.12.2)\n",
            "Requirement already satisfied: websocket-client~=1.8 in /usr/local/lib/python3.11/dist-packages (from selenium->google-images-download==2.8.0->-r /content/AI-Powered-Video-Tutorial-Generator/backend/requirements.txt (line 12)) (1.8.0)\n",
            "Requirement already satisfied: sniffio>=1.1 in /usr/local/lib/python3.11/dist-packages (from anyio<5,>=3.4.0->starlette<0.28.0,>=0.27.0->fastapi==0.96.0->-r /content/AI-Powered-Video-Tutorial-Generator/backend/requirements.txt (line 4)) (1.3.1)\n",
            "Requirement already satisfied: packaging>=17.0 in /usr/local/lib/python3.11/dist-packages (from marshmallow<4.0.0,>=3.18.0->dataclasses-json<0.6.0,>=0.5.7->langchain==0.0.189->-r /content/AI-Powered-Video-Tutorial-Generator/backend/requirements.txt (line 8)) (24.2)\n",
            "Requirement already satisfied: sortedcontainers in /usr/local/lib/python3.11/dist-packages (from trio~=0.17->selenium->google-images-download==2.8.0->-r /content/AI-Powered-Video-Tutorial-Generator/backend/requirements.txt (line 12)) (2.4.0)\n",
            "Requirement already satisfied: outcome in /usr/local/lib/python3.11/dist-packages (from trio~=0.17->selenium->google-images-download==2.8.0->-r /content/AI-Powered-Video-Tutorial-Generator/backend/requirements.txt (line 12)) (1.3.0.post0)\n",
            "Requirement already satisfied: wsproto>=0.14 in /usr/local/lib/python3.11/dist-packages (from trio-websocket~=0.9->selenium->google-images-download==2.8.0->-r /content/AI-Powered-Video-Tutorial-Generator/backend/requirements.txt (line 12)) (1.2.0)\n",
            "Requirement already satisfied: mypy-extensions>=0.3.0 in /usr/local/lib/python3.11/dist-packages (from typing-inspect<1,>=0.4.0->dataclasses-json<0.6.0,>=0.5.7->langchain==0.0.189->-r /content/AI-Powered-Video-Tutorial-Generator/backend/requirements.txt (line 8)) (1.0.0)\n",
            "Requirement already satisfied: pysocks!=1.5.7,<2.0,>=1.5.6 in /usr/local/lib/python3.11/dist-packages (from urllib3[socks]<3,>=1.26->selenium->google-images-download==2.8.0->-r /content/AI-Powered-Video-Tutorial-Generator/backend/requirements.txt (line 12)) (1.7.1)\n"
          ]
        }
      ]
    },
    {
      "cell_type": "code",
      "source": [
        "!pip install --upgrade fastapi"
      ],
      "metadata": {
        "colab": {
          "base_uri": "https://localhost:8080/"
        },
        "id": "Ol84q9gNesj-",
        "outputId": "e369c5db-5029-44d2-bbc5-e8e5e40aea8f"
      },
      "execution_count": 4,
      "outputs": [
        {
          "output_type": "stream",
          "name": "stdout",
          "text": [
            "Requirement already satisfied: fastapi in /usr/local/lib/python3.11/dist-packages (0.96.0)\n",
            "Collecting fastapi\n",
            "  Using cached fastapi-0.115.11-py3-none-any.whl.metadata (27 kB)\n",
            "Collecting starlette<0.47.0,>=0.40.0 (from fastapi)\n",
            "  Using cached starlette-0.46.1-py3-none-any.whl.metadata (6.2 kB)\n",
            "Requirement already satisfied: pydantic!=1.8,!=1.8.1,!=2.0.0,!=2.0.1,!=2.1.0,<3.0.0,>=1.7.4 in /usr/local/lib/python3.11/dist-packages (from fastapi) (2.10.6)\n",
            "Requirement already satisfied: typing-extensions>=4.8.0 in /usr/local/lib/python3.11/dist-packages (from fastapi) (4.12.2)\n",
            "Requirement already satisfied: annotated-types>=0.6.0 in /usr/local/lib/python3.11/dist-packages (from pydantic!=1.8,!=1.8.1,!=2.0.0,!=2.0.1,!=2.1.0,<3.0.0,>=1.7.4->fastapi) (0.7.0)\n",
            "Requirement already satisfied: pydantic-core==2.27.2 in /usr/local/lib/python3.11/dist-packages (from pydantic!=1.8,!=1.8.1,!=2.0.0,!=2.0.1,!=2.1.0,<3.0.0,>=1.7.4->fastapi) (2.27.2)\n",
            "Requirement already satisfied: anyio<5,>=3.6.2 in /usr/local/lib/python3.11/dist-packages (from starlette<0.47.0,>=0.40.0->fastapi) (3.7.1)\n",
            "Requirement already satisfied: idna>=2.8 in /usr/local/lib/python3.11/dist-packages (from anyio<5,>=3.6.2->starlette<0.47.0,>=0.40.0->fastapi) (3.10)\n",
            "Requirement already satisfied: sniffio>=1.1 in /usr/local/lib/python3.11/dist-packages (from anyio<5,>=3.6.2->starlette<0.47.0,>=0.40.0->fastapi) (1.3.1)\n",
            "Using cached fastapi-0.115.11-py3-none-any.whl (94 kB)\n",
            "Using cached starlette-0.46.1-py3-none-any.whl (71 kB)\n",
            "Installing collected packages: starlette, fastapi\n",
            "  Attempting uninstall: starlette\n",
            "    Found existing installation: starlette 0.27.0\n",
            "    Uninstalling starlette-0.27.0:\n",
            "      Successfully uninstalled starlette-0.27.0\n",
            "  Attempting uninstall: fastapi\n",
            "    Found existing installation: fastapi 0.96.0\n",
            "    Uninstalling fastapi-0.96.0:\n",
            "      Successfully uninstalled fastapi-0.96.0\n",
            "Successfully installed fastapi-0.115.11 starlette-0.46.1\n"
          ]
        }
      ]
    },
    {
      "cell_type": "code",
      "source": [
        "!pip show fastapi"
      ],
      "metadata": {
        "colab": {
          "base_uri": "https://localhost:8080/"
        },
        "id": "AJePjt64eyPC",
        "outputId": "866ccb83-f5e1-4a4c-98c4-77ad6c12f7fa"
      },
      "execution_count": 5,
      "outputs": [
        {
          "output_type": "stream",
          "name": "stdout",
          "text": [
            "Name: fastapi\n",
            "Version: 0.115.11\n",
            "Summary: FastAPI framework, high performance, easy to learn, fast to code, ready for production\n",
            "Home-page: https://github.com/fastapi/fastapi\n",
            "Author: \n",
            "Author-email: =?utf-8?q?Sebasti=C3=A1n_Ram=C3=ADrez?= <tiangolo@gmail.com>\n",
            "License: \n",
            "Location: /usr/local/lib/python3.11/dist-packages\n",
            "Requires: pydantic, starlette, typing-extensions\n",
            "Required-by: \n"
          ]
        }
      ]
    },
    {
      "cell_type": "code",
      "source": [
        "!fastapi>=0.100.0\n",
        "!pydantic>=2.0.0"
      ],
      "metadata": {
        "colab": {
          "base_uri": "https://localhost:8080/"
        },
        "id": "MplUb26we5DS",
        "outputId": "26526de4-b5dd-4724-c9d3-b05f4100eced"
      },
      "execution_count": 8,
      "outputs": [
        {
          "output_type": "stream",
          "name": "stdout",
          "text": [
            "Traceback (most recent call last):\n",
            "  File \"/usr/local/bin/fastapi\", line 8, in <module>\n",
            "    sys.exit(main())\n",
            "             ^^^^^^\n",
            "  File \"/usr/local/lib/python3.11/dist-packages/fastapi/cli.py\", line 12, in main\n",
            "    raise RuntimeError(message)  # noqa: B904\n",
            "    ^^^^^^^^^^^^^^^^^^^^^^^^^^^\n",
            "RuntimeError: To use the fastapi command, please install \"fastapi[standard]\":\n",
            "\n",
            "\tpip install \"fastapi[standard]\"\n",
            "\n",
            "/bin/bash: line 1: pydantic: command not found\n"
          ]
        }
      ]
    },
    {
      "cell_type": "code",
      "source": [
        "# Установите основные зависимости\n",
        "!pip install langchain langchain-community cohere python-magic\n",
        "\n",
        "# Запустите ваш скрипт\n",
        "!python /content/AI-Powered-Video-Tutorial-Generator/backend/main.py"
      ],
      "metadata": {
        "colab": {
          "base_uri": "https://localhost:8080/"
        },
        "id": "AOQ3WkxSLu1m",
        "outputId": "7480288b-d563-47b4-fb0d-e86ec216384c"
      },
      "execution_count": 10,
      "outputs": [
        {
          "output_type": "stream",
          "name": "stdout",
          "text": [
            "Requirement already satisfied: langchain in /usr/local/lib/python3.11/dist-packages (0.3.20)\n",
            "Requirement already satisfied: langchain-community in /usr/local/lib/python3.11/dist-packages (0.3.19)\n",
            "Requirement already satisfied: cohere in /usr/local/lib/python3.11/dist-packages (4.7.0)\n",
            "Requirement already satisfied: python-magic in /usr/local/lib/python3.11/dist-packages (0.4.27)\n",
            "Requirement already satisfied: langchain-core<1.0.0,>=0.3.41 in /usr/local/lib/python3.11/dist-packages (from langchain) (0.3.41)\n",
            "Requirement already satisfied: langchain-text-splitters<1.0.0,>=0.3.6 in /usr/local/lib/python3.11/dist-packages (from langchain) (0.3.6)\n",
            "Requirement already satisfied: langsmith<0.4,>=0.1.17 in /usr/local/lib/python3.11/dist-packages (from langchain) (0.3.11)\n",
            "Requirement already satisfied: pydantic<3.0.0,>=2.7.4 in /usr/local/lib/python3.11/dist-packages (from langchain) (2.10.6)\n",
            "Requirement already satisfied: SQLAlchemy<3,>=1.4 in /usr/local/lib/python3.11/dist-packages (from langchain) (2.0.38)\n",
            "Requirement already satisfied: requests<3,>=2 in /usr/local/lib/python3.11/dist-packages (from langchain) (2.32.3)\n",
            "Requirement already satisfied: PyYAML>=5.3 in /usr/local/lib/python3.11/dist-packages (from langchain) (6.0.2)\n",
            "Requirement already satisfied: aiohttp<4.0.0,>=3.8.3 in /usr/local/lib/python3.11/dist-packages (from langchain-community) (3.11.13)\n",
            "Requirement already satisfied: tenacity!=8.4.0,<10,>=8.1.0 in /usr/local/lib/python3.11/dist-packages (from langchain-community) (8.5.0)\n",
            "Requirement already satisfied: dataclasses-json<0.7,>=0.5.7 in /usr/local/lib/python3.11/dist-packages (from langchain-community) (0.5.14)\n",
            "Requirement already satisfied: pydantic-settings<3.0.0,>=2.4.0 in /usr/local/lib/python3.11/dist-packages (from langchain-community) (2.8.1)\n",
            "Requirement already satisfied: httpx-sse<1.0.0,>=0.4.0 in /usr/local/lib/python3.11/dist-packages (from langchain-community) (0.4.0)\n",
            "Requirement already satisfied: numpy<3,>=1.26.2 in /usr/local/lib/python3.11/dist-packages (from langchain-community) (1.26.4)\n",
            "Requirement already satisfied: backoff<3.0,>=2.0 in /usr/local/lib/python3.11/dist-packages (from cohere) (2.2.1)\n",
            "Requirement already satisfied: aiohappyeyeballs>=2.3.0 in /usr/local/lib/python3.11/dist-packages (from aiohttp<4.0.0,>=3.8.3->langchain-community) (2.5.0)\n",
            "Requirement already satisfied: aiosignal>=1.1.2 in /usr/local/lib/python3.11/dist-packages (from aiohttp<4.0.0,>=3.8.3->langchain-community) (1.3.2)\n",
            "Requirement already satisfied: attrs>=17.3.0 in /usr/local/lib/python3.11/dist-packages (from aiohttp<4.0.0,>=3.8.3->langchain-community) (25.1.0)\n",
            "Requirement already satisfied: frozenlist>=1.1.1 in /usr/local/lib/python3.11/dist-packages (from aiohttp<4.0.0,>=3.8.3->langchain-community) (1.5.0)\n",
            "Requirement already satisfied: multidict<7.0,>=4.5 in /usr/local/lib/python3.11/dist-packages (from aiohttp<4.0.0,>=3.8.3->langchain-community) (6.1.0)\n",
            "Requirement already satisfied: propcache>=0.2.0 in /usr/local/lib/python3.11/dist-packages (from aiohttp<4.0.0,>=3.8.3->langchain-community) (0.3.0)\n",
            "Requirement already satisfied: yarl<2.0,>=1.17.0 in /usr/local/lib/python3.11/dist-packages (from aiohttp<4.0.0,>=3.8.3->langchain-community) (1.18.3)\n",
            "Requirement already satisfied: marshmallow<4.0.0,>=3.18.0 in /usr/local/lib/python3.11/dist-packages (from dataclasses-json<0.7,>=0.5.7->langchain-community) (3.26.1)\n",
            "Requirement already satisfied: typing-inspect<1,>=0.4.0 in /usr/local/lib/python3.11/dist-packages (from dataclasses-json<0.7,>=0.5.7->langchain-community) (0.9.0)\n",
            "Requirement already satisfied: jsonpatch<2.0,>=1.33 in /usr/local/lib/python3.11/dist-packages (from langchain-core<1.0.0,>=0.3.41->langchain) (1.33)\n",
            "Requirement already satisfied: packaging<25,>=23.2 in /usr/local/lib/python3.11/dist-packages (from langchain-core<1.0.0,>=0.3.41->langchain) (24.2)\n",
            "Requirement already satisfied: typing-extensions>=4.7 in /usr/local/lib/python3.11/dist-packages (from langchain-core<1.0.0,>=0.3.41->langchain) (4.12.2)\n",
            "Requirement already satisfied: httpx<1,>=0.23.0 in /usr/local/lib/python3.11/dist-packages (from langsmith<0.4,>=0.1.17->langchain) (0.28.1)\n",
            "Requirement already satisfied: orjson<4.0.0,>=3.9.14 in /usr/local/lib/python3.11/dist-packages (from langsmith<0.4,>=0.1.17->langchain) (3.10.15)\n",
            "Requirement already satisfied: requests-toolbelt<2.0.0,>=1.0.0 in /usr/local/lib/python3.11/dist-packages (from langsmith<0.4,>=0.1.17->langchain) (1.0.0)\n",
            "Requirement already satisfied: zstandard<0.24.0,>=0.23.0 in /usr/local/lib/python3.11/dist-packages (from langsmith<0.4,>=0.1.17->langchain) (0.23.0)\n",
            "Requirement already satisfied: annotated-types>=0.6.0 in /usr/local/lib/python3.11/dist-packages (from pydantic<3.0.0,>=2.7.4->langchain) (0.7.0)\n",
            "Requirement already satisfied: pydantic-core==2.27.2 in /usr/local/lib/python3.11/dist-packages (from pydantic<3.0.0,>=2.7.4->langchain) (2.27.2)\n",
            "Requirement already satisfied: python-dotenv>=0.21.0 in /usr/local/lib/python3.11/dist-packages (from pydantic-settings<3.0.0,>=2.4.0->langchain-community) (1.0.1)\n",
            "Requirement already satisfied: charset-normalizer<4,>=2 in /usr/local/lib/python3.11/dist-packages (from requests<3,>=2->langchain) (3.4.1)\n",
            "Requirement already satisfied: idna<4,>=2.5 in /usr/local/lib/python3.11/dist-packages (from requests<3,>=2->langchain) (3.10)\n",
            "Requirement already satisfied: urllib3<3,>=1.21.1 in /usr/local/lib/python3.11/dist-packages (from requests<3,>=2->langchain) (2.3.0)\n",
            "Requirement already satisfied: certifi>=2017.4.17 in /usr/local/lib/python3.11/dist-packages (from requests<3,>=2->langchain) (2025.1.31)\n",
            "Requirement already satisfied: greenlet!=0.4.17 in /usr/local/lib/python3.11/dist-packages (from SQLAlchemy<3,>=1.4->langchain) (3.1.1)\n",
            "Requirement already satisfied: anyio in /usr/local/lib/python3.11/dist-packages (from httpx<1,>=0.23.0->langsmith<0.4,>=0.1.17->langchain) (3.7.1)\n",
            "Requirement already satisfied: httpcore==1.* in /usr/local/lib/python3.11/dist-packages (from httpx<1,>=0.23.0->langsmith<0.4,>=0.1.17->langchain) (1.0.7)\n",
            "Requirement already satisfied: h11<0.15,>=0.13 in /usr/local/lib/python3.11/dist-packages (from httpcore==1.*->httpx<1,>=0.23.0->langsmith<0.4,>=0.1.17->langchain) (0.14.0)\n",
            "Requirement already satisfied: jsonpointer>=1.9 in /usr/local/lib/python3.11/dist-packages (from jsonpatch<2.0,>=1.33->langchain-core<1.0.0,>=0.3.41->langchain) (3.0.0)\n",
            "Requirement already satisfied: mypy-extensions>=0.3.0 in /usr/local/lib/python3.11/dist-packages (from typing-inspect<1,>=0.4.0->dataclasses-json<0.7,>=0.5.7->langchain-community) (1.0.0)\n",
            "Requirement already satisfied: sniffio>=1.1 in /usr/local/lib/python3.11/dist-packages (from anyio->httpx<1,>=0.23.0->langsmith<0.4,>=0.1.17->langchain) (1.3.1)\n",
            "/usr/local/lib/python3.11/dist-packages/langchain/llms/__init__.py:549: LangChainDeprecationWarning: Importing LLMs from langchain is deprecated. Importing from langchain will no longer be supported as of langchain==0.2.0. Please import from langchain-community instead:\n",
            "\n",
            "`from langchain_community.llms import Cohere`.\n",
            "\n",
            "To install langchain-community run `pip install -U langchain-community`.\n",
            "  warnings.warn(\n",
            "/usr/local/lib/python3.11/dist-packages/langchain/llms/__init__.py:549: LangChainDeprecationWarning: Importing LLMs from langchain is deprecated. Importing from langchain will no longer be supported as of langchain==0.2.0. Please import from langchain-community instead:\n",
            "\n",
            "`from langchain_community.llms import Cohere`.\n",
            "\n",
            "To install langchain-community run `pip install -U langchain-community`.\n",
            "  warnings.warn(\n",
            "/usr/local/lib/python3.11/dist-packages/langchain/__init__.py:30: UserWarning: Importing PromptTemplate from langchain root module is no longer supported. Please use langchain_core.prompts.PromptTemplate instead.\n",
            "  warnings.warn(\n",
            "/usr/local/lib/python3.11/dist-packages/langchain/__init__.py:30: UserWarning: Importing LLMChain from langchain root module is no longer supported. Please use langchain.chains.LLMChain instead.\n",
            "  warnings.warn(\n",
            "Traceback (most recent call last):\n",
            "  File \"/content/AI-Powered-Video-Tutorial-Generator/backend/main.py\", line 5, in <module>\n",
            "    from functions.video_main_function import video_main\n",
            "  File \"/content/AI-Powered-Video-Tutorial-Generator/backend/functions/video_main_function.py\", line 3, in <module>\n",
            "    from functions.create_audio_image_function import create_audio_image\n",
            "  File \"/content/AI-Powered-Video-Tutorial-Generator/backend/functions/create_audio_image_function.py\", line 4, in <module>\n",
            "    from functions.get_image_function import get_image\n",
            "  File \"/content/AI-Powered-Video-Tutorial-Generator/backend/functions/get_image_function.py\", line 1, in <module>\n",
            "    from pygoogle_image import image as pi\n",
            "ModuleNotFoundError: No module named 'pygoogle_image'\n"
          ]
        }
      ]
    },
    {
      "cell_type": "code",
      "source": [],
      "metadata": {
        "id": "hARzC_HEOE6X"
      },
      "execution_count": null,
      "outputs": []
    },
    {
      "cell_type": "code",
      "source": [
        "# Установите основные зависимости\n",
        "!pip install langchain langchain-community cohere python-magic\n",
        "\n",
        "# Запустите ваш скрипт\n",
        "!python /content/AI-Powered-Video-Tutorial-Generator/backend/main.py"
      ],
      "metadata": {
        "colab": {
          "base_uri": "https://localhost:8080/"
        },
        "outputId": "7480288b-d563-47b4-fb0d-e86ec216384c",
        "id": "lStdglEzf23b"
      },
      "execution_count": null,
      "outputs": [
        {
          "output_type": "stream",
          "name": "stdout",
          "text": [
            "Requirement already satisfied: langchain in /usr/local/lib/python3.11/dist-packages (0.3.20)\n",
            "Requirement already satisfied: langchain-community in /usr/local/lib/python3.11/dist-packages (0.3.19)\n",
            "Requirement already satisfied: cohere in /usr/local/lib/python3.11/dist-packages (4.7.0)\n",
            "Requirement already satisfied: python-magic in /usr/local/lib/python3.11/dist-packages (0.4.27)\n",
            "Requirement already satisfied: langchain-core<1.0.0,>=0.3.41 in /usr/local/lib/python3.11/dist-packages (from langchain) (0.3.41)\n",
            "Requirement already satisfied: langchain-text-splitters<1.0.0,>=0.3.6 in /usr/local/lib/python3.11/dist-packages (from langchain) (0.3.6)\n",
            "Requirement already satisfied: langsmith<0.4,>=0.1.17 in /usr/local/lib/python3.11/dist-packages (from langchain) (0.3.11)\n",
            "Requirement already satisfied: pydantic<3.0.0,>=2.7.4 in /usr/local/lib/python3.11/dist-packages (from langchain) (2.10.6)\n",
            "Requirement already satisfied: SQLAlchemy<3,>=1.4 in /usr/local/lib/python3.11/dist-packages (from langchain) (2.0.38)\n",
            "Requirement already satisfied: requests<3,>=2 in /usr/local/lib/python3.11/dist-packages (from langchain) (2.32.3)\n",
            "Requirement already satisfied: PyYAML>=5.3 in /usr/local/lib/python3.11/dist-packages (from langchain) (6.0.2)\n",
            "Requirement already satisfied: aiohttp<4.0.0,>=3.8.3 in /usr/local/lib/python3.11/dist-packages (from langchain-community) (3.11.13)\n",
            "Requirement already satisfied: tenacity!=8.4.0,<10,>=8.1.0 in /usr/local/lib/python3.11/dist-packages (from langchain-community) (8.5.0)\n",
            "Requirement already satisfied: dataclasses-json<0.7,>=0.5.7 in /usr/local/lib/python3.11/dist-packages (from langchain-community) (0.5.14)\n",
            "Requirement already satisfied: pydantic-settings<3.0.0,>=2.4.0 in /usr/local/lib/python3.11/dist-packages (from langchain-community) (2.8.1)\n",
            "Requirement already satisfied: httpx-sse<1.0.0,>=0.4.0 in /usr/local/lib/python3.11/dist-packages (from langchain-community) (0.4.0)\n",
            "Requirement already satisfied: numpy<3,>=1.26.2 in /usr/local/lib/python3.11/dist-packages (from langchain-community) (1.26.4)\n",
            "Requirement already satisfied: backoff<3.0,>=2.0 in /usr/local/lib/python3.11/dist-packages (from cohere) (2.2.1)\n",
            "Requirement already satisfied: aiohappyeyeballs>=2.3.0 in /usr/local/lib/python3.11/dist-packages (from aiohttp<4.0.0,>=3.8.3->langchain-community) (2.5.0)\n",
            "Requirement already satisfied: aiosignal>=1.1.2 in /usr/local/lib/python3.11/dist-packages (from aiohttp<4.0.0,>=3.8.3->langchain-community) (1.3.2)\n",
            "Requirement already satisfied: attrs>=17.3.0 in /usr/local/lib/python3.11/dist-packages (from aiohttp<4.0.0,>=3.8.3->langchain-community) (25.1.0)\n",
            "Requirement already satisfied: frozenlist>=1.1.1 in /usr/local/lib/python3.11/dist-packages (from aiohttp<4.0.0,>=3.8.3->langchain-community) (1.5.0)\n",
            "Requirement already satisfied: multidict<7.0,>=4.5 in /usr/local/lib/python3.11/dist-packages (from aiohttp<4.0.0,>=3.8.3->langchain-community) (6.1.0)\n",
            "Requirement already satisfied: propcache>=0.2.0 in /usr/local/lib/python3.11/dist-packages (from aiohttp<4.0.0,>=3.8.3->langchain-community) (0.3.0)\n",
            "Requirement already satisfied: yarl<2.0,>=1.17.0 in /usr/local/lib/python3.11/dist-packages (from aiohttp<4.0.0,>=3.8.3->langchain-community) (1.18.3)\n",
            "Requirement already satisfied: marshmallow<4.0.0,>=3.18.0 in /usr/local/lib/python3.11/dist-packages (from dataclasses-json<0.7,>=0.5.7->langchain-community) (3.26.1)\n",
            "Requirement already satisfied: typing-inspect<1,>=0.4.0 in /usr/local/lib/python3.11/dist-packages (from dataclasses-json<0.7,>=0.5.7->langchain-community) (0.9.0)\n",
            "Requirement already satisfied: jsonpatch<2.0,>=1.33 in /usr/local/lib/python3.11/dist-packages (from langchain-core<1.0.0,>=0.3.41->langchain) (1.33)\n",
            "Requirement already satisfied: packaging<25,>=23.2 in /usr/local/lib/python3.11/dist-packages (from langchain-core<1.0.0,>=0.3.41->langchain) (24.2)\n",
            "Requirement already satisfied: typing-extensions>=4.7 in /usr/local/lib/python3.11/dist-packages (from langchain-core<1.0.0,>=0.3.41->langchain) (4.12.2)\n",
            "Requirement already satisfied: httpx<1,>=0.23.0 in /usr/local/lib/python3.11/dist-packages (from langsmith<0.4,>=0.1.17->langchain) (0.28.1)\n",
            "Requirement already satisfied: orjson<4.0.0,>=3.9.14 in /usr/local/lib/python3.11/dist-packages (from langsmith<0.4,>=0.1.17->langchain) (3.10.15)\n",
            "Requirement already satisfied: requests-toolbelt<2.0.0,>=1.0.0 in /usr/local/lib/python3.11/dist-packages (from langsmith<0.4,>=0.1.17->langchain) (1.0.0)\n",
            "Requirement already satisfied: zstandard<0.24.0,>=0.23.0 in /usr/local/lib/python3.11/dist-packages (from langsmith<0.4,>=0.1.17->langchain) (0.23.0)\n",
            "Requirement already satisfied: annotated-types>=0.6.0 in /usr/local/lib/python3.11/dist-packages (from pydantic<3.0.0,>=2.7.4->langchain) (0.7.0)\n",
            "Requirement already satisfied: pydantic-core==2.27.2 in /usr/local/lib/python3.11/dist-packages (from pydantic<3.0.0,>=2.7.4->langchain) (2.27.2)\n",
            "Requirement already satisfied: python-dotenv>=0.21.0 in /usr/local/lib/python3.11/dist-packages (from pydantic-settings<3.0.0,>=2.4.0->langchain-community) (1.0.1)\n",
            "Requirement already satisfied: charset-normalizer<4,>=2 in /usr/local/lib/python3.11/dist-packages (from requests<3,>=2->langchain) (3.4.1)\n",
            "Requirement already satisfied: idna<4,>=2.5 in /usr/local/lib/python3.11/dist-packages (from requests<3,>=2->langchain) (3.10)\n",
            "Requirement already satisfied: urllib3<3,>=1.21.1 in /usr/local/lib/python3.11/dist-packages (from requests<3,>=2->langchain) (2.3.0)\n",
            "Requirement already satisfied: certifi>=2017.4.17 in /usr/local/lib/python3.11/dist-packages (from requests<3,>=2->langchain) (2025.1.31)\n",
            "Requirement already satisfied: greenlet!=0.4.17 in /usr/local/lib/python3.11/dist-packages (from SQLAlchemy<3,>=1.4->langchain) (3.1.1)\n",
            "Requirement already satisfied: anyio in /usr/local/lib/python3.11/dist-packages (from httpx<1,>=0.23.0->langsmith<0.4,>=0.1.17->langchain) (3.7.1)\n",
            "Requirement already satisfied: httpcore==1.* in /usr/local/lib/python3.11/dist-packages (from httpx<1,>=0.23.0->langsmith<0.4,>=0.1.17->langchain) (1.0.7)\n",
            "Requirement already satisfied: h11<0.15,>=0.13 in /usr/local/lib/python3.11/dist-packages (from httpcore==1.*->httpx<1,>=0.23.0->langsmith<0.4,>=0.1.17->langchain) (0.14.0)\n",
            "Requirement already satisfied: jsonpointer>=1.9 in /usr/local/lib/python3.11/dist-packages (from jsonpatch<2.0,>=1.33->langchain-core<1.0.0,>=0.3.41->langchain) (3.0.0)\n",
            "Requirement already satisfied: mypy-extensions>=0.3.0 in /usr/local/lib/python3.11/dist-packages (from typing-inspect<1,>=0.4.0->dataclasses-json<0.7,>=0.5.7->langchain-community) (1.0.0)\n",
            "Requirement already satisfied: sniffio>=1.1 in /usr/local/lib/python3.11/dist-packages (from anyio->httpx<1,>=0.23.0->langsmith<0.4,>=0.1.17->langchain) (1.3.1)\n",
            "/usr/local/lib/python3.11/dist-packages/langchain/llms/__init__.py:549: LangChainDeprecationWarning: Importing LLMs from langchain is deprecated. Importing from langchain will no longer be supported as of langchain==0.2.0. Please import from langchain-community instead:\n",
            "\n",
            "`from langchain_community.llms import Cohere`.\n",
            "\n",
            "To install langchain-community run `pip install -U langchain-community`.\n",
            "  warnings.warn(\n",
            "/usr/local/lib/python3.11/dist-packages/langchain/llms/__init__.py:549: LangChainDeprecationWarning: Importing LLMs from langchain is deprecated. Importing from langchain will no longer be supported as of langchain==0.2.0. Please import from langchain-community instead:\n",
            "\n",
            "`from langchain_community.llms import Cohere`.\n",
            "\n",
            "To install langchain-community run `pip install -U langchain-community`.\n",
            "  warnings.warn(\n",
            "/usr/local/lib/python3.11/dist-packages/langchain/__init__.py:30: UserWarning: Importing PromptTemplate from langchain root module is no longer supported. Please use langchain_core.prompts.PromptTemplate instead.\n",
            "  warnings.warn(\n",
            "/usr/local/lib/python3.11/dist-packages/langchain/__init__.py:30: UserWarning: Importing LLMChain from langchain root module is no longer supported. Please use langchain.chains.LLMChain instead.\n",
            "  warnings.warn(\n",
            "Traceback (most recent call last):\n",
            "  File \"/content/AI-Powered-Video-Tutorial-Generator/backend/main.py\", line 5, in <module>\n",
            "    from functions.video_main_function import video_main\n",
            "  File \"/content/AI-Powered-Video-Tutorial-Generator/backend/functions/video_main_function.py\", line 3, in <module>\n",
            "    from functions.create_audio_image_function import create_audio_image\n",
            "  File \"/content/AI-Powered-Video-Tutorial-Generator/backend/functions/create_audio_image_function.py\", line 4, in <module>\n",
            "    from functions.get_image_function import get_image\n",
            "  File \"/content/AI-Powered-Video-Tutorial-Generator/backend/functions/get_image_function.py\", line 1, in <module>\n",
            "    from pygoogle_image import image as pi\n",
            "ModuleNotFoundError: No module named 'pygoogle_image'\n"
          ]
        }
      ]
    },
    {
      "cell_type": "code",
      "source": [],
      "metadata": {
        "id": "FrLwJvE7f4fu"
      },
      "execution_count": null,
      "outputs": []
    },
    {
      "cell_type": "code",
      "source": [
        "# Установите основные зависимости\n",
        "!pip install langchain langchain-community cohere python-magic\n",
        "\n",
        "# Запустите ваш скрипт\n",
        "!python /content/AI-Powered-Video-Tutorial-Generator/backend/main.py"
      ],
      "metadata": {
        "colab": {
          "base_uri": "https://localhost:8080/"
        },
        "outputId": "7480288b-d563-47b4-fb0d-e86ec216384c",
        "id": "MiV1Dl4pf5Tr"
      },
      "execution_count": null,
      "outputs": [
        {
          "output_type": "stream",
          "name": "stdout",
          "text": [
            "Requirement already satisfied: langchain in /usr/local/lib/python3.11/dist-packages (0.3.20)\n",
            "Requirement already satisfied: langchain-community in /usr/local/lib/python3.11/dist-packages (0.3.19)\n",
            "Requirement already satisfied: cohere in /usr/local/lib/python3.11/dist-packages (4.7.0)\n",
            "Requirement already satisfied: python-magic in /usr/local/lib/python3.11/dist-packages (0.4.27)\n",
            "Requirement already satisfied: langchain-core<1.0.0,>=0.3.41 in /usr/local/lib/python3.11/dist-packages (from langchain) (0.3.41)\n",
            "Requirement already satisfied: langchain-text-splitters<1.0.0,>=0.3.6 in /usr/local/lib/python3.11/dist-packages (from langchain) (0.3.6)\n",
            "Requirement already satisfied: langsmith<0.4,>=0.1.17 in /usr/local/lib/python3.11/dist-packages (from langchain) (0.3.11)\n",
            "Requirement already satisfied: pydantic<3.0.0,>=2.7.4 in /usr/local/lib/python3.11/dist-packages (from langchain) (2.10.6)\n",
            "Requirement already satisfied: SQLAlchemy<3,>=1.4 in /usr/local/lib/python3.11/dist-packages (from langchain) (2.0.38)\n",
            "Requirement already satisfied: requests<3,>=2 in /usr/local/lib/python3.11/dist-packages (from langchain) (2.32.3)\n",
            "Requirement already satisfied: PyYAML>=5.3 in /usr/local/lib/python3.11/dist-packages (from langchain) (6.0.2)\n",
            "Requirement already satisfied: aiohttp<4.0.0,>=3.8.3 in /usr/local/lib/python3.11/dist-packages (from langchain-community) (3.11.13)\n",
            "Requirement already satisfied: tenacity!=8.4.0,<10,>=8.1.0 in /usr/local/lib/python3.11/dist-packages (from langchain-community) (8.5.0)\n",
            "Requirement already satisfied: dataclasses-json<0.7,>=0.5.7 in /usr/local/lib/python3.11/dist-packages (from langchain-community) (0.5.14)\n",
            "Requirement already satisfied: pydantic-settings<3.0.0,>=2.4.0 in /usr/local/lib/python3.11/dist-packages (from langchain-community) (2.8.1)\n",
            "Requirement already satisfied: httpx-sse<1.0.0,>=0.4.0 in /usr/local/lib/python3.11/dist-packages (from langchain-community) (0.4.0)\n",
            "Requirement already satisfied: numpy<3,>=1.26.2 in /usr/local/lib/python3.11/dist-packages (from langchain-community) (1.26.4)\n",
            "Requirement already satisfied: backoff<3.0,>=2.0 in /usr/local/lib/python3.11/dist-packages (from cohere) (2.2.1)\n",
            "Requirement already satisfied: aiohappyeyeballs>=2.3.0 in /usr/local/lib/python3.11/dist-packages (from aiohttp<4.0.0,>=3.8.3->langchain-community) (2.5.0)\n",
            "Requirement already satisfied: aiosignal>=1.1.2 in /usr/local/lib/python3.11/dist-packages (from aiohttp<4.0.0,>=3.8.3->langchain-community) (1.3.2)\n",
            "Requirement already satisfied: attrs>=17.3.0 in /usr/local/lib/python3.11/dist-packages (from aiohttp<4.0.0,>=3.8.3->langchain-community) (25.1.0)\n",
            "Requirement already satisfied: frozenlist>=1.1.1 in /usr/local/lib/python3.11/dist-packages (from aiohttp<4.0.0,>=3.8.3->langchain-community) (1.5.0)\n",
            "Requirement already satisfied: multidict<7.0,>=4.5 in /usr/local/lib/python3.11/dist-packages (from aiohttp<4.0.0,>=3.8.3->langchain-community) (6.1.0)\n",
            "Requirement already satisfied: propcache>=0.2.0 in /usr/local/lib/python3.11/dist-packages (from aiohttp<4.0.0,>=3.8.3->langchain-community) (0.3.0)\n",
            "Requirement already satisfied: yarl<2.0,>=1.17.0 in /usr/local/lib/python3.11/dist-packages (from aiohttp<4.0.0,>=3.8.3->langchain-community) (1.18.3)\n",
            "Requirement already satisfied: marshmallow<4.0.0,>=3.18.0 in /usr/local/lib/python3.11/dist-packages (from dataclasses-json<0.7,>=0.5.7->langchain-community) (3.26.1)\n",
            "Requirement already satisfied: typing-inspect<1,>=0.4.0 in /usr/local/lib/python3.11/dist-packages (from dataclasses-json<0.7,>=0.5.7->langchain-community) (0.9.0)\n",
            "Requirement already satisfied: jsonpatch<2.0,>=1.33 in /usr/local/lib/python3.11/dist-packages (from langchain-core<1.0.0,>=0.3.41->langchain) (1.33)\n",
            "Requirement already satisfied: packaging<25,>=23.2 in /usr/local/lib/python3.11/dist-packages (from langchain-core<1.0.0,>=0.3.41->langchain) (24.2)\n",
            "Requirement already satisfied: typing-extensions>=4.7 in /usr/local/lib/python3.11/dist-packages (from langchain-core<1.0.0,>=0.3.41->langchain) (4.12.2)\n",
            "Requirement already satisfied: httpx<1,>=0.23.0 in /usr/local/lib/python3.11/dist-packages (from langsmith<0.4,>=0.1.17->langchain) (0.28.1)\n",
            "Requirement already satisfied: orjson<4.0.0,>=3.9.14 in /usr/local/lib/python3.11/dist-packages (from langsmith<0.4,>=0.1.17->langchain) (3.10.15)\n",
            "Requirement already satisfied: requests-toolbelt<2.0.0,>=1.0.0 in /usr/local/lib/python3.11/dist-packages (from langsmith<0.4,>=0.1.17->langchain) (1.0.0)\n",
            "Requirement already satisfied: zstandard<0.24.0,>=0.23.0 in /usr/local/lib/python3.11/dist-packages (from langsmith<0.4,>=0.1.17->langchain) (0.23.0)\n",
            "Requirement already satisfied: annotated-types>=0.6.0 in /usr/local/lib/python3.11/dist-packages (from pydantic<3.0.0,>=2.7.4->langchain) (0.7.0)\n",
            "Requirement already satisfied: pydantic-core==2.27.2 in /usr/local/lib/python3.11/dist-packages (from pydantic<3.0.0,>=2.7.4->langchain) (2.27.2)\n",
            "Requirement already satisfied: python-dotenv>=0.21.0 in /usr/local/lib/python3.11/dist-packages (from pydantic-settings<3.0.0,>=2.4.0->langchain-community) (1.0.1)\n",
            "Requirement already satisfied: charset-normalizer<4,>=2 in /usr/local/lib/python3.11/dist-packages (from requests<3,>=2->langchain) (3.4.1)\n",
            "Requirement already satisfied: idna<4,>=2.5 in /usr/local/lib/python3.11/dist-packages (from requests<3,>=2->langchain) (3.10)\n",
            "Requirement already satisfied: urllib3<3,>=1.21.1 in /usr/local/lib/python3.11/dist-packages (from requests<3,>=2->langchain) (2.3.0)\n",
            "Requirement already satisfied: certifi>=2017.4.17 in /usr/local/lib/python3.11/dist-packages (from requests<3,>=2->langchain) (2025.1.31)\n",
            "Requirement already satisfied: greenlet!=0.4.17 in /usr/local/lib/python3.11/dist-packages (from SQLAlchemy<3,>=1.4->langchain) (3.1.1)\n",
            "Requirement already satisfied: anyio in /usr/local/lib/python3.11/dist-packages (from httpx<1,>=0.23.0->langsmith<0.4,>=0.1.17->langchain) (3.7.1)\n",
            "Requirement already satisfied: httpcore==1.* in /usr/local/lib/python3.11/dist-packages (from httpx<1,>=0.23.0->langsmith<0.4,>=0.1.17->langchain) (1.0.7)\n",
            "Requirement already satisfied: h11<0.15,>=0.13 in /usr/local/lib/python3.11/dist-packages (from httpcore==1.*->httpx<1,>=0.23.0->langsmith<0.4,>=0.1.17->langchain) (0.14.0)\n",
            "Requirement already satisfied: jsonpointer>=1.9 in /usr/local/lib/python3.11/dist-packages (from jsonpatch<2.0,>=1.33->langchain-core<1.0.0,>=0.3.41->langchain) (3.0.0)\n",
            "Requirement already satisfied: mypy-extensions>=0.3.0 in /usr/local/lib/python3.11/dist-packages (from typing-inspect<1,>=0.4.0->dataclasses-json<0.7,>=0.5.7->langchain-community) (1.0.0)\n",
            "Requirement already satisfied: sniffio>=1.1 in /usr/local/lib/python3.11/dist-packages (from anyio->httpx<1,>=0.23.0->langsmith<0.4,>=0.1.17->langchain) (1.3.1)\n",
            "/usr/local/lib/python3.11/dist-packages/langchain/llms/__init__.py:549: LangChainDeprecationWarning: Importing LLMs from langchain is deprecated. Importing from langchain will no longer be supported as of langchain==0.2.0. Please import from langchain-community instead:\n",
            "\n",
            "`from langchain_community.llms import Cohere`.\n",
            "\n",
            "To install langchain-community run `pip install -U langchain-community`.\n",
            "  warnings.warn(\n",
            "/usr/local/lib/python3.11/dist-packages/langchain/llms/__init__.py:549: LangChainDeprecationWarning: Importing LLMs from langchain is deprecated. Importing from langchain will no longer be supported as of langchain==0.2.0. Please import from langchain-community instead:\n",
            "\n",
            "`from langchain_community.llms import Cohere`.\n",
            "\n",
            "To install langchain-community run `pip install -U langchain-community`.\n",
            "  warnings.warn(\n",
            "/usr/local/lib/python3.11/dist-packages/langchain/__init__.py:30: UserWarning: Importing PromptTemplate from langchain root module is no longer supported. Please use langchain_core.prompts.PromptTemplate instead.\n",
            "  warnings.warn(\n",
            "/usr/local/lib/python3.11/dist-packages/langchain/__init__.py:30: UserWarning: Importing LLMChain from langchain root module is no longer supported. Please use langchain.chains.LLMChain instead.\n",
            "  warnings.warn(\n",
            "Traceback (most recent call last):\n",
            "  File \"/content/AI-Powered-Video-Tutorial-Generator/backend/main.py\", line 5, in <module>\n",
            "    from functions.video_main_function import video_main\n",
            "  File \"/content/AI-Powered-Video-Tutorial-Generator/backend/functions/video_main_function.py\", line 3, in <module>\n",
            "    from functions.create_audio_image_function import create_audio_image\n",
            "  File \"/content/AI-Powered-Video-Tutorial-Generator/backend/functions/create_audio_image_function.py\", line 4, in <module>\n",
            "    from functions.get_image_function import get_image\n",
            "  File \"/content/AI-Powered-Video-Tutorial-Generator/backend/functions/get_image_function.py\", line 1, in <module>\n",
            "    from pygoogle_image import image as pi\n",
            "ModuleNotFoundError: No module named 'pygoogle_image'\n"
          ]
        }
      ]
    },
    {
      "cell_type": "code",
      "source": [
        "# Запустите ваш скрипт\n",
        "!python /content/AI-Powered-Video-Tutorial-Generator/backend/main.py"
      ],
      "metadata": {
        "colab": {
          "base_uri": "https://localhost:8080/"
        },
        "id": "nSB-UwfIgBum",
        "outputId": "ea694107-a0ae-4bf1-8333-1139fe3e05b7"
      },
      "execution_count": 11,
      "outputs": [
        {
          "output_type": "stream",
          "name": "stdout",
          "text": [
            "/usr/local/lib/python3.11/dist-packages/langchain/llms/__init__.py:549: LangChainDeprecationWarning: Importing LLMs from langchain is deprecated. Importing from langchain will no longer be supported as of langchain==0.2.0. Please import from langchain-community instead:\n",
            "\n",
            "`from langchain_community.llms import Cohere`.\n",
            "\n",
            "To install langchain-community run `pip install -U langchain-community`.\n",
            "  warnings.warn(\n",
            "/usr/local/lib/python3.11/dist-packages/langchain/llms/__init__.py:549: LangChainDeprecationWarning: Importing LLMs from langchain is deprecated. Importing from langchain will no longer be supported as of langchain==0.2.0. Please import from langchain-community instead:\n",
            "\n",
            "`from langchain_community.llms import Cohere`.\n",
            "\n",
            "To install langchain-community run `pip install -U langchain-community`.\n",
            "  warnings.warn(\n",
            "/usr/local/lib/python3.11/dist-packages/langchain/__init__.py:30: UserWarning: Importing PromptTemplate from langchain root module is no longer supported. Please use langchain_core.prompts.PromptTemplate instead.\n",
            "  warnings.warn(\n",
            "/usr/local/lib/python3.11/dist-packages/langchain/__init__.py:30: UserWarning: Importing LLMChain from langchain root module is no longer supported. Please use langchain.chains.LLMChain instead.\n",
            "  warnings.warn(\n",
            "Traceback (most recent call last):\n",
            "  File \"/content/AI-Powered-Video-Tutorial-Generator/backend/main.py\", line 5, in <module>\n",
            "    from functions.video_main_function import video_main\n",
            "  File \"/content/AI-Powered-Video-Tutorial-Generator/backend/functions/video_main_function.py\", line 3, in <module>\n",
            "    from functions.create_audio_image_function import create_audio_image\n",
            "  File \"/content/AI-Powered-Video-Tutorial-Generator/backend/functions/create_audio_image_function.py\", line 4, in <module>\n",
            "    from functions.get_image_function import get_image\n",
            "  File \"/content/AI-Powered-Video-Tutorial-Generator/backend/functions/get_image_function.py\", line 1, in <module>\n",
            "    from pygoogle_image import image as pi\n",
            "ModuleNotFoundError: No module named 'pygoogle_image'\n"
          ]
        }
      ]
    }
  ]
}